{
 "cells": [
  {
   "cell_type": "markdown",
   "id": "849faf1a",
   "metadata": {},
   "source": [
    "##  Sum of N Natural Numbers:"
   ]
  },
  {
   "cell_type": "code",
   "execution_count": 2,
   "id": "f1d7c43c",
   "metadata": {},
   "outputs": [
    {
     "name": "stdout",
     "output_type": "stream",
     "text": [
      "enter a number: 15\n"
     ]
    },
    {
     "data": {
      "text/html": [
       "'The sum is:  120'"
      ],
      "text/latex": [
       "'The sum is:  120'"
      ],
      "text/markdown": [
       "'The sum is:  120'"
      ],
      "text/plain": [
       "[1] \"The sum is:  120\""
      ]
     },
     "metadata": {},
     "output_type": "display_data"
    }
   ],
   "source": [
    "a=as.numeric(readline(\"enter a number: \"))\n",
    "b=0\n",
    "while(a>0)\n",
    "    {\n",
    "    b=b+a\n",
    "    a=a-1\n",
    "}\n",
    "paste(\"The sum is: \",b)"
   ]
  },
  {
   "cell_type": "markdown",
   "id": "8d04a452",
   "metadata": {},
   "source": [
    "## Find the Factorial of a given number:"
   ]
  },
  {
   "cell_type": "code",
   "execution_count": 4,
   "id": "318e4785",
   "metadata": {},
   "outputs": [
    {
     "name": "stdout",
     "output_type": "stream",
     "text": [
      "enter a number: 12\n"
     ]
    },
    {
     "data": {
      "text/html": [
       "479001600"
      ],
      "text/latex": [
       "479001600"
      ],
      "text/markdown": [
       "479001600"
      ],
      "text/plain": [
       "[1] 479001600"
      ]
     },
     "metadata": {},
     "output_type": "display_data"
    }
   ],
   "source": [
    "fact= function(numb){\n",
    "  if(numb==1){\n",
    "    return(1)\n",
    "  }else{\n",
    "    return (numb*fact(numb-1))\n",
    "  }\n",
    "}\n",
    "n = as.integer(readline(\"enter a number: \"))\n",
    "fact(n)"
   ]
  },
  {
   "cell_type": "markdown",
   "id": "2d59d867",
   "metadata": {},
   "source": [
    "## Get the Term 1 result details and Sort it in order:"
   ]
  },
  {
   "cell_type": "code",
   "execution_count": null,
   "id": "d0c7f1f3",
   "metadata": {},
   "outputs": [],
   "source": [
    "name=c()\n",
    "result=c()\n",
    "name=readline()"
   ]
  },
  {
   "cell_type": "markdown",
   "id": "f0d02fae",
   "metadata": {},
   "source": [
    "## Create the elective course form and get the Unique ID, Name, Subject and if the subject is empty assign the value as \"DataScience\" :"
   ]
  },
  {
   "cell_type": "code",
   "execution_count": 5,
   "id": "67dc13b0",
   "metadata": {},
   "outputs": [
    {
     "name": "stdout",
     "output_type": "stream",
     "text": [
      "Enter the name: nanthiesh\n",
      "Enter the UniqueID: E012015\n",
      "Enter the department: AIML\n",
      "Enter your Subject: Java\n",
      "[1] \"nanthiesh\"\n",
      "[1] \"E012015\"\n",
      "[1] \"AIML\"\n",
      "[1] \"Java\"\n"
     ]
    }
   ],
   "source": [
    "elective = function(name,uniqueid, dept, subject=\"DS\")\n",
    "    {\n",
    "    print(name)\n",
    "    print(uniqueid)\n",
    "    print(dept)\n",
    "    print(subject)\n",
    "}\n",
    "n= readline(\"Enter the name: \")\n",
    "m= readline(\"Enter the UniqueID: \")\n",
    "o= readline(\"Enter the department: \")\n",
    "p= readline(\"Enter your Subject: \")\n",
    "if(p==\"\")\n",
    "    {\n",
    "    elective(n,m,o)\n",
    "} else{\n",
    "    elective(n,m,o,p)\n",
    "}"
   ]
  },
  {
   "cell_type": "code",
   "execution_count": 7,
   "id": "41a61629",
   "metadata": {},
   "outputs": [
    {
     "name": "stdout",
     "output_type": "stream",
     "text": [
      "Enter the name: Nanthiesh\n",
      "Enter the UniqueID: E0121015\n",
      "Enter the department: AIML\n",
      "Enter your Subject: \n",
      "[1] \"Nanthiesh\"\n",
      "[1] \"E0121015\"\n",
      "[1] \"AIML\"\n",
      "[1] \"DataScience\"\n"
     ]
    }
   ],
   "source": [
    "elective = function(name,uniqueid, dept, subject=\"DataScience\")\n",
    "    {\n",
    "    print(name)\n",
    "    print(uniqueid)\n",
    "    print(dept)\n",
    "    print(subject)\n",
    "}\n",
    "n= readline(\"Enter the name: \")\n",
    "m= readline(\"Enter the UniqueID: \")\n",
    "o= readline(\"Enter the department: \")\n",
    "p= readline(\"Enter your Subject: \")\n",
    "if(p==\"\")\n",
    "    {\n",
    "    elective(n,m,o)\n",
    "} else{\n",
    "    elective(n,m,o,p)\n",
    "}"
   ]
  },
  {
   "cell_type": "markdown",
   "id": "4eaf91f2",
   "metadata": {},
   "source": [
    "## Write a R code to check whether the given card number is is valid or not by considering the following properties of the credit card number:\n",
    "\n",
    "                    (a) It will start with 4 or 7 or 9\n",
    "                    (b) It will have 16 digits\n",
    "                    (c) It will not end with 00"
   ]
  },
  {
   "cell_type": "code",
   "execution_count": null,
   "id": "86e19045",
   "metadata": {},
   "outputs": [],
   "source": []
  },
  {
   "cell_type": "markdown",
   "id": "875b87ab",
   "metadata": {},
   "source": [
    "# Reading a .CSV File:"
   ]
  },
  {
   "cell_type": "code",
   "execution_count": 9,
   "id": "122992e4",
   "metadata": {},
   "outputs": [
    {
     "data": {
      "text/html": [
       "<table>\n",
       "<thead><tr><th scope=col>EMPLOYEE_ID</th><th scope=col>FIRST_NAME</th><th scope=col>LAST_NAME</th><th scope=col>EMAIL</th><th scope=col>PHONE_NUMBER</th><th scope=col>HIRE_DATE</th><th scope=col>JOB_ID</th><th scope=col>SALARY</th><th scope=col>MANAGER_ID</th><th scope=col>DEPARTMENT_ID</th></tr></thead>\n",
       "<tbody>\n",
       "\t<tr><td>198         </td><td>Donald      </td><td>OConnell    </td><td>DOCONNEL    </td><td>650.507.9833</td><td>21-Jun-07   </td><td>SH_CLERK    </td><td> 2600       </td><td>124         </td><td> 50         </td></tr>\n",
       "\t<tr><td>199         </td><td>Douglas     </td><td>Grant       </td><td>DGRANT      </td><td>650.507.9844</td><td>13-Jan-08   </td><td>SH_CLERK    </td><td> 2600       </td><td>124         </td><td> 50         </td></tr>\n",
       "\t<tr><td>200         </td><td>Jennifer    </td><td>Whalen      </td><td>JWHALEN     </td><td>515.123.4444</td><td>17-Sep-03   </td><td>AD_ASST     </td><td> 4400       </td><td>101         </td><td> 10         </td></tr>\n",
       "\t<tr><td>201         </td><td>Michael     </td><td>Hartstein   </td><td>MHARTSTE    </td><td>515.123.5555</td><td>17-Feb-04   </td><td>MK_MAN      </td><td>13000       </td><td>100         </td><td> 20         </td></tr>\n",
       "\t<tr><td>202         </td><td>Pat         </td><td>Fay         </td><td>PFAY        </td><td>603.123.6666</td><td>17-Aug-05   </td><td>MK_REP      </td><td> 6000       </td><td>201         </td><td> 20         </td></tr>\n",
       "\t<tr><td>203         </td><td>Susan       </td><td>Mavris      </td><td>SMAVRIS     </td><td>515.123.7777</td><td>07-Jun-02   </td><td>HR_REP      </td><td> 6500       </td><td>101         </td><td> 40         </td></tr>\n",
       "\t<tr><td>204         </td><td>Hermann     </td><td>Baer        </td><td>HBAER       </td><td>515.123.8888</td><td>07-Jun-02   </td><td>PR_REP      </td><td>10000       </td><td>101         </td><td> 70         </td></tr>\n",
       "\t<tr><td>205         </td><td>Shelley     </td><td>Higgins     </td><td>SHIGGINS    </td><td>515.123.8080</td><td>07-Jun-02   </td><td>AC_MGR      </td><td>12008       </td><td>101         </td><td>110         </td></tr>\n",
       "\t<tr><td>206         </td><td>William     </td><td>Gietz       </td><td>WGIETZ      </td><td>515.123.8181</td><td>07-Jun-02   </td><td>AC_ACCOUNT  </td><td> 8300       </td><td>205         </td><td>110         </td></tr>\n",
       "\t<tr><td>100         </td><td>Steven      </td><td>King        </td><td>SKING       </td><td>515.123.4567</td><td>17-Jun-03   </td><td>AD_PRES     </td><td>24000       </td><td> -          </td><td> 90         </td></tr>\n",
       "\t<tr><td>101         </td><td>Neena       </td><td>Kochhar     </td><td>NKOCHHAR    </td><td>515.123.4568</td><td>21-Sep-05   </td><td>AD_VP       </td><td>17000       </td><td>100         </td><td> 90         </td></tr>\n",
       "\t<tr><td>102         </td><td>Lex         </td><td>De Haan     </td><td>LDEHAAN     </td><td>515.123.4569</td><td>13-Jan-01   </td><td>AD_VP       </td><td>17000       </td><td>100         </td><td> 90         </td></tr>\n",
       "\t<tr><td>103         </td><td>Alexander   </td><td>Hunold      </td><td>AHUNOLD     </td><td>590.423.4567</td><td>03-Jan-06   </td><td>IT_PROG     </td><td> 9000       </td><td>102         </td><td> 60         </td></tr>\n",
       "\t<tr><td>104         </td><td>Bruce       </td><td>Ernst       </td><td>BERNST      </td><td>590.423.4568</td><td>21-May-07   </td><td>IT_PROG     </td><td> 6000       </td><td>103         </td><td> 60         </td></tr>\n",
       "\t<tr><td>105         </td><td>David       </td><td>Austin      </td><td>DAUSTIN     </td><td>590.423.4569</td><td>25-Jun-05   </td><td>IT_PROG     </td><td> 4800       </td><td>103         </td><td> 60         </td></tr>\n",
       "\t<tr><td>106         </td><td>Valli       </td><td>Pataballa   </td><td>VPATABAL    </td><td>590.423.4560</td><td>05-Feb-06   </td><td>IT_PROG     </td><td> 4800       </td><td>103         </td><td> 60         </td></tr>\n",
       "\t<tr><td>107         </td><td>Diana       </td><td>Lorentz     </td><td>DLORENTZ    </td><td>590.423.5567</td><td>07-Feb-07   </td><td>IT_PROG     </td><td> 4200       </td><td>103         </td><td> 60         </td></tr>\n",
       "\t<tr><td>108         </td><td>Nancy       </td><td>Greenberg   </td><td>NGREENBE    </td><td>515.124.4569</td><td>17-Aug-02   </td><td>FI_MGR      </td><td>12008       </td><td>101         </td><td>100         </td></tr>\n",
       "\t<tr><td>109         </td><td>Daniel      </td><td>Faviet      </td><td>DFAVIET     </td><td>515.124.4169</td><td>16-Aug-02   </td><td>FI_ACCOUNT  </td><td> 9000       </td><td>108         </td><td>100         </td></tr>\n",
       "\t<tr><td>110         </td><td>John        </td><td>Chen        </td><td>JCHEN       </td><td>515.124.4269</td><td>28-Sep-05   </td><td>FI_ACCOUNT  </td><td> 8200       </td><td>108         </td><td>100         </td></tr>\n",
       "\t<tr><td>111         </td><td>Ismael      </td><td>Sciarra     </td><td>ISCIARRA    </td><td>515.124.4369</td><td>30-Sep-05   </td><td>FI_ACCOUNT  </td><td> 7700       </td><td>108         </td><td>100         </td></tr>\n",
       "\t<tr><td>112         </td><td>Jose Manuel </td><td>Urman       </td><td>JMURMAN     </td><td>515.124.4469</td><td>07-Mar-06   </td><td>FI_ACCOUNT  </td><td> 7800       </td><td>108         </td><td>100         </td></tr>\n",
       "\t<tr><td>113         </td><td>Luis        </td><td>Popp        </td><td>LPOPP       </td><td>515.124.4567</td><td>07-Dec-07   </td><td>FI_ACCOUNT  </td><td> 6900       </td><td>108         </td><td>100         </td></tr>\n",
       "\t<tr><td>114         </td><td>Den         </td><td>Raphaely    </td><td>DRAPHEAL    </td><td>515.127.4561</td><td>07-Dec-02   </td><td>PU_MAN      </td><td>11000       </td><td>100         </td><td> 30         </td></tr>\n",
       "\t<tr><td>115         </td><td>Alexander   </td><td>Khoo        </td><td>AKHOO       </td><td>515.127.4562</td><td>18-May-03   </td><td>PU_CLERK    </td><td> 3100       </td><td>114         </td><td> 30         </td></tr>\n",
       "\t<tr><td>116         </td><td>Shelli      </td><td>Baida       </td><td>SBAIDA      </td><td>515.127.4563</td><td>24-Dec-05   </td><td>PU_CLERK    </td><td> 2900       </td><td>114         </td><td> 30         </td></tr>\n",
       "\t<tr><td>117         </td><td>Sigal       </td><td>Tobias      </td><td>STOBIAS     </td><td>515.127.4564</td><td>24-Jul-05   </td><td>PU_CLERK    </td><td> 2800       </td><td>114         </td><td> 30         </td></tr>\n",
       "\t<tr><td>118         </td><td>Guy         </td><td>Himuro      </td><td>GHIMURO     </td><td>515.127.4565</td><td>15-Nov-06   </td><td>PU_CLERK    </td><td> 2600       </td><td>114         </td><td> 30         </td></tr>\n",
       "\t<tr><td>119         </td><td>Karen       </td><td>Colmenares  </td><td>KCOLMENA    </td><td>515.127.4566</td><td>10-Aug-07   </td><td>PU_CLERK    </td><td> 2500       </td><td>114         </td><td> 30         </td></tr>\n",
       "\t<tr><td>120         </td><td>Matthew     </td><td>Weiss       </td><td>MWEISS      </td><td>650.123.1234</td><td>18-Jul-04   </td><td>ST_MAN      </td><td> 8000       </td><td>100         </td><td> 50         </td></tr>\n",
       "\t<tr><td>121         </td><td>Adam        </td><td>Fripp       </td><td>AFRIPP      </td><td>650.123.2234</td><td>10-Apr-05   </td><td>ST_MAN      </td><td> 8200       </td><td>100         </td><td> 50         </td></tr>\n",
       "\t<tr><td>122         </td><td>Payam       </td><td>Kaufling    </td><td>PKAUFLIN    </td><td>650.123.3234</td><td>01-May-03   </td><td>ST_MAN      </td><td> 7900       </td><td>100         </td><td> 50         </td></tr>\n",
       "\t<tr><td>123         </td><td>Shanta      </td><td>Vollman     </td><td>SVOLLMAN    </td><td>650.123.4234</td><td>10-Oct-05   </td><td>ST_MAN      </td><td> 6500       </td><td>100         </td><td> 50         </td></tr>\n",
       "\t<tr><td>124         </td><td>Kevin       </td><td>Mourgos     </td><td>KMOURGOS    </td><td>650.123.5234</td><td>16-Nov-07   </td><td>ST_MAN      </td><td> 5800       </td><td>100         </td><td> 50         </td></tr>\n",
       "\t<tr><td>125         </td><td>Julia       </td><td>Nayer       </td><td>JNAYER      </td><td>650.124.1214</td><td>16-Jul-05   </td><td>ST_CLERK    </td><td> 3200       </td><td>120         </td><td> 50         </td></tr>\n",
       "\t<tr><td>126         </td><td>Irene       </td><td>Mikkilineni </td><td>IMIKKILI    </td><td>650.124.1224</td><td>28-Sep-06   </td><td>ST_CLERK    </td><td> 2700       </td><td>120         </td><td> 50         </td></tr>\n",
       "\t<tr><td>127         </td><td>James       </td><td>Landry      </td><td>JLANDRY     </td><td>650.124.1334</td><td>14-Jan-07   </td><td>ST_CLERK    </td><td> 2400       </td><td>120         </td><td> 50         </td></tr>\n",
       "\t<tr><td>128         </td><td>Steven      </td><td>Markle      </td><td>SMARKLE     </td><td>650.124.1434</td><td>08-Mar-08   </td><td>ST_CLERK    </td><td> 2200       </td><td>120         </td><td> 50         </td></tr>\n",
       "\t<tr><td>129         </td><td>Laura       </td><td>Bissot      </td><td>LBISSOT     </td><td>650.124.5234</td><td>20-Aug-05   </td><td>ST_CLERK    </td><td> 3300       </td><td>121         </td><td> 50         </td></tr>\n",
       "\t<tr><td>130         </td><td>Mozhe       </td><td>Atkinson    </td><td>MATKINSO    </td><td>650.124.6234</td><td>30-Oct-05   </td><td>ST_CLERK    </td><td> 2800       </td><td>121         </td><td> 50         </td></tr>\n",
       "\t<tr><td>131         </td><td>James       </td><td>Marlow      </td><td>JAMRLOW     </td><td>650.124.7234</td><td>16-Feb-05   </td><td>ST_CLERK    </td><td> 2500       </td><td>121         </td><td> 50         </td></tr>\n",
       "\t<tr><td>132         </td><td>TJ          </td><td>Olson       </td><td>TJOLSON     </td><td>650.124.8234</td><td>10-Apr-07   </td><td>ST_CLERK    </td><td> 2100       </td><td>121         </td><td> 50         </td></tr>\n",
       "\t<tr><td>133         </td><td>Jason       </td><td>Mallin      </td><td>JMALLIN     </td><td>650.127.1934</td><td>14-Jun-04   </td><td>ST_CLERK    </td><td> 3300       </td><td>122         </td><td> 50         </td></tr>\n",
       "\t<tr><td>134         </td><td>Michael     </td><td>Rogers      </td><td>MROGERS     </td><td>650.127.1834</td><td>26-Aug-06   </td><td>ST_CLERK    </td><td> 2900       </td><td>122         </td><td> 50         </td></tr>\n",
       "\t<tr><td>135         </td><td>Ki          </td><td>Gee         </td><td>KGEE        </td><td>650.127.1734</td><td>12-Dec-07   </td><td>ST_CLERK    </td><td> 2400       </td><td>122         </td><td> 50         </td></tr>\n",
       "\t<tr><td>136         </td><td>Hazel       </td><td>Philtanker  </td><td>HPHILTAN    </td><td>650.127.1634</td><td>06-Feb-08   </td><td>ST_CLERK    </td><td> 2200       </td><td>122         </td><td> 50         </td></tr>\n",
       "\t<tr><td>137         </td><td>Renske      </td><td>Ladwig      </td><td>RLADWIG     </td><td>650.121.1234</td><td>14-Jul-03   </td><td>ST_CLERK    </td><td> 3600       </td><td>123         </td><td> 50         </td></tr>\n",
       "\t<tr><td>138         </td><td>Stephen     </td><td>Stiles      </td><td>SSTILES     </td><td>650.121.2034</td><td>26-Oct-05   </td><td>ST_CLERK    </td><td> 3200       </td><td>123         </td><td> 50         </td></tr>\n",
       "\t<tr><td>139         </td><td>John        </td><td>Seo         </td><td>JSEO        </td><td>650.121.2019</td><td>12-Feb-06   </td><td>ST_CLERK    </td><td> 2700       </td><td>123         </td><td> 50         </td></tr>\n",
       "\t<tr><td>140         </td><td>Joshua      </td><td>Patel       </td><td>JPATEL      </td><td>650.121.1834</td><td>06-Apr-06   </td><td>ST_CLERK    </td><td> 2500       </td><td>123         </td><td> 50         </td></tr>\n",
       "</tbody>\n",
       "</table>\n"
      ],
      "text/latex": [
       "\\begin{tabular}{r|llllllllll}\n",
       " EMPLOYEE\\_ID & FIRST\\_NAME & LAST\\_NAME & EMAIL & PHONE\\_NUMBER & HIRE\\_DATE & JOB\\_ID & SALARY & MANAGER\\_ID & DEPARTMENT\\_ID\\\\\n",
       "\\hline\n",
       "\t 198          & Donald       & OConnell     & DOCONNEL     & 650.507.9833 & 21-Jun-07    & SH\\_CLERK   &  2600        & 124          &  50         \\\\\n",
       "\t 199          & Douglas      & Grant        & DGRANT       & 650.507.9844 & 13-Jan-08    & SH\\_CLERK   &  2600        & 124          &  50         \\\\\n",
       "\t 200          & Jennifer     & Whalen       & JWHALEN      & 515.123.4444 & 17-Sep-03    & AD\\_ASST    &  4400        & 101          &  10         \\\\\n",
       "\t 201          & Michael      & Hartstein    & MHARTSTE     & 515.123.5555 & 17-Feb-04    & MK\\_MAN     & 13000        & 100          &  20         \\\\\n",
       "\t 202          & Pat          & Fay          & PFAY         & 603.123.6666 & 17-Aug-05    & MK\\_REP     &  6000        & 201          &  20         \\\\\n",
       "\t 203          & Susan        & Mavris       & SMAVRIS      & 515.123.7777 & 07-Jun-02    & HR\\_REP     &  6500        & 101          &  40         \\\\\n",
       "\t 204          & Hermann      & Baer         & HBAER        & 515.123.8888 & 07-Jun-02    & PR\\_REP     & 10000        & 101          &  70         \\\\\n",
       "\t 205          & Shelley      & Higgins      & SHIGGINS     & 515.123.8080 & 07-Jun-02    & AC\\_MGR     & 12008        & 101          & 110         \\\\\n",
       "\t 206          & William      & Gietz        & WGIETZ       & 515.123.8181 & 07-Jun-02    & AC\\_ACCOUNT &  8300        & 205          & 110         \\\\\n",
       "\t 100          & Steven       & King         & SKING        & 515.123.4567 & 17-Jun-03    & AD\\_PRES    & 24000        &  -           &  90         \\\\\n",
       "\t 101          & Neena        & Kochhar      & NKOCHHAR     & 515.123.4568 & 21-Sep-05    & AD\\_VP      & 17000        & 100          &  90         \\\\\n",
       "\t 102          & Lex          & De Haan      & LDEHAAN      & 515.123.4569 & 13-Jan-01    & AD\\_VP      & 17000        & 100          &  90         \\\\\n",
       "\t 103          & Alexander    & Hunold       & AHUNOLD      & 590.423.4567 & 03-Jan-06    & IT\\_PROG    &  9000        & 102          &  60         \\\\\n",
       "\t 104          & Bruce        & Ernst        & BERNST       & 590.423.4568 & 21-May-07    & IT\\_PROG    &  6000        & 103          &  60         \\\\\n",
       "\t 105          & David        & Austin       & DAUSTIN      & 590.423.4569 & 25-Jun-05    & IT\\_PROG    &  4800        & 103          &  60         \\\\\n",
       "\t 106          & Valli        & Pataballa    & VPATABAL     & 590.423.4560 & 05-Feb-06    & IT\\_PROG    &  4800        & 103          &  60         \\\\\n",
       "\t 107          & Diana        & Lorentz      & DLORENTZ     & 590.423.5567 & 07-Feb-07    & IT\\_PROG    &  4200        & 103          &  60         \\\\\n",
       "\t 108          & Nancy        & Greenberg    & NGREENBE     & 515.124.4569 & 17-Aug-02    & FI\\_MGR     & 12008        & 101          & 100         \\\\\n",
       "\t 109          & Daniel       & Faviet       & DFAVIET      & 515.124.4169 & 16-Aug-02    & FI\\_ACCOUNT &  9000        & 108          & 100         \\\\\n",
       "\t 110          & John         & Chen         & JCHEN        & 515.124.4269 & 28-Sep-05    & FI\\_ACCOUNT &  8200        & 108          & 100         \\\\\n",
       "\t 111          & Ismael       & Sciarra      & ISCIARRA     & 515.124.4369 & 30-Sep-05    & FI\\_ACCOUNT &  7700        & 108          & 100         \\\\\n",
       "\t 112          & Jose Manuel  & Urman        & JMURMAN      & 515.124.4469 & 07-Mar-06    & FI\\_ACCOUNT &  7800        & 108          & 100         \\\\\n",
       "\t 113          & Luis         & Popp         & LPOPP        & 515.124.4567 & 07-Dec-07    & FI\\_ACCOUNT &  6900        & 108          & 100         \\\\\n",
       "\t 114          & Den          & Raphaely     & DRAPHEAL     & 515.127.4561 & 07-Dec-02    & PU\\_MAN     & 11000        & 100          &  30         \\\\\n",
       "\t 115          & Alexander    & Khoo         & AKHOO        & 515.127.4562 & 18-May-03    & PU\\_CLERK   &  3100        & 114          &  30         \\\\\n",
       "\t 116          & Shelli       & Baida        & SBAIDA       & 515.127.4563 & 24-Dec-05    & PU\\_CLERK   &  2900        & 114          &  30         \\\\\n",
       "\t 117          & Sigal        & Tobias       & STOBIAS      & 515.127.4564 & 24-Jul-05    & PU\\_CLERK   &  2800        & 114          &  30         \\\\\n",
       "\t 118          & Guy          & Himuro       & GHIMURO      & 515.127.4565 & 15-Nov-06    & PU\\_CLERK   &  2600        & 114          &  30         \\\\\n",
       "\t 119          & Karen        & Colmenares   & KCOLMENA     & 515.127.4566 & 10-Aug-07    & PU\\_CLERK   &  2500        & 114          &  30         \\\\\n",
       "\t 120          & Matthew      & Weiss        & MWEISS       & 650.123.1234 & 18-Jul-04    & ST\\_MAN     &  8000        & 100          &  50         \\\\\n",
       "\t 121          & Adam         & Fripp        & AFRIPP       & 650.123.2234 & 10-Apr-05    & ST\\_MAN     &  8200        & 100          &  50         \\\\\n",
       "\t 122          & Payam        & Kaufling     & PKAUFLIN     & 650.123.3234 & 01-May-03    & ST\\_MAN     &  7900        & 100          &  50         \\\\\n",
       "\t 123          & Shanta       & Vollman      & SVOLLMAN     & 650.123.4234 & 10-Oct-05    & ST\\_MAN     &  6500        & 100          &  50         \\\\\n",
       "\t 124          & Kevin        & Mourgos      & KMOURGOS     & 650.123.5234 & 16-Nov-07    & ST\\_MAN     &  5800        & 100          &  50         \\\\\n",
       "\t 125          & Julia        & Nayer        & JNAYER       & 650.124.1214 & 16-Jul-05    & ST\\_CLERK   &  3200        & 120          &  50         \\\\\n",
       "\t 126          & Irene        & Mikkilineni  & IMIKKILI     & 650.124.1224 & 28-Sep-06    & ST\\_CLERK   &  2700        & 120          &  50         \\\\\n",
       "\t 127          & James        & Landry       & JLANDRY      & 650.124.1334 & 14-Jan-07    & ST\\_CLERK   &  2400        & 120          &  50         \\\\\n",
       "\t 128          & Steven       & Markle       & SMARKLE      & 650.124.1434 & 08-Mar-08    & ST\\_CLERK   &  2200        & 120          &  50         \\\\\n",
       "\t 129          & Laura        & Bissot       & LBISSOT      & 650.124.5234 & 20-Aug-05    & ST\\_CLERK   &  3300        & 121          &  50         \\\\\n",
       "\t 130          & Mozhe        & Atkinson     & MATKINSO     & 650.124.6234 & 30-Oct-05    & ST\\_CLERK   &  2800        & 121          &  50         \\\\\n",
       "\t 131          & James        & Marlow       & JAMRLOW      & 650.124.7234 & 16-Feb-05    & ST\\_CLERK   &  2500        & 121          &  50         \\\\\n",
       "\t 132          & TJ           & Olson        & TJOLSON      & 650.124.8234 & 10-Apr-07    & ST\\_CLERK   &  2100        & 121          &  50         \\\\\n",
       "\t 133          & Jason        & Mallin       & JMALLIN      & 650.127.1934 & 14-Jun-04    & ST\\_CLERK   &  3300        & 122          &  50         \\\\\n",
       "\t 134          & Michael      & Rogers       & MROGERS      & 650.127.1834 & 26-Aug-06    & ST\\_CLERK   &  2900        & 122          &  50         \\\\\n",
       "\t 135          & Ki           & Gee          & KGEE         & 650.127.1734 & 12-Dec-07    & ST\\_CLERK   &  2400        & 122          &  50         \\\\\n",
       "\t 136          & Hazel        & Philtanker   & HPHILTAN     & 650.127.1634 & 06-Feb-08    & ST\\_CLERK   &  2200        & 122          &  50         \\\\\n",
       "\t 137          & Renske       & Ladwig       & RLADWIG      & 650.121.1234 & 14-Jul-03    & ST\\_CLERK   &  3600        & 123          &  50         \\\\\n",
       "\t 138          & Stephen      & Stiles       & SSTILES      & 650.121.2034 & 26-Oct-05    & ST\\_CLERK   &  3200        & 123          &  50         \\\\\n",
       "\t 139          & John         & Seo          & JSEO         & 650.121.2019 & 12-Feb-06    & ST\\_CLERK   &  2700        & 123          &  50         \\\\\n",
       "\t 140          & Joshua       & Patel        & JPATEL       & 650.121.1834 & 06-Apr-06    & ST\\_CLERK   &  2500        & 123          &  50         \\\\\n",
       "\\end{tabular}\n"
      ],
      "text/markdown": [
       "\n",
       "| EMPLOYEE_ID | FIRST_NAME | LAST_NAME | EMAIL | PHONE_NUMBER | HIRE_DATE | JOB_ID | SALARY | MANAGER_ID | DEPARTMENT_ID |\n",
       "|---|---|---|---|---|---|---|---|---|---|\n",
       "| 198          | Donald       | OConnell     | DOCONNEL     | 650.507.9833 | 21-Jun-07    | SH_CLERK     |  2600        | 124          |  50          |\n",
       "| 199          | Douglas      | Grant        | DGRANT       | 650.507.9844 | 13-Jan-08    | SH_CLERK     |  2600        | 124          |  50          |\n",
       "| 200          | Jennifer     | Whalen       | JWHALEN      | 515.123.4444 | 17-Sep-03    | AD_ASST      |  4400        | 101          |  10          |\n",
       "| 201          | Michael      | Hartstein    | MHARTSTE     | 515.123.5555 | 17-Feb-04    | MK_MAN       | 13000        | 100          |  20          |\n",
       "| 202          | Pat          | Fay          | PFAY         | 603.123.6666 | 17-Aug-05    | MK_REP       |  6000        | 201          |  20          |\n",
       "| 203          | Susan        | Mavris       | SMAVRIS      | 515.123.7777 | 07-Jun-02    | HR_REP       |  6500        | 101          |  40          |\n",
       "| 204          | Hermann      | Baer         | HBAER        | 515.123.8888 | 07-Jun-02    | PR_REP       | 10000        | 101          |  70          |\n",
       "| 205          | Shelley      | Higgins      | SHIGGINS     | 515.123.8080 | 07-Jun-02    | AC_MGR       | 12008        | 101          | 110          |\n",
       "| 206          | William      | Gietz        | WGIETZ       | 515.123.8181 | 07-Jun-02    | AC_ACCOUNT   |  8300        | 205          | 110          |\n",
       "| 100          | Steven       | King         | SKING        | 515.123.4567 | 17-Jun-03    | AD_PRES      | 24000        |  -           |  90          |\n",
       "| 101          | Neena        | Kochhar      | NKOCHHAR     | 515.123.4568 | 21-Sep-05    | AD_VP        | 17000        | 100          |  90          |\n",
       "| 102          | Lex          | De Haan      | LDEHAAN      | 515.123.4569 | 13-Jan-01    | AD_VP        | 17000        | 100          |  90          |\n",
       "| 103          | Alexander    | Hunold       | AHUNOLD      | 590.423.4567 | 03-Jan-06    | IT_PROG      |  9000        | 102          |  60          |\n",
       "| 104          | Bruce        | Ernst        | BERNST       | 590.423.4568 | 21-May-07    | IT_PROG      |  6000        | 103          |  60          |\n",
       "| 105          | David        | Austin       | DAUSTIN      | 590.423.4569 | 25-Jun-05    | IT_PROG      |  4800        | 103          |  60          |\n",
       "| 106          | Valli        | Pataballa    | VPATABAL     | 590.423.4560 | 05-Feb-06    | IT_PROG      |  4800        | 103          |  60          |\n",
       "| 107          | Diana        | Lorentz      | DLORENTZ     | 590.423.5567 | 07-Feb-07    | IT_PROG      |  4200        | 103          |  60          |\n",
       "| 108          | Nancy        | Greenberg    | NGREENBE     | 515.124.4569 | 17-Aug-02    | FI_MGR       | 12008        | 101          | 100          |\n",
       "| 109          | Daniel       | Faviet       | DFAVIET      | 515.124.4169 | 16-Aug-02    | FI_ACCOUNT   |  9000        | 108          | 100          |\n",
       "| 110          | John         | Chen         | JCHEN        | 515.124.4269 | 28-Sep-05    | FI_ACCOUNT   |  8200        | 108          | 100          |\n",
       "| 111          | Ismael       | Sciarra      | ISCIARRA     | 515.124.4369 | 30-Sep-05    | FI_ACCOUNT   |  7700        | 108          | 100          |\n",
       "| 112          | Jose Manuel  | Urman        | JMURMAN      | 515.124.4469 | 07-Mar-06    | FI_ACCOUNT   |  7800        | 108          | 100          |\n",
       "| 113          | Luis         | Popp         | LPOPP        | 515.124.4567 | 07-Dec-07    | FI_ACCOUNT   |  6900        | 108          | 100          |\n",
       "| 114          | Den          | Raphaely     | DRAPHEAL     | 515.127.4561 | 07-Dec-02    | PU_MAN       | 11000        | 100          |  30          |\n",
       "| 115          | Alexander    | Khoo         | AKHOO        | 515.127.4562 | 18-May-03    | PU_CLERK     |  3100        | 114          |  30          |\n",
       "| 116          | Shelli       | Baida        | SBAIDA       | 515.127.4563 | 24-Dec-05    | PU_CLERK     |  2900        | 114          |  30          |\n",
       "| 117          | Sigal        | Tobias       | STOBIAS      | 515.127.4564 | 24-Jul-05    | PU_CLERK     |  2800        | 114          |  30          |\n",
       "| 118          | Guy          | Himuro       | GHIMURO      | 515.127.4565 | 15-Nov-06    | PU_CLERK     |  2600        | 114          |  30          |\n",
       "| 119          | Karen        | Colmenares   | KCOLMENA     | 515.127.4566 | 10-Aug-07    | PU_CLERK     |  2500        | 114          |  30          |\n",
       "| 120          | Matthew      | Weiss        | MWEISS       | 650.123.1234 | 18-Jul-04    | ST_MAN       |  8000        | 100          |  50          |\n",
       "| 121          | Adam         | Fripp        | AFRIPP       | 650.123.2234 | 10-Apr-05    | ST_MAN       |  8200        | 100          |  50          |\n",
       "| 122          | Payam        | Kaufling     | PKAUFLIN     | 650.123.3234 | 01-May-03    | ST_MAN       |  7900        | 100          |  50          |\n",
       "| 123          | Shanta       | Vollman      | SVOLLMAN     | 650.123.4234 | 10-Oct-05    | ST_MAN       |  6500        | 100          |  50          |\n",
       "| 124          | Kevin        | Mourgos      | KMOURGOS     | 650.123.5234 | 16-Nov-07    | ST_MAN       |  5800        | 100          |  50          |\n",
       "| 125          | Julia        | Nayer        | JNAYER       | 650.124.1214 | 16-Jul-05    | ST_CLERK     |  3200        | 120          |  50          |\n",
       "| 126          | Irene        | Mikkilineni  | IMIKKILI     | 650.124.1224 | 28-Sep-06    | ST_CLERK     |  2700        | 120          |  50          |\n",
       "| 127          | James        | Landry       | JLANDRY      | 650.124.1334 | 14-Jan-07    | ST_CLERK     |  2400        | 120          |  50          |\n",
       "| 128          | Steven       | Markle       | SMARKLE      | 650.124.1434 | 08-Mar-08    | ST_CLERK     |  2200        | 120          |  50          |\n",
       "| 129          | Laura        | Bissot       | LBISSOT      | 650.124.5234 | 20-Aug-05    | ST_CLERK     |  3300        | 121          |  50          |\n",
       "| 130          | Mozhe        | Atkinson     | MATKINSO     | 650.124.6234 | 30-Oct-05    | ST_CLERK     |  2800        | 121          |  50          |\n",
       "| 131          | James        | Marlow       | JAMRLOW      | 650.124.7234 | 16-Feb-05    | ST_CLERK     |  2500        | 121          |  50          |\n",
       "| 132          | TJ           | Olson        | TJOLSON      | 650.124.8234 | 10-Apr-07    | ST_CLERK     |  2100        | 121          |  50          |\n",
       "| 133          | Jason        | Mallin       | JMALLIN      | 650.127.1934 | 14-Jun-04    | ST_CLERK     |  3300        | 122          |  50          |\n",
       "| 134          | Michael      | Rogers       | MROGERS      | 650.127.1834 | 26-Aug-06    | ST_CLERK     |  2900        | 122          |  50          |\n",
       "| 135          | Ki           | Gee          | KGEE         | 650.127.1734 | 12-Dec-07    | ST_CLERK     |  2400        | 122          |  50          |\n",
       "| 136          | Hazel        | Philtanker   | HPHILTAN     | 650.127.1634 | 06-Feb-08    | ST_CLERK     |  2200        | 122          |  50          |\n",
       "| 137          | Renske       | Ladwig       | RLADWIG      | 650.121.1234 | 14-Jul-03    | ST_CLERK     |  3600        | 123          |  50          |\n",
       "| 138          | Stephen      | Stiles       | SSTILES      | 650.121.2034 | 26-Oct-05    | ST_CLERK     |  3200        | 123          |  50          |\n",
       "| 139          | John         | Seo          | JSEO         | 650.121.2019 | 12-Feb-06    | ST_CLERK     |  2700        | 123          |  50          |\n",
       "| 140          | Joshua       | Patel        | JPATEL       | 650.121.1834 | 06-Apr-06    | ST_CLERK     |  2500        | 123          |  50          |\n",
       "\n"
      ],
      "text/plain": [
       "   EMPLOYEE_ID FIRST_NAME  LAST_NAME   EMAIL    PHONE_NUMBER HIRE_DATE\n",
       "1  198         Donald      OConnell    DOCONNEL 650.507.9833 21-Jun-07\n",
       "2  199         Douglas     Grant       DGRANT   650.507.9844 13-Jan-08\n",
       "3  200         Jennifer    Whalen      JWHALEN  515.123.4444 17-Sep-03\n",
       "4  201         Michael     Hartstein   MHARTSTE 515.123.5555 17-Feb-04\n",
       "5  202         Pat         Fay         PFAY     603.123.6666 17-Aug-05\n",
       "6  203         Susan       Mavris      SMAVRIS  515.123.7777 07-Jun-02\n",
       "7  204         Hermann     Baer        HBAER    515.123.8888 07-Jun-02\n",
       "8  205         Shelley     Higgins     SHIGGINS 515.123.8080 07-Jun-02\n",
       "9  206         William     Gietz       WGIETZ   515.123.8181 07-Jun-02\n",
       "10 100         Steven      King        SKING    515.123.4567 17-Jun-03\n",
       "11 101         Neena       Kochhar     NKOCHHAR 515.123.4568 21-Sep-05\n",
       "12 102         Lex         De Haan     LDEHAAN  515.123.4569 13-Jan-01\n",
       "13 103         Alexander   Hunold      AHUNOLD  590.423.4567 03-Jan-06\n",
       "14 104         Bruce       Ernst       BERNST   590.423.4568 21-May-07\n",
       "15 105         David       Austin      DAUSTIN  590.423.4569 25-Jun-05\n",
       "16 106         Valli       Pataballa   VPATABAL 590.423.4560 05-Feb-06\n",
       "17 107         Diana       Lorentz     DLORENTZ 590.423.5567 07-Feb-07\n",
       "18 108         Nancy       Greenberg   NGREENBE 515.124.4569 17-Aug-02\n",
       "19 109         Daniel      Faviet      DFAVIET  515.124.4169 16-Aug-02\n",
       "20 110         John        Chen        JCHEN    515.124.4269 28-Sep-05\n",
       "21 111         Ismael      Sciarra     ISCIARRA 515.124.4369 30-Sep-05\n",
       "22 112         Jose Manuel Urman       JMURMAN  515.124.4469 07-Mar-06\n",
       "23 113         Luis        Popp        LPOPP    515.124.4567 07-Dec-07\n",
       "24 114         Den         Raphaely    DRAPHEAL 515.127.4561 07-Dec-02\n",
       "25 115         Alexander   Khoo        AKHOO    515.127.4562 18-May-03\n",
       "26 116         Shelli      Baida       SBAIDA   515.127.4563 24-Dec-05\n",
       "27 117         Sigal       Tobias      STOBIAS  515.127.4564 24-Jul-05\n",
       "28 118         Guy         Himuro      GHIMURO  515.127.4565 15-Nov-06\n",
       "29 119         Karen       Colmenares  KCOLMENA 515.127.4566 10-Aug-07\n",
       "30 120         Matthew     Weiss       MWEISS   650.123.1234 18-Jul-04\n",
       "31 121         Adam        Fripp       AFRIPP   650.123.2234 10-Apr-05\n",
       "32 122         Payam       Kaufling    PKAUFLIN 650.123.3234 01-May-03\n",
       "33 123         Shanta      Vollman     SVOLLMAN 650.123.4234 10-Oct-05\n",
       "34 124         Kevin       Mourgos     KMOURGOS 650.123.5234 16-Nov-07\n",
       "35 125         Julia       Nayer       JNAYER   650.124.1214 16-Jul-05\n",
       "36 126         Irene       Mikkilineni IMIKKILI 650.124.1224 28-Sep-06\n",
       "37 127         James       Landry      JLANDRY  650.124.1334 14-Jan-07\n",
       "38 128         Steven      Markle      SMARKLE  650.124.1434 08-Mar-08\n",
       "39 129         Laura       Bissot      LBISSOT  650.124.5234 20-Aug-05\n",
       "40 130         Mozhe       Atkinson    MATKINSO 650.124.6234 30-Oct-05\n",
       "41 131         James       Marlow      JAMRLOW  650.124.7234 16-Feb-05\n",
       "42 132         TJ          Olson       TJOLSON  650.124.8234 10-Apr-07\n",
       "43 133         Jason       Mallin      JMALLIN  650.127.1934 14-Jun-04\n",
       "44 134         Michael     Rogers      MROGERS  650.127.1834 26-Aug-06\n",
       "45 135         Ki          Gee         KGEE     650.127.1734 12-Dec-07\n",
       "46 136         Hazel       Philtanker  HPHILTAN 650.127.1634 06-Feb-08\n",
       "47 137         Renske      Ladwig      RLADWIG  650.121.1234 14-Jul-03\n",
       "48 138         Stephen     Stiles      SSTILES  650.121.2034 26-Oct-05\n",
       "49 139         John        Seo         JSEO     650.121.2019 12-Feb-06\n",
       "50 140         Joshua      Patel       JPATEL   650.121.1834 06-Apr-06\n",
       "   JOB_ID     SALARY MANAGER_ID DEPARTMENT_ID\n",
       "1  SH_CLERK    2600  124         50          \n",
       "2  SH_CLERK    2600  124         50          \n",
       "3  AD_ASST     4400  101         10          \n",
       "4  MK_MAN     13000  100         20          \n",
       "5  MK_REP      6000  201         20          \n",
       "6  HR_REP      6500  101         40          \n",
       "7  PR_REP     10000  101         70          \n",
       "8  AC_MGR     12008  101        110          \n",
       "9  AC_ACCOUNT  8300  205        110          \n",
       "10 AD_PRES    24000   -          90          \n",
       "11 AD_VP      17000  100         90          \n",
       "12 AD_VP      17000  100         90          \n",
       "13 IT_PROG     9000  102         60          \n",
       "14 IT_PROG     6000  103         60          \n",
       "15 IT_PROG     4800  103         60          \n",
       "16 IT_PROG     4800  103         60          \n",
       "17 IT_PROG     4200  103         60          \n",
       "18 FI_MGR     12008  101        100          \n",
       "19 FI_ACCOUNT  9000  108        100          \n",
       "20 FI_ACCOUNT  8200  108        100          \n",
       "21 FI_ACCOUNT  7700  108        100          \n",
       "22 FI_ACCOUNT  7800  108        100          \n",
       "23 FI_ACCOUNT  6900  108        100          \n",
       "24 PU_MAN     11000  100         30          \n",
       "25 PU_CLERK    3100  114         30          \n",
       "26 PU_CLERK    2900  114         30          \n",
       "27 PU_CLERK    2800  114         30          \n",
       "28 PU_CLERK    2600  114         30          \n",
       "29 PU_CLERK    2500  114         30          \n",
       "30 ST_MAN      8000  100         50          \n",
       "31 ST_MAN      8200  100         50          \n",
       "32 ST_MAN      7900  100         50          \n",
       "33 ST_MAN      6500  100         50          \n",
       "34 ST_MAN      5800  100         50          \n",
       "35 ST_CLERK    3200  120         50          \n",
       "36 ST_CLERK    2700  120         50          \n",
       "37 ST_CLERK    2400  120         50          \n",
       "38 ST_CLERK    2200  120         50          \n",
       "39 ST_CLERK    3300  121         50          \n",
       "40 ST_CLERK    2800  121         50          \n",
       "41 ST_CLERK    2500  121         50          \n",
       "42 ST_CLERK    2100  121         50          \n",
       "43 ST_CLERK    3300  122         50          \n",
       "44 ST_CLERK    2900  122         50          \n",
       "45 ST_CLERK    2400  122         50          \n",
       "46 ST_CLERK    2200  122         50          \n",
       "47 ST_CLERK    3600  123         50          \n",
       "48 ST_CLERK    3200  123         50          \n",
       "49 ST_CLERK    2700  123         50          \n",
       "50 ST_CLERK    2500  123         50          "
      ]
     },
     "metadata": {},
     "output_type": "display_data"
    }
   ],
   "source": [
    "df=read.csv(\"employee.csv\")\n",
    "df"
   ]
  },
  {
   "cell_type": "code",
   "execution_count": 10,
   "id": "1d3385b4",
   "metadata": {},
   "outputs": [
    {
     "data": {
      "text/html": [
       "10"
      ],
      "text/latex": [
       "10"
      ],
      "text/markdown": [
       "10"
      ],
      "text/plain": [
       "[1] 10"
      ]
     },
     "metadata": {},
     "output_type": "display_data"
    }
   ],
   "source": [
    "ncol(df)"
   ]
  },
  {
   "cell_type": "code",
   "execution_count": 11,
   "id": "3fabf927",
   "metadata": {},
   "outputs": [
    {
     "data": {
      "text/html": [
       "50"
      ],
      "text/latex": [
       "50"
      ],
      "text/markdown": [
       "50"
      ],
      "text/plain": [
       "[1] 50"
      ]
     },
     "metadata": {},
     "output_type": "display_data"
    }
   ],
   "source": [
    "nrow(df)"
   ]
  },
  {
   "cell_type": "code",
   "execution_count": 12,
   "id": "c448f5a4",
   "metadata": {},
   "outputs": [
    {
     "data": {
      "text/html": [
       "<table>\n",
       "<thead><tr><th scope=col>EMPLOYEE_ID</th><th scope=col>FIRST_NAME</th><th scope=col>LAST_NAME</th><th scope=col>EMAIL</th><th scope=col>PHONE_NUMBER</th><th scope=col>HIRE_DATE</th><th scope=col>JOB_ID</th><th scope=col>SALARY</th><th scope=col>MANAGER_ID</th><th scope=col>DEPARTMENT_ID</th></tr></thead>\n",
       "<tbody>\n",
       "\t<tr><td>198         </td><td>Donald      </td><td>OConnell    </td><td>DOCONNEL    </td><td>650.507.9833</td><td>21-Jun-07   </td><td>SH_CLERK    </td><td> 2600       </td><td>124         </td><td> 50         </td></tr>\n",
       "\t<tr><td>199         </td><td>Douglas     </td><td>Grant       </td><td>DGRANT      </td><td>650.507.9844</td><td>13-Jan-08   </td><td>SH_CLERK    </td><td> 2600       </td><td>124         </td><td> 50         </td></tr>\n",
       "\t<tr><td>200         </td><td>Jennifer    </td><td>Whalen      </td><td>JWHALEN     </td><td>515.123.4444</td><td>17-Sep-03   </td><td>AD_ASST     </td><td> 4400       </td><td>101         </td><td> 10         </td></tr>\n",
       "\t<tr><td>201         </td><td>Michael     </td><td>Hartstein   </td><td>MHARTSTE    </td><td>515.123.5555</td><td>17-Feb-04   </td><td>MK_MAN      </td><td>13000       </td><td>100         </td><td> 20         </td></tr>\n",
       "\t<tr><td>202         </td><td>Pat         </td><td>Fay         </td><td>PFAY        </td><td>603.123.6666</td><td>17-Aug-05   </td><td>MK_REP      </td><td> 6000       </td><td>201         </td><td> 20         </td></tr>\n",
       "\t<tr><td>203         </td><td>Susan       </td><td>Mavris      </td><td>SMAVRIS     </td><td>515.123.7777</td><td>07-Jun-02   </td><td>HR_REP      </td><td> 6500       </td><td>101         </td><td> 40         </td></tr>\n",
       "\t<tr><td>204         </td><td>Hermann     </td><td>Baer        </td><td>HBAER       </td><td>515.123.8888</td><td>07-Jun-02   </td><td>PR_REP      </td><td>10000       </td><td>101         </td><td> 70         </td></tr>\n",
       "\t<tr><td>205         </td><td>Shelley     </td><td>Higgins     </td><td>SHIGGINS    </td><td>515.123.8080</td><td>07-Jun-02   </td><td>AC_MGR      </td><td>12008       </td><td>101         </td><td>110         </td></tr>\n",
       "\t<tr><td>206         </td><td>William     </td><td>Gietz       </td><td>WGIETZ      </td><td>515.123.8181</td><td>07-Jun-02   </td><td>AC_ACCOUNT  </td><td> 8300       </td><td>205         </td><td>110         </td></tr>\n",
       "\t<tr><td>100         </td><td>Steven      </td><td>King        </td><td>SKING       </td><td>515.123.4567</td><td>17-Jun-03   </td><td>AD_PRES     </td><td>24000       </td><td> -          </td><td> 90         </td></tr>\n",
       "</tbody>\n",
       "</table>\n"
      ],
      "text/latex": [
       "\\begin{tabular}{r|llllllllll}\n",
       " EMPLOYEE\\_ID & FIRST\\_NAME & LAST\\_NAME & EMAIL & PHONE\\_NUMBER & HIRE\\_DATE & JOB\\_ID & SALARY & MANAGER\\_ID & DEPARTMENT\\_ID\\\\\n",
       "\\hline\n",
       "\t 198          & Donald       & OConnell     & DOCONNEL     & 650.507.9833 & 21-Jun-07    & SH\\_CLERK   &  2600        & 124          &  50         \\\\\n",
       "\t 199          & Douglas      & Grant        & DGRANT       & 650.507.9844 & 13-Jan-08    & SH\\_CLERK   &  2600        & 124          &  50         \\\\\n",
       "\t 200          & Jennifer     & Whalen       & JWHALEN      & 515.123.4444 & 17-Sep-03    & AD\\_ASST    &  4400        & 101          &  10         \\\\\n",
       "\t 201          & Michael      & Hartstein    & MHARTSTE     & 515.123.5555 & 17-Feb-04    & MK\\_MAN     & 13000        & 100          &  20         \\\\\n",
       "\t 202          & Pat          & Fay          & PFAY         & 603.123.6666 & 17-Aug-05    & MK\\_REP     &  6000        & 201          &  20         \\\\\n",
       "\t 203          & Susan        & Mavris       & SMAVRIS      & 515.123.7777 & 07-Jun-02    & HR\\_REP     &  6500        & 101          &  40         \\\\\n",
       "\t 204          & Hermann      & Baer         & HBAER        & 515.123.8888 & 07-Jun-02    & PR\\_REP     & 10000        & 101          &  70         \\\\\n",
       "\t 205          & Shelley      & Higgins      & SHIGGINS     & 515.123.8080 & 07-Jun-02    & AC\\_MGR     & 12008        & 101          & 110         \\\\\n",
       "\t 206          & William      & Gietz        & WGIETZ       & 515.123.8181 & 07-Jun-02    & AC\\_ACCOUNT &  8300        & 205          & 110         \\\\\n",
       "\t 100          & Steven       & King         & SKING        & 515.123.4567 & 17-Jun-03    & AD\\_PRES    & 24000        &  -           &  90         \\\\\n",
       "\\end{tabular}\n"
      ],
      "text/markdown": [
       "\n",
       "| EMPLOYEE_ID | FIRST_NAME | LAST_NAME | EMAIL | PHONE_NUMBER | HIRE_DATE | JOB_ID | SALARY | MANAGER_ID | DEPARTMENT_ID |\n",
       "|---|---|---|---|---|---|---|---|---|---|\n",
       "| 198          | Donald       | OConnell     | DOCONNEL     | 650.507.9833 | 21-Jun-07    | SH_CLERK     |  2600        | 124          |  50          |\n",
       "| 199          | Douglas      | Grant        | DGRANT       | 650.507.9844 | 13-Jan-08    | SH_CLERK     |  2600        | 124          |  50          |\n",
       "| 200          | Jennifer     | Whalen       | JWHALEN      | 515.123.4444 | 17-Sep-03    | AD_ASST      |  4400        | 101          |  10          |\n",
       "| 201          | Michael      | Hartstein    | MHARTSTE     | 515.123.5555 | 17-Feb-04    | MK_MAN       | 13000        | 100          |  20          |\n",
       "| 202          | Pat          | Fay          | PFAY         | 603.123.6666 | 17-Aug-05    | MK_REP       |  6000        | 201          |  20          |\n",
       "| 203          | Susan        | Mavris       | SMAVRIS      | 515.123.7777 | 07-Jun-02    | HR_REP       |  6500        | 101          |  40          |\n",
       "| 204          | Hermann      | Baer         | HBAER        | 515.123.8888 | 07-Jun-02    | PR_REP       | 10000        | 101          |  70          |\n",
       "| 205          | Shelley      | Higgins      | SHIGGINS     | 515.123.8080 | 07-Jun-02    | AC_MGR       | 12008        | 101          | 110          |\n",
       "| 206          | William      | Gietz        | WGIETZ       | 515.123.8181 | 07-Jun-02    | AC_ACCOUNT   |  8300        | 205          | 110          |\n",
       "| 100          | Steven       | King         | SKING        | 515.123.4567 | 17-Jun-03    | AD_PRES      | 24000        |  -           |  90          |\n",
       "\n"
      ],
      "text/plain": [
       "   EMPLOYEE_ID FIRST_NAME LAST_NAME EMAIL    PHONE_NUMBER HIRE_DATE JOB_ID    \n",
       "1  198         Donald     OConnell  DOCONNEL 650.507.9833 21-Jun-07 SH_CLERK  \n",
       "2  199         Douglas    Grant     DGRANT   650.507.9844 13-Jan-08 SH_CLERK  \n",
       "3  200         Jennifer   Whalen    JWHALEN  515.123.4444 17-Sep-03 AD_ASST   \n",
       "4  201         Michael    Hartstein MHARTSTE 515.123.5555 17-Feb-04 MK_MAN    \n",
       "5  202         Pat        Fay       PFAY     603.123.6666 17-Aug-05 MK_REP    \n",
       "6  203         Susan      Mavris    SMAVRIS  515.123.7777 07-Jun-02 HR_REP    \n",
       "7  204         Hermann    Baer      HBAER    515.123.8888 07-Jun-02 PR_REP    \n",
       "8  205         Shelley    Higgins   SHIGGINS 515.123.8080 07-Jun-02 AC_MGR    \n",
       "9  206         William    Gietz     WGIETZ   515.123.8181 07-Jun-02 AC_ACCOUNT\n",
       "10 100         Steven     King      SKING    515.123.4567 17-Jun-03 AD_PRES   \n",
       "   SALARY MANAGER_ID DEPARTMENT_ID\n",
       "1   2600  124         50          \n",
       "2   2600  124         50          \n",
       "3   4400  101         10          \n",
       "4  13000  100         20          \n",
       "5   6000  201         20          \n",
       "6   6500  101         40          \n",
       "7  10000  101         70          \n",
       "8  12008  101        110          \n",
       "9   8300  205        110          \n",
       "10 24000   -          90          "
      ]
     },
     "metadata": {},
     "output_type": "display_data"
    }
   ],
   "source": [
    "head(df, 10)"
   ]
  },
  {
   "cell_type": "code",
   "execution_count": 13,
   "id": "891c862c",
   "metadata": {},
   "outputs": [
    {
     "data": {
      "text/html": [
       "<table>\n",
       "<thead><tr><th></th><th scope=col>EMPLOYEE_ID</th><th scope=col>FIRST_NAME</th><th scope=col>LAST_NAME</th><th scope=col>EMAIL</th><th scope=col>PHONE_NUMBER</th><th scope=col>HIRE_DATE</th><th scope=col>JOB_ID</th><th scope=col>SALARY</th><th scope=col>MANAGER_ID</th><th scope=col>DEPARTMENT_ID</th></tr></thead>\n",
       "<tbody>\n",
       "\t<tr><th scope=row>45</th><td>135         </td><td>Ki          </td><td>Gee         </td><td>KGEE        </td><td>650.127.1734</td><td>12-Dec-07   </td><td>ST_CLERK    </td><td>2400        </td><td>122         </td><td>50          </td></tr>\n",
       "\t<tr><th scope=row>46</th><td>136         </td><td>Hazel       </td><td>Philtanker  </td><td>HPHILTAN    </td><td>650.127.1634</td><td>06-Feb-08   </td><td>ST_CLERK    </td><td>2200        </td><td>122         </td><td>50          </td></tr>\n",
       "\t<tr><th scope=row>47</th><td>137         </td><td>Renske      </td><td>Ladwig      </td><td>RLADWIG     </td><td>650.121.1234</td><td>14-Jul-03   </td><td>ST_CLERK    </td><td>3600        </td><td>123         </td><td>50          </td></tr>\n",
       "\t<tr><th scope=row>48</th><td>138         </td><td>Stephen     </td><td>Stiles      </td><td>SSTILES     </td><td>650.121.2034</td><td>26-Oct-05   </td><td>ST_CLERK    </td><td>3200        </td><td>123         </td><td>50          </td></tr>\n",
       "\t<tr><th scope=row>49</th><td>139         </td><td>John        </td><td>Seo         </td><td>JSEO        </td><td>650.121.2019</td><td>12-Feb-06   </td><td>ST_CLERK    </td><td>2700        </td><td>123         </td><td>50          </td></tr>\n",
       "\t<tr><th scope=row>50</th><td>140         </td><td>Joshua      </td><td>Patel       </td><td>JPATEL      </td><td>650.121.1834</td><td>06-Apr-06   </td><td>ST_CLERK    </td><td>2500        </td><td>123         </td><td>50          </td></tr>\n",
       "</tbody>\n",
       "</table>\n"
      ],
      "text/latex": [
       "\\begin{tabular}{r|llllllllll}\n",
       "  & EMPLOYEE\\_ID & FIRST\\_NAME & LAST\\_NAME & EMAIL & PHONE\\_NUMBER & HIRE\\_DATE & JOB\\_ID & SALARY & MANAGER\\_ID & DEPARTMENT\\_ID\\\\\n",
       "\\hline\n",
       "\t45 & 135          & Ki           & Gee          & KGEE         & 650.127.1734 & 12-Dec-07    & ST\\_CLERK   & 2400         & 122          & 50          \\\\\n",
       "\t46 & 136          & Hazel        & Philtanker   & HPHILTAN     & 650.127.1634 & 06-Feb-08    & ST\\_CLERK   & 2200         & 122          & 50          \\\\\n",
       "\t47 & 137          & Renske       & Ladwig       & RLADWIG      & 650.121.1234 & 14-Jul-03    & ST\\_CLERK   & 3600         & 123          & 50          \\\\\n",
       "\t48 & 138          & Stephen      & Stiles       & SSTILES      & 650.121.2034 & 26-Oct-05    & ST\\_CLERK   & 3200         & 123          & 50          \\\\\n",
       "\t49 & 139          & John         & Seo          & JSEO         & 650.121.2019 & 12-Feb-06    & ST\\_CLERK   & 2700         & 123          & 50          \\\\\n",
       "\t50 & 140          & Joshua       & Patel        & JPATEL       & 650.121.1834 & 06-Apr-06    & ST\\_CLERK   & 2500         & 123          & 50          \\\\\n",
       "\\end{tabular}\n"
      ],
      "text/markdown": [
       "\n",
       "| <!--/--> | EMPLOYEE_ID | FIRST_NAME | LAST_NAME | EMAIL | PHONE_NUMBER | HIRE_DATE | JOB_ID | SALARY | MANAGER_ID | DEPARTMENT_ID |\n",
       "|---|---|---|---|---|---|---|---|---|---|---|\n",
       "| 45 | 135          | Ki           | Gee          | KGEE         | 650.127.1734 | 12-Dec-07    | ST_CLERK     | 2400         | 122          | 50           |\n",
       "| 46 | 136          | Hazel        | Philtanker   | HPHILTAN     | 650.127.1634 | 06-Feb-08    | ST_CLERK     | 2200         | 122          | 50           |\n",
       "| 47 | 137          | Renske       | Ladwig       | RLADWIG      | 650.121.1234 | 14-Jul-03    | ST_CLERK     | 3600         | 123          | 50           |\n",
       "| 48 | 138          | Stephen      | Stiles       | SSTILES      | 650.121.2034 | 26-Oct-05    | ST_CLERK     | 3200         | 123          | 50           |\n",
       "| 49 | 139          | John         | Seo          | JSEO         | 650.121.2019 | 12-Feb-06    | ST_CLERK     | 2700         | 123          | 50           |\n",
       "| 50 | 140          | Joshua       | Patel        | JPATEL       | 650.121.1834 | 06-Apr-06    | ST_CLERK     | 2500         | 123          | 50           |\n",
       "\n"
      ],
      "text/plain": [
       "   EMPLOYEE_ID FIRST_NAME LAST_NAME  EMAIL    PHONE_NUMBER HIRE_DATE JOB_ID  \n",
       "45 135         Ki         Gee        KGEE     650.127.1734 12-Dec-07 ST_CLERK\n",
       "46 136         Hazel      Philtanker HPHILTAN 650.127.1634 06-Feb-08 ST_CLERK\n",
       "47 137         Renske     Ladwig     RLADWIG  650.121.1234 14-Jul-03 ST_CLERK\n",
       "48 138         Stephen    Stiles     SSTILES  650.121.2034 26-Oct-05 ST_CLERK\n",
       "49 139         John       Seo        JSEO     650.121.2019 12-Feb-06 ST_CLERK\n",
       "50 140         Joshua     Patel      JPATEL   650.121.1834 06-Apr-06 ST_CLERK\n",
       "   SALARY MANAGER_ID DEPARTMENT_ID\n",
       "45 2400   122        50           \n",
       "46 2200   122        50           \n",
       "47 3600   123        50           \n",
       "48 3200   123        50           \n",
       "49 2700   123        50           \n",
       "50 2500   123        50           "
      ]
     },
     "metadata": {},
     "output_type": "display_data"
    }
   ],
   "source": [
    "tail(df)"
   ]
  },
  {
   "cell_type": "code",
   "execution_count": 14,
   "id": "8acd8a92",
   "metadata": {},
   "outputs": [
    {
     "data": {
      "text/html": [
       "24000"
      ],
      "text/latex": [
       "24000"
      ],
      "text/markdown": [
       "24000"
      ],
      "text/plain": [
       "[1] 24000"
      ]
     },
     "metadata": {},
     "output_type": "display_data"
    }
   ],
   "source": [
    "max(df$SALARY)"
   ]
  },
  {
   "cell_type": "code",
   "execution_count": 15,
   "id": "d38839fe",
   "metadata": {},
   "outputs": [
    {
     "data": {
      "text/html": [
       "2100"
      ],
      "text/latex": [
       "2100"
      ],
      "text/markdown": [
       "2100"
      ],
      "text/plain": [
       "[1] 2100"
      ]
     },
     "metadata": {},
     "output_type": "display_data"
    }
   ],
   "source": [
    "min(df$SALARY)"
   ]
  },
  {
   "cell_type": "code",
   "execution_count": 16,
   "id": "06837ad5",
   "metadata": {},
   "outputs": [
    {
     "data": {
      "text/html": [
       "<table>\n",
       "<thead><tr><th></th><th scope=col>EMPLOYEE_ID</th><th scope=col>FIRST_NAME</th><th scope=col>LAST_NAME</th><th scope=col>EMAIL</th><th scope=col>PHONE_NUMBER</th><th scope=col>HIRE_DATE</th><th scope=col>JOB_ID</th><th scope=col>SALARY</th><th scope=col>MANAGER_ID</th><th scope=col>DEPARTMENT_ID</th></tr></thead>\n",
       "<tbody>\n",
       "\t<tr><th scope=row>10</th><td>100         </td><td>Steven      </td><td>King        </td><td>SKING       </td><td>515.123.4567</td><td>17-Jun-03   </td><td>AD_PRES     </td><td>24000       </td><td> -          </td><td>90          </td></tr>\n",
       "</tbody>\n",
       "</table>\n"
      ],
      "text/latex": [
       "\\begin{tabular}{r|llllllllll}\n",
       "  & EMPLOYEE\\_ID & FIRST\\_NAME & LAST\\_NAME & EMAIL & PHONE\\_NUMBER & HIRE\\_DATE & JOB\\_ID & SALARY & MANAGER\\_ID & DEPARTMENT\\_ID\\\\\n",
       "\\hline\n",
       "\t10 & 100          & Steven       & King         & SKING        & 515.123.4567 & 17-Jun-03    & AD\\_PRES    & 24000        &  -           & 90          \\\\\n",
       "\\end{tabular}\n"
      ],
      "text/markdown": [
       "\n",
       "| <!--/--> | EMPLOYEE_ID | FIRST_NAME | LAST_NAME | EMAIL | PHONE_NUMBER | HIRE_DATE | JOB_ID | SALARY | MANAGER_ID | DEPARTMENT_ID |\n",
       "|---|---|---|---|---|---|---|---|---|---|---|\n",
       "| 10 | 100          | Steven       | King         | SKING        | 515.123.4567 | 17-Jun-03    | AD_PRES      | 24000        |  -           | 90           |\n",
       "\n"
      ],
      "text/plain": [
       "   EMPLOYEE_ID FIRST_NAME LAST_NAME EMAIL PHONE_NUMBER HIRE_DATE JOB_ID  SALARY\n",
       "10 100         Steven     King      SKING 515.123.4567 17-Jun-03 AD_PRES 24000 \n",
       "   MANAGER_ID DEPARTMENT_ID\n",
       "10  -         90           "
      ]
     },
     "metadata": {},
     "output_type": "display_data"
    }
   ],
   "source": [
    "a=subset(df, SALARY == max(SALARY)) #details of the perosn having maximum salary\n",
    "a"
   ]
  },
  {
   "cell_type": "code",
   "execution_count": 17,
   "id": "7a23a4df",
   "metadata": {},
   "outputs": [
    {
     "data": {
      "text/plain": [
       "\n",
       "AC_ACCOUNT     AC_MGR    AD_ASST    AD_PRES      AD_VP FI_ACCOUNT     FI_MGR \n",
       "         1          1          1          1          2          5          1 \n",
       "    HR_REP    IT_PROG     MK_MAN     MK_REP     PR_REP   PU_CLERK     PU_MAN \n",
       "         1          5          1          1          1          5          1 \n",
       "  SH_CLERK   ST_CLERK     ST_MAN \n",
       "         2         16          5 "
      ]
     },
     "metadata": {},
     "output_type": "display_data"
    }
   ],
   "source": [
    "table(df$JOB_ID)"
   ]
  },
  {
   "cell_type": "code",
   "execution_count": 18,
   "id": "1669a9c3",
   "metadata": {},
   "outputs": [
    {
     "data": {
      "text/html": [
       "<ol class=list-inline>\n",
       "\t<li>SH_CLERK</li>\n",
       "\t<li>SH_CLERK</li>\n",
       "\t<li>AD_ASST</li>\n",
       "\t<li>MK_MAN</li>\n",
       "\t<li>MK_REP</li>\n",
       "\t<li>HR_REP</li>\n",
       "\t<li>PR_REP</li>\n",
       "\t<li>AC_MGR</li>\n",
       "\t<li>AC_ACCOUNT</li>\n",
       "\t<li>AD_PRES</li>\n",
       "\t<li>AD_VP</li>\n",
       "\t<li>AD_VP</li>\n",
       "\t<li>IT_PROG</li>\n",
       "\t<li>IT_PROG</li>\n",
       "\t<li>IT_PROG</li>\n",
       "\t<li>IT_PROG</li>\n",
       "\t<li>IT_PROG</li>\n",
       "\t<li>FI_MGR</li>\n",
       "\t<li>FI_ACCOUNT</li>\n",
       "\t<li>FI_ACCOUNT</li>\n",
       "\t<li>FI_ACCOUNT</li>\n",
       "\t<li>FI_ACCOUNT</li>\n",
       "\t<li>FI_ACCOUNT</li>\n",
       "\t<li>PU_MAN</li>\n",
       "\t<li>PU_CLERK</li>\n",
       "\t<li>PU_CLERK</li>\n",
       "\t<li>PU_CLERK</li>\n",
       "\t<li>PU_CLERK</li>\n",
       "\t<li>PU_CLERK</li>\n",
       "\t<li>ST_MAN</li>\n",
       "\t<li>ST_MAN</li>\n",
       "\t<li>ST_MAN</li>\n",
       "\t<li>ST_MAN</li>\n",
       "\t<li>ST_MAN</li>\n",
       "\t<li>ST_CLERK</li>\n",
       "\t<li>ST_CLERK</li>\n",
       "\t<li>ST_CLERK</li>\n",
       "\t<li>ST_CLERK</li>\n",
       "\t<li>ST_CLERK</li>\n",
       "\t<li>ST_CLERK</li>\n",
       "\t<li>ST_CLERK</li>\n",
       "\t<li>ST_CLERK</li>\n",
       "\t<li>ST_CLERK</li>\n",
       "\t<li>ST_CLERK</li>\n",
       "\t<li>ST_CLERK</li>\n",
       "\t<li>ST_CLERK</li>\n",
       "\t<li>ST_CLERK</li>\n",
       "\t<li>ST_CLERK</li>\n",
       "\t<li>ST_CLERK</li>\n",
       "\t<li>ST_CLERK</li>\n",
       "</ol>\n",
       "\n",
       "<details>\n",
       "\t<summary style=display:list-item;cursor:pointer>\n",
       "\t\t<strong>Levels</strong>:\n",
       "\t</summary>\n",
       "\t<ol class=list-inline>\n",
       "\t\t<li>'AC_ACCOUNT'</li>\n",
       "\t\t<li>'AC_MGR'</li>\n",
       "\t\t<li>'AD_ASST'</li>\n",
       "\t\t<li>'AD_PRES'</li>\n",
       "\t\t<li>'AD_VP'</li>\n",
       "\t\t<li>'FI_ACCOUNT'</li>\n",
       "\t\t<li>'FI_MGR'</li>\n",
       "\t\t<li>'HR_REP'</li>\n",
       "\t\t<li>'IT_PROG'</li>\n",
       "\t\t<li>'MK_MAN'</li>\n",
       "\t\t<li>'MK_REP'</li>\n",
       "\t\t<li>'PR_REP'</li>\n",
       "\t\t<li>'PU_CLERK'</li>\n",
       "\t\t<li>'PU_MAN'</li>\n",
       "\t\t<li>'SH_CLERK'</li>\n",
       "\t\t<li>'ST_CLERK'</li>\n",
       "\t\t<li>'ST_MAN'</li>\n",
       "\t</ol>\n",
       "</details>"
      ],
      "text/latex": [
       "\\begin{enumerate*}\n",
       "\\item SH\\_CLERK\n",
       "\\item SH\\_CLERK\n",
       "\\item AD\\_ASST\n",
       "\\item MK\\_MAN\n",
       "\\item MK\\_REP\n",
       "\\item HR\\_REP\n",
       "\\item PR\\_REP\n",
       "\\item AC\\_MGR\n",
       "\\item AC\\_ACCOUNT\n",
       "\\item AD\\_PRES\n",
       "\\item AD\\_VP\n",
       "\\item AD\\_VP\n",
       "\\item IT\\_PROG\n",
       "\\item IT\\_PROG\n",
       "\\item IT\\_PROG\n",
       "\\item IT\\_PROG\n",
       "\\item IT\\_PROG\n",
       "\\item FI\\_MGR\n",
       "\\item FI\\_ACCOUNT\n",
       "\\item FI\\_ACCOUNT\n",
       "\\item FI\\_ACCOUNT\n",
       "\\item FI\\_ACCOUNT\n",
       "\\item FI\\_ACCOUNT\n",
       "\\item PU\\_MAN\n",
       "\\item PU\\_CLERK\n",
       "\\item PU\\_CLERK\n",
       "\\item PU\\_CLERK\n",
       "\\item PU\\_CLERK\n",
       "\\item PU\\_CLERK\n",
       "\\item ST\\_MAN\n",
       "\\item ST\\_MAN\n",
       "\\item ST\\_MAN\n",
       "\\item ST\\_MAN\n",
       "\\item ST\\_MAN\n",
       "\\item ST\\_CLERK\n",
       "\\item ST\\_CLERK\n",
       "\\item ST\\_CLERK\n",
       "\\item ST\\_CLERK\n",
       "\\item ST\\_CLERK\n",
       "\\item ST\\_CLERK\n",
       "\\item ST\\_CLERK\n",
       "\\item ST\\_CLERK\n",
       "\\item ST\\_CLERK\n",
       "\\item ST\\_CLERK\n",
       "\\item ST\\_CLERK\n",
       "\\item ST\\_CLERK\n",
       "\\item ST\\_CLERK\n",
       "\\item ST\\_CLERK\n",
       "\\item ST\\_CLERK\n",
       "\\item ST\\_CLERK\n",
       "\\end{enumerate*}\n",
       "\n",
       "\\emph{Levels}: \\begin{enumerate*}\n",
       "\\item 'AC\\_ACCOUNT'\n",
       "\\item 'AC\\_MGR'\n",
       "\\item 'AD\\_ASST'\n",
       "\\item 'AD\\_PRES'\n",
       "\\item 'AD\\_VP'\n",
       "\\item 'FI\\_ACCOUNT'\n",
       "\\item 'FI\\_MGR'\n",
       "\\item 'HR\\_REP'\n",
       "\\item 'IT\\_PROG'\n",
       "\\item 'MK\\_MAN'\n",
       "\\item 'MK\\_REP'\n",
       "\\item 'PR\\_REP'\n",
       "\\item 'PU\\_CLERK'\n",
       "\\item 'PU\\_MAN'\n",
       "\\item 'SH\\_CLERK'\n",
       "\\item 'ST\\_CLERK'\n",
       "\\item 'ST\\_MAN'\n",
       "\\end{enumerate*}\n"
      ],
      "text/markdown": [
       "1. SH_CLERK\n",
       "2. SH_CLERK\n",
       "3. AD_ASST\n",
       "4. MK_MAN\n",
       "5. MK_REP\n",
       "6. HR_REP\n",
       "7. PR_REP\n",
       "8. AC_MGR\n",
       "9. AC_ACCOUNT\n",
       "10. AD_PRES\n",
       "11. AD_VP\n",
       "12. AD_VP\n",
       "13. IT_PROG\n",
       "14. IT_PROG\n",
       "15. IT_PROG\n",
       "16. IT_PROG\n",
       "17. IT_PROG\n",
       "18. FI_MGR\n",
       "19. FI_ACCOUNT\n",
       "20. FI_ACCOUNT\n",
       "21. FI_ACCOUNT\n",
       "22. FI_ACCOUNT\n",
       "23. FI_ACCOUNT\n",
       "24. PU_MAN\n",
       "25. PU_CLERK\n",
       "26. PU_CLERK\n",
       "27. PU_CLERK\n",
       "28. PU_CLERK\n",
       "29. PU_CLERK\n",
       "30. ST_MAN\n",
       "31. ST_MAN\n",
       "32. ST_MAN\n",
       "33. ST_MAN\n",
       "34. ST_MAN\n",
       "35. ST_CLERK\n",
       "36. ST_CLERK\n",
       "37. ST_CLERK\n",
       "38. ST_CLERK\n",
       "39. ST_CLERK\n",
       "40. ST_CLERK\n",
       "41. ST_CLERK\n",
       "42. ST_CLERK\n",
       "43. ST_CLERK\n",
       "44. ST_CLERK\n",
       "45. ST_CLERK\n",
       "46. ST_CLERK\n",
       "47. ST_CLERK\n",
       "48. ST_CLERK\n",
       "49. ST_CLERK\n",
       "50. ST_CLERK\n",
       "\n",
       "\n",
       "\n",
       "**Levels**: 1. 'AC_ACCOUNT'\n",
       "2. 'AC_MGR'\n",
       "3. 'AD_ASST'\n",
       "4. 'AD_PRES'\n",
       "5. 'AD_VP'\n",
       "6. 'FI_ACCOUNT'\n",
       "7. 'FI_MGR'\n",
       "8. 'HR_REP'\n",
       "9. 'IT_PROG'\n",
       "10. 'MK_MAN'\n",
       "11. 'MK_REP'\n",
       "12. 'PR_REP'\n",
       "13. 'PU_CLERK'\n",
       "14. 'PU_MAN'\n",
       "15. 'SH_CLERK'\n",
       "16. 'ST_CLERK'\n",
       "17. 'ST_MAN'\n",
       "\n",
       "\n"
      ],
      "text/plain": [
       " [1] SH_CLERK   SH_CLERK   AD_ASST    MK_MAN     MK_REP     HR_REP    \n",
       " [7] PR_REP     AC_MGR     AC_ACCOUNT AD_PRES    AD_VP      AD_VP     \n",
       "[13] IT_PROG    IT_PROG    IT_PROG    IT_PROG    IT_PROG    FI_MGR    \n",
       "[19] FI_ACCOUNT FI_ACCOUNT FI_ACCOUNT FI_ACCOUNT FI_ACCOUNT PU_MAN    \n",
       "[25] PU_CLERK   PU_CLERK   PU_CLERK   PU_CLERK   PU_CLERK   ST_MAN    \n",
       "[31] ST_MAN     ST_MAN     ST_MAN     ST_MAN     ST_CLERK   ST_CLERK  \n",
       "[37] ST_CLERK   ST_CLERK   ST_CLERK   ST_CLERK   ST_CLERK   ST_CLERK  \n",
       "[43] ST_CLERK   ST_CLERK   ST_CLERK   ST_CLERK   ST_CLERK   ST_CLERK  \n",
       "[49] ST_CLERK   ST_CLERK  \n",
       "17 Levels: AC_ACCOUNT AC_MGR AD_ASST AD_PRES AD_VP FI_ACCOUNT FI_MGR ... ST_MAN"
      ]
     },
     "metadata": {},
     "output_type": "display_data"
    }
   ],
   "source": [
    "factor(df$JOB_ID)"
   ]
  },
  {
   "cell_type": "code",
   "execution_count": 25,
   "id": "6edcaf09",
   "metadata": {},
   "outputs": [
    {
     "data": {
      "text/html": [
       "<table>\n",
       "<thead><tr><th scope=col>EMPLOYEE_ID</th><th scope=col>FIRST_NAME</th><th scope=col>LAST_NAME</th><th scope=col>EMAIL</th><th scope=col>PHONE_NUMBER</th><th scope=col>HIRE_DATE</th><th scope=col>JOB_ID</th><th scope=col>SALARY</th><th scope=col>MANAGER_ID</th><th scope=col>DEPARTMENT_ID</th></tr></thead>\n",
       "<tbody>\n",
       "\t<tr><td>198         </td><td>Donald      </td><td>OConnell    </td><td>DOCONNEL    </td><td>650.507.9833</td><td>21-Jun-07   </td><td>SH_CLERK    </td><td>2600        </td><td>124         </td><td>50          </td></tr>\n",
       "\t<tr><td>199         </td><td>Douglas     </td><td>Grant       </td><td>DGRANT      </td><td>650.507.9844</td><td>13-Jan-08   </td><td>SH_CLERK    </td><td>2600        </td><td>124         </td><td>50          </td></tr>\n",
       "</tbody>\n",
       "</table>\n"
      ],
      "text/latex": [
       "\\begin{tabular}{r|llllllllll}\n",
       " EMPLOYEE\\_ID & FIRST\\_NAME & LAST\\_NAME & EMAIL & PHONE\\_NUMBER & HIRE\\_DATE & JOB\\_ID & SALARY & MANAGER\\_ID & DEPARTMENT\\_ID\\\\\n",
       "\\hline\n",
       "\t 198          & Donald       & OConnell     & DOCONNEL     & 650.507.9833 & 21-Jun-07    & SH\\_CLERK   & 2600         & 124          & 50          \\\\\n",
       "\t 199          & Douglas      & Grant        & DGRANT       & 650.507.9844 & 13-Jan-08    & SH\\_CLERK   & 2600         & 124          & 50          \\\\\n",
       "\\end{tabular}\n"
      ],
      "text/markdown": [
       "\n",
       "| EMPLOYEE_ID | FIRST_NAME | LAST_NAME | EMAIL | PHONE_NUMBER | HIRE_DATE | JOB_ID | SALARY | MANAGER_ID | DEPARTMENT_ID |\n",
       "|---|---|---|---|---|---|---|---|---|---|\n",
       "| 198          | Donald       | OConnell     | DOCONNEL     | 650.507.9833 | 21-Jun-07    | SH_CLERK     | 2600         | 124          | 50           |\n",
       "| 199          | Douglas      | Grant        | DGRANT       | 650.507.9844 | 13-Jan-08    | SH_CLERK     | 2600         | 124          | 50           |\n",
       "\n"
      ],
      "text/plain": [
       "  EMPLOYEE_ID FIRST_NAME LAST_NAME EMAIL    PHONE_NUMBER HIRE_DATE JOB_ID  \n",
       "1 198         Donald     OConnell  DOCONNEL 650.507.9833 21-Jun-07 SH_CLERK\n",
       "2 199         Douglas    Grant     DGRANT   650.507.9844 13-Jan-08 SH_CLERK\n",
       "  SALARY MANAGER_ID DEPARTMENT_ID\n",
       "1 2600   124        50           \n",
       "2 2600   124        50           "
      ]
     },
     "metadata": {},
     "output_type": "display_data"
    }
   ],
   "source": [
    "a= subset(df, JOB_ID==\"SH_CLERK\")\n",
    "a"
   ]
  },
  {
   "cell_type": "code",
   "execution_count": 26,
   "id": "78eaa30b",
   "metadata": {},
   "outputs": [
    {
     "data": {
      "text/html": [
       "<table>\n",
       "<thead><tr><th></th><th scope=col>EMPLOYEE_ID</th><th scope=col>FIRST_NAME</th><th scope=col>LAST_NAME</th><th scope=col>EMAIL</th><th scope=col>PHONE_NUMBER</th><th scope=col>HIRE_DATE</th><th scope=col>JOB_ID</th><th scope=col>SALARY</th><th scope=col>MANAGER_ID</th><th scope=col>DEPARTMENT_ID</th></tr></thead>\n",
       "<tbody>\n",
       "\t<tr><th scope=row>13</th><td>103         </td><td>Alexander   </td><td>Hunold      </td><td>AHUNOLD     </td><td>590.423.4567</td><td>03-Jan-06   </td><td>IT_PROG     </td><td>9000        </td><td>102         </td><td>60          </td></tr>\n",
       "\t<tr><th scope=row>14</th><td>104         </td><td>Bruce       </td><td>Ernst       </td><td>BERNST      </td><td>590.423.4568</td><td>21-May-07   </td><td>IT_PROG     </td><td>6000        </td><td>103         </td><td>60          </td></tr>\n",
       "</tbody>\n",
       "</table>\n"
      ],
      "text/latex": [
       "\\begin{tabular}{r|llllllllll}\n",
       "  & EMPLOYEE\\_ID & FIRST\\_NAME & LAST\\_NAME & EMAIL & PHONE\\_NUMBER & HIRE\\_DATE & JOB\\_ID & SALARY & MANAGER\\_ID & DEPARTMENT\\_ID\\\\\n",
       "\\hline\n",
       "\t13 & 103          & Alexander    & Hunold       & AHUNOLD      & 590.423.4567 & 03-Jan-06    & IT\\_PROG    & 9000         & 102          & 60          \\\\\n",
       "\t14 & 104          & Bruce        & Ernst        & BERNST       & 590.423.4568 & 21-May-07    & IT\\_PROG    & 6000         & 103          & 60          \\\\\n",
       "\\end{tabular}\n"
      ],
      "text/markdown": [
       "\n",
       "| <!--/--> | EMPLOYEE_ID | FIRST_NAME | LAST_NAME | EMAIL | PHONE_NUMBER | HIRE_DATE | JOB_ID | SALARY | MANAGER_ID | DEPARTMENT_ID |\n",
       "|---|---|---|---|---|---|---|---|---|---|---|\n",
       "| 13 | 103          | Alexander    | Hunold       | AHUNOLD      | 590.423.4567 | 03-Jan-06    | IT_PROG      | 9000         | 102          | 60           |\n",
       "| 14 | 104          | Bruce        | Ernst        | BERNST       | 590.423.4568 | 21-May-07    | IT_PROG      | 6000         | 103          | 60           |\n",
       "\n"
      ],
      "text/plain": [
       "   EMPLOYEE_ID FIRST_NAME LAST_NAME EMAIL   PHONE_NUMBER HIRE_DATE JOB_ID \n",
       "13 103         Alexander  Hunold    AHUNOLD 590.423.4567 03-Jan-06 IT_PROG\n",
       "14 104         Bruce      Ernst     BERNST  590.423.4568 21-May-07 IT_PROG\n",
       "   SALARY MANAGER_ID DEPARTMENT_ID\n",
       "13 9000   102        60           \n",
       "14 6000   103        60           "
      ]
     },
     "metadata": {},
     "output_type": "display_data"
    }
   ],
   "source": [
    "b= subset(df, SALARY>5000 & JOB_ID==\"IT_PROG\")\n",
    "b"
   ]
  },
  {
   "cell_type": "code",
   "execution_count": null,
   "id": "ae931eca",
   "metadata": {},
   "outputs": [],
   "source": []
  },
  {
   "cell_type": "code",
   "execution_count": 27,
   "id": "6c9cb614",
   "metadata": {},
   "outputs": [
    {
     "name": "stderr",
     "output_type": "stream",
     "text": [
      "also installing the dependencies 'cpp11', 'timechange', 'generics'\n",
      "\n"
     ]
    },
    {
     "name": "stdout",
     "output_type": "stream",
     "text": [
      "\n",
      "  There are binary versions available but the source versions are later:\n",
      "           binary source needs_compilation\n",
      "cpp11       0.2.7  0.4.3             FALSE\n",
      "timechange  0.0.2  0.1.1              TRUE\n",
      "generics    0.1.0  0.1.3             FALSE\n",
      "lubridate  1.7.10  1.9.0              TRUE\n",
      "\n",
      "  Binaries will be installed\n",
      "package 'timechange' successfully unpacked and MD5 sums checked\n",
      "package 'lubridate' successfully unpacked and MD5 sums checked\n",
      "\n",
      "The downloaded binary packages are in\n",
      "\tC:\\Users\\nanth\\AppData\\Local\\Temp\\RtmpeIwF9F\\downloaded_packages\n"
     ]
    },
    {
     "name": "stderr",
     "output_type": "stream",
     "text": [
      "installing the source packages 'cpp11', 'generics'\n",
      "\n"
     ]
    }
   ],
   "source": [
    "install.packages(\"lubridate\")"
   ]
  },
  {
   "cell_type": "code",
   "execution_count": 42,
   "id": "f2c15c13",
   "metadata": {},
   "outputs": [
    {
     "name": "stderr",
     "output_type": "stream",
     "text": [
      "Warning message:\n",
      "\"package 'lubridate' was built under R version 3.6.3\"\n",
      "Attaching package: 'lubridate'\n",
      "\n",
      "The following objects are masked from 'package:base':\n",
      "\n",
      "    date, intersect, setdiff, union\n",
      "\n"
     ]
    }
   ],
   "source": [
    "library(\"lubridate\")"
   ]
  },
  {
   "cell_type": "code",
   "execution_count": null,
   "id": "de01ebdf",
   "metadata": {},
   "outputs": [],
   "source": []
  },
  {
   "cell_type": "code",
   "execution_count": null,
   "id": "06f0c01a",
   "metadata": {},
   "outputs": [],
   "source": [
    "ymd(df$Invoice)"
   ]
  },
  {
   "cell_type": "code",
   "execution_count": null,
   "id": "25b8493a",
   "metadata": {},
   "outputs": [],
   "source": [
    "day(df$Invoice)"
   ]
  },
  {
   "cell_type": "code",
   "execution_count": null,
   "id": "26428ac7",
   "metadata": {},
   "outputs": [],
   "source": [
    "year(df$Invoice)"
   ]
  },
  {
   "cell_type": "code",
   "execution_count": null,
   "id": "8139b7c0",
   "metadata": {},
   "outputs": [],
   "source": [
    "#the number of days to settle the invoice:\n",
    "a=as.Date(df$due)-as.Date(df$Invoice)\n",
    "a"
   ]
  },
  {
   "cell_type": "code",
   "execution_count": null,
   "id": "00eb39a1",
   "metadata": {},
   "outputs": [],
   "source": [
    "ymd(2017)"
   ]
  },
  {
   "cell_type": "code",
   "execution_count": 40,
   "id": "38da21cc",
   "metadata": {},
   "outputs": [
    {
     "ename": "ERROR",
     "evalue": "Error in month(a): could not find function \"month\"\n",
     "output_type": "error",
     "traceback": [
      "Error in month(a): could not find function \"month\"\nTraceback:\n"
     ]
    }
   ],
   "source": [
    "month(a)"
   ]
  },
  {
   "cell_type": "code",
   "execution_count": null,
   "id": "a62e1917",
   "metadata": {},
   "outputs": [],
   "source": [
    "# find overdue:\n",
    "a=Sys.Date() -as.Date(df$due)\n",
    "a"
   ]
  },
  {
   "cell_type": "code",
   "execution_count": null,
   "id": "e6a59372",
   "metadata": {},
   "outputs": [],
   "source": [
    "df[year(df$due)%%4==0]"
   ]
  },
  {
   "cell_type": "code",
   "execution_count": null,
   "id": "d6815df3",
   "metadata": {},
   "outputs": [],
   "source": []
  },
  {
   "cell_type": "code",
   "execution_count": null,
   "id": "c068574c",
   "metadata": {},
   "outputs": [],
   "source": []
  },
  {
   "cell_type": "code",
   "execution_count": null,
   "id": "a9c94d7d",
   "metadata": {},
   "outputs": [],
   "source": []
  },
  {
   "cell_type": "code",
   "execution_count": null,
   "id": "93de5cfd",
   "metadata": {},
   "outputs": [],
   "source": []
  },
  {
   "cell_type": "code",
   "execution_count": null,
   "id": "734693d3",
   "metadata": {},
   "outputs": [],
   "source": []
  },
  {
   "cell_type": "raw",
   "id": "f73b29e7",
   "metadata": {},
   "source": [
    "\n",
    "             Sys.Date()-as.Date(df$Due)\n",
    "Leap year in invoice:\n",
    "             df[year{df$Invoice)%%4==0,]\n",
    "The number of days to settle the invoice:\n",
    "             as.date(df$Due) -as.Date(df$Invoice)\n",
    "Quarter of Invoice:\n",
    "             quarter(df$Invoice)\n"
   ]
  },
  {
   "cell_type": "code",
   "execution_count": null,
   "id": "4219286f",
   "metadata": {},
   "outputs": [],
   "source": []
  }
 ],
 "metadata": {
  "kernelspec": {
   "display_name": "R",
   "language": "R",
   "name": "ir"
  },
  "language_info": {
   "codemirror_mode": "r",
   "file_extension": ".r",
   "mimetype": "text/x-r-source",
   "name": "R",
   "pygments_lexer": "r",
   "version": "3.6.1"
  }
 },
 "nbformat": 4,
 "nbformat_minor": 5
}
