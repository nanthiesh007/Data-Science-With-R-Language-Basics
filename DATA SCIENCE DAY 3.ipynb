{
 "cells": [
  {
   "cell_type": "code",
   "execution_count": 1,
   "id": "31125011",
   "metadata": {},
   "outputs": [],
   "source": [
    "#print -> user friendly (or) easily understandable\n",
    "#paste -> sometimes user cannot understand"
   ]
  },
  {
   "cell_type": "markdown",
   "id": "ec968359",
   "metadata": {},
   "source": [
    "# DATA FRAMES:"
   ]
  },
  {
   "cell_type": "code",
   "execution_count": 15,
   "id": "fb0dda4f",
   "metadata": {},
   "outputs": [],
   "source": [
    "df=data.frame(emp_id=c(1,2,3), \n",
    "              emp_name=c(\"Nanthiesh\",\"Demon\",\"NarutoUzumaki\"), \n",
    "              emp_date=c(\"2004-07-27\", \"1001-01-01\", \"1001-03-01\"), \n",
    "              gender=factor(c(\"M\",\"M\",\"F\")))"
   ]
  },
  {
   "cell_type": "code",
   "execution_count": 3,
   "id": "dc6fe680",
   "metadata": {},
   "outputs": [
    {
     "data": {
      "text/html": [
       "<table>\n",
       "<thead><tr><th scope=col>emp_id</th><th scope=col>emp_name</th><th scope=col>emp_date</th><th scope=col>gender</th></tr></thead>\n",
       "<tbody>\n",
       "\t<tr><td>1            </td><td>Nanthiesh    </td><td>2004-07-27   </td><td>M            </td></tr>\n",
       "\t<tr><td>2            </td><td>Demon        </td><td>1001-01-01   </td><td>M            </td></tr>\n",
       "\t<tr><td>3            </td><td>NarutoUzumaki</td><td>1001-03-01   </td><td>F            </td></tr>\n",
       "</tbody>\n",
       "</table>\n"
      ],
      "text/latex": [
       "\\begin{tabular}{r|llll}\n",
       " emp\\_id & emp\\_name & emp\\_date & gender\\\\\n",
       "\\hline\n",
       "\t 1             & Nanthiesh     & 2004-07-27    & M            \\\\\n",
       "\t 2             & Demon         & 1001-01-01    & M            \\\\\n",
       "\t 3             & NarutoUzumaki & 1001-03-01    & F            \\\\\n",
       "\\end{tabular}\n"
      ],
      "text/markdown": [
       "\n",
       "| emp_id | emp_name | emp_date | gender |\n",
       "|---|---|---|---|\n",
       "| 1             | Nanthiesh     | 2004-07-27    | M             |\n",
       "| 2             | Demon         | 1001-01-01    | M             |\n",
       "| 3             | NarutoUzumaki | 1001-03-01    | F             |\n",
       "\n"
      ],
      "text/plain": [
       "  emp_id emp_name      emp_date   gender\n",
       "1 1      Nanthiesh     2004-07-27 M     \n",
       "2 2      Demon         1001-01-01 M     \n",
       "3 3      NarutoUzumaki 1001-03-01 F     "
      ]
     },
     "metadata": {},
     "output_type": "display_data"
    }
   ],
   "source": [
    "df"
   ]
  },
  {
   "cell_type": "code",
   "execution_count": 4,
   "id": "41e9b1d2",
   "metadata": {},
   "outputs": [
    {
     "data": {
      "text/html": [
       "<table>\n",
       "<thead><tr><th></th><th scope=col>emp_id</th><th scope=col>emp_name</th><th scope=col>emp_date</th><th scope=col>gender</th></tr></thead>\n",
       "<tbody>\n",
       "\t<tr><th scope=row>2</th><td>2            </td><td>Demon        </td><td>1001-01-01   </td><td>M            </td></tr>\n",
       "\t<tr><th scope=row>3</th><td>3            </td><td>NarutoUzumaki</td><td>1001-03-01   </td><td>F            </td></tr>\n",
       "\t<tr><th scope=row>1</th><td>1            </td><td>Nanthiesh    </td><td>2004-07-27   </td><td>M            </td></tr>\n",
       "</tbody>\n",
       "</table>\n"
      ],
      "text/latex": [
       "\\begin{tabular}{r|llll}\n",
       "  & emp\\_id & emp\\_name & emp\\_date & gender\\\\\n",
       "\\hline\n",
       "\t2 & 2             & Demon         & 1001-01-01    & M            \\\\\n",
       "\t3 & 3             & NarutoUzumaki & 1001-03-01    & F            \\\\\n",
       "\t1 & 1             & Nanthiesh     & 2004-07-27    & M            \\\\\n",
       "\\end{tabular}\n"
      ],
      "text/markdown": [
       "\n",
       "| <!--/--> | emp_id | emp_name | emp_date | gender |\n",
       "|---|---|---|---|---|\n",
       "| 2 | 2             | Demon         | 1001-01-01    | M             |\n",
       "| 3 | 3             | NarutoUzumaki | 1001-03-01    | F             |\n",
       "| 1 | 1             | Nanthiesh     | 2004-07-27    | M             |\n",
       "\n"
      ],
      "text/plain": [
       "  emp_id emp_name      emp_date   gender\n",
       "2 2      Demon         1001-01-01 M     \n",
       "3 3      NarutoUzumaki 1001-03-01 F     \n",
       "1 1      Nanthiesh     2004-07-27 M     "
      ]
     },
     "metadata": {},
     "output_type": "display_data"
    }
   ],
   "source": [
    "# sorting the data with joining date\n",
    "\n",
    "df[with(df,order(c(emp_date))),]"
   ]
  },
  {
   "cell_type": "code",
   "execution_count": 5,
   "id": "f9d1f975",
   "metadata": {},
   "outputs": [
    {
     "data": {
      "text/html": [
       "<table>\n",
       "<thead><tr><th></th><th scope=col>emp_id</th><th scope=col>emp_name</th><th scope=col>emp_date</th><th scope=col>gender</th></tr></thead>\n",
       "<tbody>\n",
       "\t<tr><th scope=row>2</th><td>2            </td><td>Demon        </td><td>1001-01-01   </td><td>M            </td></tr>\n",
       "\t<tr><th scope=row>1</th><td>1            </td><td>Nanthiesh    </td><td>2004-07-27   </td><td>M            </td></tr>\n",
       "\t<tr><th scope=row>3</th><td>3            </td><td>NarutoUzumaki</td><td>1001-03-01   </td><td>F            </td></tr>\n",
       "</tbody>\n",
       "</table>\n"
      ],
      "text/latex": [
       "\\begin{tabular}{r|llll}\n",
       "  & emp\\_id & emp\\_name & emp\\_date & gender\\\\\n",
       "\\hline\n",
       "\t2 & 2             & Demon         & 1001-01-01    & M            \\\\\n",
       "\t1 & 1             & Nanthiesh     & 2004-07-27    & M            \\\\\n",
       "\t3 & 3             & NarutoUzumaki & 1001-03-01    & F            \\\\\n",
       "\\end{tabular}\n"
      ],
      "text/markdown": [
       "\n",
       "| <!--/--> | emp_id | emp_name | emp_date | gender |\n",
       "|---|---|---|---|---|\n",
       "| 2 | 2             | Demon         | 1001-01-01    | M             |\n",
       "| 1 | 1             | Nanthiesh     | 2004-07-27    | M             |\n",
       "| 3 | 3             | NarutoUzumaki | 1001-03-01    | F             |\n",
       "\n"
      ],
      "text/plain": [
       "  emp_id emp_name      emp_date   gender\n",
       "2 2      Demon         1001-01-01 M     \n",
       "1 1      Nanthiesh     2004-07-27 M     \n",
       "3 3      NarutoUzumaki 1001-03-01 F     "
      ]
     },
     "metadata": {},
     "output_type": "display_data"
    }
   ],
   "source": [
    "# sorting the data with employee name\n",
    "\n",
    "df[with(df,order(c(emp_name))),]"
   ]
  },
  {
   "cell_type": "code",
   "execution_count": 24,
   "id": "48d41bc1",
   "metadata": {},
   "outputs": [],
   "source": [
    "# adding new column in the existing data frame \n",
    "df$dept=c(\"CSE\",\"PYTHON\",\"MATHS\")"
   ]
  },
  {
   "cell_type": "code",
   "execution_count": 25,
   "id": "ad16ecdb",
   "metadata": {},
   "outputs": [
    {
     "data": {
      "text/html": [
       "<table>\n",
       "<thead><tr><th scope=col>emp_id</th><th scope=col>emp_name</th><th scope=col>emp_date</th><th scope=col>gender</th><th scope=col>dept</th></tr></thead>\n",
       "<tbody>\n",
       "\t<tr><td>1            </td><td>Nanthiesh    </td><td>2004-07-27   </td><td>M            </td><td>CSE          </td></tr>\n",
       "\t<tr><td>2            </td><td>Demon        </td><td>1001-01-01   </td><td>M            </td><td>PYTHON       </td></tr>\n",
       "\t<tr><td>3            </td><td>NarutoUzumaki</td><td>1001-03-01   </td><td>F            </td><td>MATHS        </td></tr>\n",
       "</tbody>\n",
       "</table>\n"
      ],
      "text/latex": [
       "\\begin{tabular}{r|lllll}\n",
       " emp\\_id & emp\\_name & emp\\_date & gender & dept\\\\\n",
       "\\hline\n",
       "\t 1             & Nanthiesh     & 2004-07-27    & M             & CSE          \\\\\n",
       "\t 2             & Demon         & 1001-01-01    & M             & PYTHON       \\\\\n",
       "\t 3             & NarutoUzumaki & 1001-03-01    & F             & MATHS        \\\\\n",
       "\\end{tabular}\n"
      ],
      "text/markdown": [
       "\n",
       "| emp_id | emp_name | emp_date | gender | dept |\n",
       "|---|---|---|---|---|\n",
       "| 1             | Nanthiesh     | 2004-07-27    | M             | CSE           |\n",
       "| 2             | Demon         | 1001-01-01    | M             | PYTHON        |\n",
       "| 3             | NarutoUzumaki | 1001-03-01    | F             | MATHS         |\n",
       "\n"
      ],
      "text/plain": [
       "  emp_id emp_name      emp_date   gender dept  \n",
       "1 1      Nanthiesh     2004-07-27 M      CSE   \n",
       "2 2      Demon         1001-01-01 M      PYTHON\n",
       "3 3      NarutoUzumaki 1001-03-01 F      MATHS "
      ]
     },
     "metadata": {},
     "output_type": "display_data"
    }
   ],
   "source": [
    "df"
   ]
  },
  {
   "cell_type": "code",
   "execution_count": 20,
   "id": "1ce8e3fb",
   "metadata": {},
   "outputs": [],
   "source": [
    "new_df=data.frame(emp_id=c(5),\n",
    "                 emp_name=c(\"NANTHIESH\"),\n",
    "                 emp_date=(c(\"2006-07-27\")),\n",
    "                 gender=factor(c(\"M\")),\n",
    "                  dept=c(\"IT\"))"
   ]
  },
  {
   "cell_type": "code",
   "execution_count": 26,
   "id": "6e0c9e1b",
   "metadata": {},
   "outputs": [
    {
     "data": {
      "text/html": [
       "<table>\n",
       "<thead><tr><th scope=col>emp_id</th><th scope=col>emp_name</th><th scope=col>emp_date</th><th scope=col>gender</th><th scope=col>dept</th></tr></thead>\n",
       "<tbody>\n",
       "\t<tr><td>5         </td><td>NANTHIESH </td><td>2006-07-27</td><td>M         </td><td>IT        </td></tr>\n",
       "</tbody>\n",
       "</table>\n"
      ],
      "text/latex": [
       "\\begin{tabular}{r|lllll}\n",
       " emp\\_id & emp\\_name & emp\\_date & gender & dept\\\\\n",
       "\\hline\n",
       "\t 5          & NANTHIESH  & 2006-07-27 & M          & IT        \\\\\n",
       "\\end{tabular}\n"
      ],
      "text/markdown": [
       "\n",
       "| emp_id | emp_name | emp_date | gender | dept |\n",
       "|---|---|---|---|---|\n",
       "| 5          | NANTHIESH  | 2006-07-27 | M          | IT         |\n",
       "\n"
      ],
      "text/plain": [
       "  emp_id emp_name  emp_date   gender dept\n",
       "1 5      NANTHIESH 2006-07-27 M      IT  "
      ]
     },
     "metadata": {},
     "output_type": "display_data"
    }
   ],
   "source": [
    "new_df"
   ]
  },
  {
   "cell_type": "code",
   "execution_count": 27,
   "id": "3a491fbf",
   "metadata": {},
   "outputs": [
    {
     "data": {
      "text/html": [
       "<table>\n",
       "<thead><tr><th scope=col>emp_id</th><th scope=col>emp_name</th><th scope=col>emp_date</th><th scope=col>gender</th><th scope=col>dept</th></tr></thead>\n",
       "<tbody>\n",
       "\t<tr><td>1            </td><td>Nanthiesh    </td><td>2004-07-27   </td><td>M            </td><td>CSE          </td></tr>\n",
       "\t<tr><td>2            </td><td>Demon        </td><td>1001-01-01   </td><td>M            </td><td>PYTHON       </td></tr>\n",
       "\t<tr><td>3            </td><td>NarutoUzumaki</td><td>1001-03-01   </td><td>F            </td><td>MATHS        </td></tr>\n",
       "\t<tr><td>5            </td><td>NANTHIESH    </td><td>2006-07-27   </td><td>M            </td><td>IT           </td></tr>\n",
       "</tbody>\n",
       "</table>\n"
      ],
      "text/latex": [
       "\\begin{tabular}{r|lllll}\n",
       " emp\\_id & emp\\_name & emp\\_date & gender & dept\\\\\n",
       "\\hline\n",
       "\t 1             & Nanthiesh     & 2004-07-27    & M             & CSE          \\\\\n",
       "\t 2             & Demon         & 1001-01-01    & M             & PYTHON       \\\\\n",
       "\t 3             & NarutoUzumaki & 1001-03-01    & F             & MATHS        \\\\\n",
       "\t 5             & NANTHIESH     & 2006-07-27    & M             & IT           \\\\\n",
       "\\end{tabular}\n"
      ],
      "text/markdown": [
       "\n",
       "| emp_id | emp_name | emp_date | gender | dept |\n",
       "|---|---|---|---|---|\n",
       "| 1             | Nanthiesh     | 2004-07-27    | M             | CSE           |\n",
       "| 2             | Demon         | 1001-01-01    | M             | PYTHON        |\n",
       "| 3             | NarutoUzumaki | 1001-03-01    | F             | MATHS         |\n",
       "| 5             | NANTHIESH     | 2006-07-27    | M             | IT            |\n",
       "\n"
      ],
      "text/plain": [
       "  emp_id emp_name      emp_date   gender dept  \n",
       "1 1      Nanthiesh     2004-07-27 M      CSE   \n",
       "2 2      Demon         1001-01-01 M      PYTHON\n",
       "3 3      NarutoUzumaki 1001-03-01 F      MATHS \n",
       "4 5      NANTHIESH     2006-07-27 M      IT    "
      ]
     },
     "metadata": {},
     "output_type": "display_data"
    }
   ],
   "source": [
    "# binding the new data frame with the old data frame\n",
    "rbind(df,new_df)"
   ]
  },
  {
   "cell_type": "code",
   "execution_count": 30,
   "id": "4b3f0100",
   "metadata": {},
   "outputs": [],
   "source": [
    "# removing coulmn or drop columns\n",
    "df=subset(df, select=-c(dept))"
   ]
  },
  {
   "cell_type": "code",
   "execution_count": 31,
   "id": "cd84f481",
   "metadata": {},
   "outputs": [
    {
     "data": {
      "text/html": [
       "<table>\n",
       "<thead><tr><th scope=col>emp_id</th><th scope=col>emp_name</th><th scope=col>emp_date</th><th scope=col>gender</th></tr></thead>\n",
       "<tbody>\n",
       "\t<tr><td>1            </td><td>Nanthiesh    </td><td>2004-07-27   </td><td>M            </td></tr>\n",
       "\t<tr><td>2            </td><td>Demon        </td><td>1001-01-01   </td><td>M            </td></tr>\n",
       "\t<tr><td>3            </td><td>NarutoUzumaki</td><td>1001-03-01   </td><td>F            </td></tr>\n",
       "</tbody>\n",
       "</table>\n"
      ],
      "text/latex": [
       "\\begin{tabular}{r|llll}\n",
       " emp\\_id & emp\\_name & emp\\_date & gender\\\\\n",
       "\\hline\n",
       "\t 1             & Nanthiesh     & 2004-07-27    & M            \\\\\n",
       "\t 2             & Demon         & 1001-01-01    & M            \\\\\n",
       "\t 3             & NarutoUzumaki & 1001-03-01    & F            \\\\\n",
       "\\end{tabular}\n"
      ],
      "text/markdown": [
       "\n",
       "| emp_id | emp_name | emp_date | gender |\n",
       "|---|---|---|---|\n",
       "| 1             | Nanthiesh     | 2004-07-27    | M             |\n",
       "| 2             | Demon         | 1001-01-01    | M             |\n",
       "| 3             | NarutoUzumaki | 1001-03-01    | F             |\n",
       "\n"
      ],
      "text/plain": [
       "  emp_id emp_name      emp_date   gender\n",
       "1 1      Nanthiesh     2004-07-27 M     \n",
       "2 2      Demon         1001-01-01 M     \n",
       "3 3      NarutoUzumaki 1001-03-01 F     "
      ]
     },
     "metadata": {},
     "output_type": "display_data"
    }
   ],
   "source": [
    "df"
   ]
  },
  {
   "cell_type": "code",
   "execution_count": 34,
   "id": "a621fe4c",
   "metadata": {},
   "outputs": [
    {
     "data": {
      "text/html": [
       "<table>\n",
       "<thead><tr><th></th><th scope=col>emp_id</th><th scope=col>emp_name</th><th scope=col>emp_date</th><th scope=col>gender</th></tr></thead>\n",
       "<tbody>\n",
       "\t<tr><th scope=row>2</th><td>2         </td><td>Demon     </td><td>1001-01-01</td><td>M         </td></tr>\n",
       "</tbody>\n",
       "</table>\n"
      ],
      "text/latex": [
       "\\begin{tabular}{r|llll}\n",
       "  & emp\\_id & emp\\_name & emp\\_date & gender\\\\\n",
       "\\hline\n",
       "\t2 & 2          & Demon      & 1001-01-01 & M         \\\\\n",
       "\\end{tabular}\n"
      ],
      "text/markdown": [
       "\n",
       "| <!--/--> | emp_id | emp_name | emp_date | gender |\n",
       "|---|---|---|---|---|\n",
       "| 2 | 2          | Demon      | 1001-01-01 | M          |\n",
       "\n"
      ],
      "text/plain": [
       "  emp_id emp_name emp_date   gender\n",
       "2 2      Demon    1001-01-01 M     "
      ]
     },
     "metadata": {},
     "output_type": "display_data"
    },
    {
     "data": {
      "text/html": [
       "<table>\n",
       "<thead><tr><th></th><th scope=col>emp_id</th><th scope=col>emp_name</th><th scope=col>emp_date</th><th scope=col>gender</th></tr></thead>\n",
       "<tbody>\n",
       "\t<tr><th scope=row>1</th><td>1            </td><td>Nanthiesh    </td><td>2004-07-27   </td><td>M            </td></tr>\n",
       "\t<tr><th scope=row>3</th><td>3            </td><td>NarutoUzumaki</td><td>1001-03-01   </td><td>F            </td></tr>\n",
       "</tbody>\n",
       "</table>\n"
      ],
      "text/latex": [
       "\\begin{tabular}{r|llll}\n",
       "  & emp\\_id & emp\\_name & emp\\_date & gender\\\\\n",
       "\\hline\n",
       "\t1 & 1             & Nanthiesh     & 2004-07-27    & M            \\\\\n",
       "\t3 & 3             & NarutoUzumaki & 1001-03-01    & F            \\\\\n",
       "\\end{tabular}\n"
      ],
      "text/markdown": [
       "\n",
       "| <!--/--> | emp_id | emp_name | emp_date | gender |\n",
       "|---|---|---|---|---|\n",
       "| 1 | 1             | Nanthiesh     | 2004-07-27    | M             |\n",
       "| 3 | 3             | NarutoUzumaki | 1001-03-01    | F             |\n",
       "\n"
      ],
      "text/plain": [
       "  emp_id emp_name      emp_date   gender\n",
       "1 1      Nanthiesh     2004-07-27 M     \n",
       "3 3      NarutoUzumaki 1001-03-01 F     "
      ]
     },
     "metadata": {},
     "output_type": "display_data"
    }
   ],
   "source": [
    "# removing the row (or) droping a row\n",
    "# before removing\n",
    "df[c(2),]\n",
    "# after removing\n",
    "df[-c(2),]"
   ]
  },
  {
   "cell_type": "markdown",
   "id": "355aeaa9",
   "metadata": {},
   "source": [
    "# JOINS:"
   ]
  },
  {
   "cell_type": "code",
   "execution_count": 41,
   "id": "e9b90cf4",
   "metadata": {},
   "outputs": [],
   "source": [
    "df8=data.frame(StudentId=c(101,102,103,104,105,106,107),\n",
    "             Product=c(\"Hindi\",\"English\",\"Tamil\",\"Maths\",\"Biology\",\"Social Science\",\"Zoology\"))"
   ]
  },
  {
   "cell_type": "code",
   "execution_count": 42,
   "id": "c9d31e28",
   "metadata": {},
   "outputs": [
    {
     "data": {
      "text/html": [
       "<table>\n",
       "<thead><tr><th scope=col>StudentId</th><th scope=col>Product</th></tr></thead>\n",
       "<tbody>\n",
       "\t<tr><td>101           </td><td>Hindi         </td></tr>\n",
       "\t<tr><td>102           </td><td>English       </td></tr>\n",
       "\t<tr><td>103           </td><td>Tamil         </td></tr>\n",
       "\t<tr><td>104           </td><td>Maths         </td></tr>\n",
       "\t<tr><td>105           </td><td>Biology       </td></tr>\n",
       "\t<tr><td>106           </td><td>Social Science</td></tr>\n",
       "\t<tr><td>107           </td><td>Zoology       </td></tr>\n",
       "</tbody>\n",
       "</table>\n"
      ],
      "text/latex": [
       "\\begin{tabular}{r|ll}\n",
       " StudentId & Product\\\\\n",
       "\\hline\n",
       "\t 101            & Hindi         \\\\\n",
       "\t 102            & English       \\\\\n",
       "\t 103            & Tamil         \\\\\n",
       "\t 104            & Maths         \\\\\n",
       "\t 105            & Biology       \\\\\n",
       "\t 106            & Social Science\\\\\n",
       "\t 107            & Zoology       \\\\\n",
       "\\end{tabular}\n"
      ],
      "text/markdown": [
       "\n",
       "| StudentId | Product |\n",
       "|---|---|\n",
       "| 101            | Hindi          |\n",
       "| 102            | English        |\n",
       "| 103            | Tamil          |\n",
       "| 104            | Maths          |\n",
       "| 105            | Biology        |\n",
       "| 106            | Social Science |\n",
       "| 107            | Zoology        |\n",
       "\n"
      ],
      "text/plain": [
       "  StudentId Product       \n",
       "1 101       Hindi         \n",
       "2 102       English       \n",
       "3 103       Tamil         \n",
       "4 104       Maths         \n",
       "5 105       Biology       \n",
       "6 106       Social Science\n",
       "7 107       Zoology       "
      ]
     },
     "metadata": {},
     "output_type": "display_data"
    }
   ],
   "source": [
    "df8"
   ]
  },
  {
   "cell_type": "code",
   "execution_count": 43,
   "id": "be82ccbe",
   "metadata": {},
   "outputs": [],
   "source": [
    "df9=data.frame(StudentId=c(102,103,104,105,106),\n",
    "              State=c(\"Chennai\",\"Telungana\", \"Mysore\",\"Pune\",\"Delhi\"))"
   ]
  },
  {
   "cell_type": "code",
   "execution_count": 44,
   "id": "43dea03a",
   "metadata": {},
   "outputs": [
    {
     "data": {
      "text/html": [
       "<table>\n",
       "<thead><tr><th scope=col>StudentId</th><th scope=col>State</th></tr></thead>\n",
       "<tbody>\n",
       "\t<tr><td>102      </td><td>Chennai  </td></tr>\n",
       "\t<tr><td>103      </td><td>Telungana</td></tr>\n",
       "\t<tr><td>104      </td><td>Mysore   </td></tr>\n",
       "\t<tr><td>105      </td><td>Pune     </td></tr>\n",
       "\t<tr><td>106      </td><td>Delhi    </td></tr>\n",
       "</tbody>\n",
       "</table>\n"
      ],
      "text/latex": [
       "\\begin{tabular}{r|ll}\n",
       " StudentId & State\\\\\n",
       "\\hline\n",
       "\t 102       & Chennai  \\\\\n",
       "\t 103       & Telungana\\\\\n",
       "\t 104       & Mysore   \\\\\n",
       "\t 105       & Pune     \\\\\n",
       "\t 106       & Delhi    \\\\\n",
       "\\end{tabular}\n"
      ],
      "text/markdown": [
       "\n",
       "| StudentId | State |\n",
       "|---|---|\n",
       "| 102       | Chennai   |\n",
       "| 103       | Telungana |\n",
       "| 104       | Mysore    |\n",
       "| 105       | Pune      |\n",
       "| 106       | Delhi     |\n",
       "\n"
      ],
      "text/plain": [
       "  StudentId State    \n",
       "1 102       Chennai  \n",
       "2 103       Telungana\n",
       "3 104       Mysore   \n",
       "4 105       Pune     \n",
       "5 106       Delhi    "
      ]
     },
     "metadata": {},
     "output_type": "display_data"
    }
   ],
   "source": [
    "df9"
   ]
  },
  {
   "cell_type": "markdown",
   "id": "0351d3b0",
   "metadata": {},
   "source": [
    "## merge(x,y,by,all)"
   ]
  },
  {
   "cell_type": "markdown",
   "id": "c5f044b0",
   "metadata": {},
   "source": [
    "### Left Join:"
   ]
  },
  {
   "cell_type": "code",
   "execution_count": 46,
   "id": "5ba5fcbd",
   "metadata": {},
   "outputs": [
    {
     "data": {
      "text/html": [
       "<table>\n",
       "<thead><tr><th scope=col>StudentId</th><th scope=col>Product</th><th scope=col>State</th></tr></thead>\n",
       "<tbody>\n",
       "\t<tr><td>101           </td><td>Hindi         </td><td>NA            </td></tr>\n",
       "\t<tr><td>102           </td><td>English       </td><td>Chennai       </td></tr>\n",
       "\t<tr><td>103           </td><td>Tamil         </td><td>Telungana     </td></tr>\n",
       "\t<tr><td>104           </td><td>Maths         </td><td>Mysore        </td></tr>\n",
       "\t<tr><td>105           </td><td>Biology       </td><td>Pune          </td></tr>\n",
       "\t<tr><td>106           </td><td>Social Science</td><td>Delhi         </td></tr>\n",
       "\t<tr><td>107           </td><td>Zoology       </td><td>NA            </td></tr>\n",
       "</tbody>\n",
       "</table>\n"
      ],
      "text/latex": [
       "\\begin{tabular}{r|lll}\n",
       " StudentId & Product & State\\\\\n",
       "\\hline\n",
       "\t 101            & Hindi          & NA            \\\\\n",
       "\t 102            & English        & Chennai       \\\\\n",
       "\t 103            & Tamil          & Telungana     \\\\\n",
       "\t 104            & Maths          & Mysore        \\\\\n",
       "\t 105            & Biology        & Pune          \\\\\n",
       "\t 106            & Social Science & Delhi         \\\\\n",
       "\t 107            & Zoology        & NA            \\\\\n",
       "\\end{tabular}\n"
      ],
      "text/markdown": [
       "\n",
       "| StudentId | Product | State |\n",
       "|---|---|---|\n",
       "| 101            | Hindi          | NA             |\n",
       "| 102            | English        | Chennai        |\n",
       "| 103            | Tamil          | Telungana      |\n",
       "| 104            | Maths          | Mysore         |\n",
       "| 105            | Biology        | Pune           |\n",
       "| 106            | Social Science | Delhi          |\n",
       "| 107            | Zoology        | NA             |\n",
       "\n"
      ],
      "text/plain": [
       "  StudentId Product        State    \n",
       "1 101       Hindi          NA       \n",
       "2 102       English        Chennai  \n",
       "3 103       Tamil          Telungana\n",
       "4 104       Maths          Mysore   \n",
       "5 105       Biology        Pune     \n",
       "6 106       Social Science Delhi    \n",
       "7 107       Zoology        NA       "
      ]
     },
     "metadata": {},
     "output_type": "display_data"
    }
   ],
   "source": [
    "df5=merge(x=df8,y=df9, by=\"StudentId\",all.x=TRUE)\n",
    "df5"
   ]
  },
  {
   "cell_type": "markdown",
   "id": "14e64c5c",
   "metadata": {},
   "source": [
    "### Right Join:"
   ]
  },
  {
   "cell_type": "code",
   "execution_count": 48,
   "id": "3b0b6745",
   "metadata": {},
   "outputs": [
    {
     "data": {
      "text/html": [
       "<table>\n",
       "<thead><tr><th scope=col>StudentId</th><th scope=col>Product</th><th scope=col>State</th></tr></thead>\n",
       "<tbody>\n",
       "\t<tr><td>102           </td><td>English       </td><td>Chennai       </td></tr>\n",
       "\t<tr><td>103           </td><td>Tamil         </td><td>Telungana     </td></tr>\n",
       "\t<tr><td>104           </td><td>Maths         </td><td>Mysore        </td></tr>\n",
       "\t<tr><td>105           </td><td>Biology       </td><td>Pune          </td></tr>\n",
       "\t<tr><td>106           </td><td>Social Science</td><td>Delhi         </td></tr>\n",
       "</tbody>\n",
       "</table>\n"
      ],
      "text/latex": [
       "\\begin{tabular}{r|lll}\n",
       " StudentId & Product & State\\\\\n",
       "\\hline\n",
       "\t 102            & English        & Chennai       \\\\\n",
       "\t 103            & Tamil          & Telungana     \\\\\n",
       "\t 104            & Maths          & Mysore        \\\\\n",
       "\t 105            & Biology        & Pune          \\\\\n",
       "\t 106            & Social Science & Delhi         \\\\\n",
       "\\end{tabular}\n"
      ],
      "text/markdown": [
       "\n",
       "| StudentId | Product | State |\n",
       "|---|---|---|\n",
       "| 102            | English        | Chennai        |\n",
       "| 103            | Tamil          | Telungana      |\n",
       "| 104            | Maths          | Mysore         |\n",
       "| 105            | Biology        | Pune           |\n",
       "| 106            | Social Science | Delhi          |\n",
       "\n"
      ],
      "text/plain": [
       "  StudentId Product        State    \n",
       "1 102       English        Chennai  \n",
       "2 103       Tamil          Telungana\n",
       "3 104       Maths          Mysore   \n",
       "4 105       Biology        Pune     \n",
       "5 106       Social Science Delhi    "
      ]
     },
     "metadata": {},
     "output_type": "display_data"
    }
   ],
   "source": [
    "df4=merge(x=df8,y=df9,by=\"StudentId\",all.y=TRUE)\n",
    "df4"
   ]
  },
  {
   "cell_type": "markdown",
   "id": "4e708f00",
   "metadata": {},
   "source": [
    "### Natural Join:"
   ]
  },
  {
   "cell_type": "code",
   "execution_count": 50,
   "id": "a82e613e",
   "metadata": {},
   "outputs": [
    {
     "data": {
      "text/html": [
       "<table>\n",
       "<thead><tr><th scope=col>StudentId</th><th scope=col>Product</th><th scope=col>State</th></tr></thead>\n",
       "<tbody>\n",
       "\t<tr><td>102           </td><td>English       </td><td>Chennai       </td></tr>\n",
       "\t<tr><td>103           </td><td>Tamil         </td><td>Telungana     </td></tr>\n",
       "\t<tr><td>104           </td><td>Maths         </td><td>Mysore        </td></tr>\n",
       "\t<tr><td>105           </td><td>Biology       </td><td>Pune          </td></tr>\n",
       "\t<tr><td>106           </td><td>Social Science</td><td>Delhi         </td></tr>\n",
       "</tbody>\n",
       "</table>\n"
      ],
      "text/latex": [
       "\\begin{tabular}{r|lll}\n",
       " StudentId & Product & State\\\\\n",
       "\\hline\n",
       "\t 102            & English        & Chennai       \\\\\n",
       "\t 103            & Tamil          & Telungana     \\\\\n",
       "\t 104            & Maths          & Mysore        \\\\\n",
       "\t 105            & Biology        & Pune          \\\\\n",
       "\t 106            & Social Science & Delhi         \\\\\n",
       "\\end{tabular}\n"
      ],
      "text/markdown": [
       "\n",
       "| StudentId | Product | State |\n",
       "|---|---|---|\n",
       "| 102            | English        | Chennai        |\n",
       "| 103            | Tamil          | Telungana      |\n",
       "| 104            | Maths          | Mysore         |\n",
       "| 105            | Biology        | Pune           |\n",
       "| 106            | Social Science | Delhi          |\n",
       "\n"
      ],
      "text/plain": [
       "  StudentId Product        State    \n",
       "1 102       English        Chennai  \n",
       "2 103       Tamil          Telungana\n",
       "3 104       Maths          Mysore   \n",
       "4 105       Biology        Pune     \n",
       "5 106       Social Science Delhi    "
      ]
     },
     "metadata": {},
     "output_type": "display_data"
    }
   ],
   "source": [
    "df5=merge(x=df8,y=df9,by=\"StudentId\",all=FALSE)\n",
    "df5"
   ]
  },
  {
   "cell_type": "markdown",
   "id": "633e3f62",
   "metadata": {},
   "source": [
    "### Full Outer Join:"
   ]
  },
  {
   "cell_type": "code",
   "execution_count": 51,
   "id": "07ceb54a",
   "metadata": {},
   "outputs": [
    {
     "data": {
      "text/html": [
       "<table>\n",
       "<thead><tr><th scope=col>StudentId</th><th scope=col>Product</th><th scope=col>State</th></tr></thead>\n",
       "<tbody>\n",
       "\t<tr><td>101           </td><td>Hindi         </td><td>NA            </td></tr>\n",
       "\t<tr><td>102           </td><td>English       </td><td>Chennai       </td></tr>\n",
       "\t<tr><td>103           </td><td>Tamil         </td><td>Telungana     </td></tr>\n",
       "\t<tr><td>104           </td><td>Maths         </td><td>Mysore        </td></tr>\n",
       "\t<tr><td>105           </td><td>Biology       </td><td>Pune          </td></tr>\n",
       "\t<tr><td>106           </td><td>Social Science</td><td>Delhi         </td></tr>\n",
       "\t<tr><td>107           </td><td>Zoology       </td><td>NA            </td></tr>\n",
       "</tbody>\n",
       "</table>\n"
      ],
      "text/latex": [
       "\\begin{tabular}{r|lll}\n",
       " StudentId & Product & State\\\\\n",
       "\\hline\n",
       "\t 101            & Hindi          & NA            \\\\\n",
       "\t 102            & English        & Chennai       \\\\\n",
       "\t 103            & Tamil          & Telungana     \\\\\n",
       "\t 104            & Maths          & Mysore        \\\\\n",
       "\t 105            & Biology        & Pune          \\\\\n",
       "\t 106            & Social Science & Delhi         \\\\\n",
       "\t 107            & Zoology        & NA            \\\\\n",
       "\\end{tabular}\n"
      ],
      "text/markdown": [
       "\n",
       "| StudentId | Product | State |\n",
       "|---|---|---|\n",
       "| 101            | Hindi          | NA             |\n",
       "| 102            | English        | Chennai        |\n",
       "| 103            | Tamil          | Telungana      |\n",
       "| 104            | Maths          | Mysore         |\n",
       "| 105            | Biology        | Pune           |\n",
       "| 106            | Social Science | Delhi          |\n",
       "| 107            | Zoology        | NA             |\n",
       "\n"
      ],
      "text/plain": [
       "  StudentId Product        State    \n",
       "1 101       Hindi          NA       \n",
       "2 102       English        Chennai  \n",
       "3 103       Tamil          Telungana\n",
       "4 104       Maths          Mysore   \n",
       "5 105       Biology        Pune     \n",
       "6 106       Social Science Delhi    \n",
       "7 107       Zoology        NA       "
      ]
     },
     "metadata": {},
     "output_type": "display_data"
    }
   ],
   "source": [
    "df6=merge(x=df8,y=df9,by=\"StudentId\",all=TRUE)\n",
    "df6"
   ]
  },
  {
   "cell_type": "markdown",
   "id": "b8212c1f",
   "metadata": {},
   "source": [
    "# Looping:"
   ]
  },
  {
   "cell_type": "markdown",
   "id": "55e00b3f",
   "metadata": {},
   "source": [
    "### if else syntax:\n",
    "\n",
    "if(condition)\n",
    "{\n",
    "\n",
    "}\n",
    "else\n",
    "{\n",
    "\n",
    "}"
   ]
  },
  {
   "cell_type": "code",
   "execution_count": 52,
   "id": "8f54b2b9",
   "metadata": {},
   "outputs": [
    {
     "name": "stdout",
     "output_type": "stream",
     "text": [
      "[1] \"Even\"\n"
     ]
    }
   ],
   "source": [
    "a=10\n",
    "if(a%%2==0)\n",
    "{\n",
    "    print(\"Even\")\n",
    "} else\n",
    "{\n",
    "    print(\"Odd\")\n",
    "}"
   ]
  },
  {
   "cell_type": "code",
   "execution_count": 54,
   "id": "bf02ef4f",
   "metadata": {},
   "outputs": [
    {
     "name": "stdout",
     "output_type": "stream",
     "text": [
      "[1] 1\n"
     ]
    }
   ],
   "source": [
    "# break statement:\n",
    "l=list(1,2,3,4,5)\n",
    "for(x in l)\n",
    "{\n",
    "    if(x==2)\n",
    "        {\n",
    "        break\n",
    "    }\n",
    "    print(x)\n",
    "}"
   ]
  },
  {
   "cell_type": "code",
   "execution_count": 55,
   "id": "ee6e60a1",
   "metadata": {},
   "outputs": [
    {
     "name": "stdout",
     "output_type": "stream",
     "text": [
      "[1] 1\n",
      "[1] 3\n",
      "[1] 4\n",
      "[1] 5\n"
     ]
    }
   ],
   "source": [
    "# next statement:\n",
    "l=list(1,2,3,4,5)\n",
    "for(x in l)\n",
    "{\n",
    "    if(x==2)\n",
    "        {\n",
    "        next\n",
    "    }\n",
    "    print(x)\n",
    "}"
   ]
  },
  {
   "cell_type": "code",
   "execution_count": 57,
   "id": "6bc6a05e",
   "metadata": {},
   "outputs": [
    {
     "name": "stdout",
     "output_type": "stream",
     "text": [
      "[1] 1\n",
      "[1] 3\n",
      "[1] 4\n",
      "[1] 5\n",
      "[1] 6\n",
      "[1] 7\n",
      "[1] 8\n",
      "[1] 9\n",
      "[1] 10\n"
     ]
    }
   ],
   "source": [
    "# using sequence:\n",
    "l=list(1,2,3,4,5)\n",
    "for(x in seq(1,10))\n",
    "{\n",
    "    if(x==2)\n",
    "        {\n",
    "        next\n",
    "    }\n",
    "    print(x)\n",
    "}"
   ]
  },
  {
   "cell_type": "markdown",
   "id": "2f577a0d",
   "metadata": {},
   "source": [
    "## <U> ARMSTRONG NUMBER:"
   ]
  },
  {
   "cell_type": "markdown",
   "id": "cf3c1eab",
   "metadata": {},
   "source": [
    "Given number: 153\n",
    "1^3 + 5^3 + 3^3\n",
    "1+125+27 = 153\n",
    "\n",
    "while(num>0)\n",
    "    {\n",
    "    digit=num%%10\n",
    "    sum=sum+ (digit^3)\n",
    "    num=floor(num/10)\n",
    "}"
   ]
  },
  {
   "cell_type": "code",
   "execution_count": 3,
   "id": "bd0dea0d",
   "metadata": {},
   "outputs": [
    {
     "name": "stdout",
     "output_type": "stream",
     "text": [
      "Enter your value: 153\n",
      "[1] \"The Given Number is a Armstrong Number\"\n"
     ]
    }
   ],
   "source": [
    "num=as.integer(readline(\"Enter your value: \"))\n",
    "sum=0\n",
    "temp=num\n",
    "while(num>0)\n",
    "    {\n",
    "    digit=num%%10\n",
    "    sum=sum+ (digit^3)\n",
    "    num=floor(num/10)\n",
    "}\n",
    "if(temp==sum)\n",
    "    {\n",
    "    print(\"The Given Number is a Armstrong Number\")\n",
    "} else\n",
    "    {\n",
    "    print(\"The Given Number is not a Armstong Number\")\n",
    "    \n",
    "}"
   ]
  },
  {
   "cell_type": "markdown",
   "id": "fa6dc625",
   "metadata": {},
   "source": [
    "## <U> SUM OF ALL DIGITS:"
   ]
  },
  {
   "cell_type": "code",
   "execution_count": 71,
   "id": "675b1d7c",
   "metadata": {},
   "outputs": [
    {
     "name": "stdout",
     "output_type": "stream",
     "text": [
      "Enter your value: 15\n",
      "[1] \"The Sum Value is:  6\"\n"
     ]
    }
   ],
   "source": [
    "num=as.integer(readline(\"Enter your value: \"))\n",
    "sum=0\n",
    "temp=num\n",
    "while(num>0)\n",
    "{\n",
    "    digit=num%%10\n",
    "    sum=sum+digit\n",
    "    num=floor(num/10)\n",
    "}\n",
    "print(paste(\"The Sum Value is: \",sum))"
   ]
  },
  {
   "cell_type": "markdown",
   "id": "fa437695",
   "metadata": {},
   "source": [
    "## <u> REVERSE OF A NUMBER:"
   ]
  },
  {
   "cell_type": "code",
   "execution_count": 74,
   "id": "9873dd0b",
   "metadata": {},
   "outputs": [
    {
     "name": "stdout",
     "output_type": "stream",
     "text": [
      "Enter your value: 123\n",
      "[1] \"The Reverse Value of  123 is 321\"\n"
     ]
    }
   ],
   "source": [
    "num=as.integer(readline(\"Enter your value: \"))\n",
    "rev=0\n",
    "temp=num\n",
    "while(num>0)\n",
    "{\n",
    "    digit=num%%10\n",
    "    rev=rev*10+digit\n",
    "    num=floor(num/10)\n",
    "}\n",
    "print(paste(\"The Reverse Value of \",temp, \"is\",rev))"
   ]
  },
  {
   "cell_type": "markdown",
   "id": "22d698e0",
   "metadata": {},
   "source": [
    "## <u> PALINDROME:"
   ]
  },
  {
   "cell_type": "code",
   "execution_count": 75,
   "id": "5ac35e28",
   "metadata": {},
   "outputs": [
    {
     "name": "stdout",
     "output_type": "stream",
     "text": [
      "Enter your value: 123\n",
      "[1] \"The Given Number is not a Palindrome\"\n"
     ]
    }
   ],
   "source": [
    "num=as.integer(readline(\"Enter your value: \"))\n",
    "rev=0\n",
    "temp=num\n",
    "while(num>0)\n",
    "{\n",
    "    digit=num%%10\n",
    "    rev=rev*10+digit\n",
    "    num=floor(num/10)\n",
    "}\n",
    "if(temp==rev)\n",
    "    {\n",
    "    print(\"The Given Number is a Palindrome\")\n",
    "} else\n",
    "    {\n",
    "    print(\"The Given Number is not a Palindrome\")\n",
    "}"
   ]
  },
  {
   "cell_type": "code",
   "execution_count": 76,
   "id": "f05502a1",
   "metadata": {},
   "outputs": [
    {
     "name": "stdout",
     "output_type": "stream",
     "text": [
      "Enter your value: 151\n",
      "[1] \"The Given Number is a Palindrome\"\n"
     ]
    }
   ],
   "source": [
    "num=as.integer(readline(\"Enter your value: \"))\n",
    "rev=0\n",
    "temp=num\n",
    "while(num>0)\n",
    "{\n",
    "    digit=num%%10\n",
    "    rev=rev*10+digit\n",
    "    num=floor(num/10)\n",
    "}\n",
    "if(temp==rev)\n",
    "    {\n",
    "    print(\"The Given Number is a Palindrome\")\n",
    "} else\n",
    "    {\n",
    "    print(\"The Given Number is not a Palindrome\")\n",
    "}"
   ]
  },
  {
   "cell_type": "code",
   "execution_count": 5,
   "id": "09f7161c",
   "metadata": {},
   "outputs": [
    {
     "name": "stdout",
     "output_type": "stream",
     "text": [
      "ENTER how many numbers who want to enter5\n",
      "enter the numbers2\n",
      "enter the numbers3\n",
      "enter the numbers4\n",
      "enter the numbers5\n",
      "enter the numbers6\n"
     ]
    },
    {
     "data": {
      "text/html": [
       "20"
      ],
      "text/latex": [
       "20"
      ],
      "text/markdown": [
       "20"
      ],
      "text/plain": [
       "[1] 20"
      ]
     },
     "metadata": {},
     "output_type": "display_data"
    }
   ],
   "source": [
    "num <- as.integer(readline(\"ENTER how many numbers who want to enter\"))\n",
    "a = c()\n",
    "for (i in seq(num)){\n",
    "    a[i] = as.integer(readline(\"enter the numbers\"))\n",
    "    \n",
    "}\n",
    "sum(a)"
   ]
  },
  {
   "cell_type": "raw",
   "id": "3e2098ed",
   "metadata": {},
   "source": []
  },
  {
   "cell_type": "code",
   "execution_count": null,
   "id": "22629199",
   "metadata": {},
   "outputs": [],
   "source": [
    "num = as.integer(readline(\"enter num\"))\n",
    "s = 0\n",
    "while(num>0){\n",
    "    s = s + num\n",
    "    num = num+1\n",
    "}\n",
    "print(s)"
   ]
  },
  {
   "cell_type": "code",
   "execution_count": null,
   "id": "e91c52eb",
   "metadata": {},
   "outputs": [],
   "source": []
  }
 ],
 "metadata": {
  "kernelspec": {
   "display_name": "R",
   "language": "R",
   "name": "ir"
  },
  "language_info": {
   "codemirror_mode": "r",
   "file_extension": ".r",
   "mimetype": "text/x-r-source",
   "name": "R",
   "pygments_lexer": "r",
   "version": "3.6.1"
  }
 },
 "nbformat": 4,
 "nbformat_minor": 5
}
