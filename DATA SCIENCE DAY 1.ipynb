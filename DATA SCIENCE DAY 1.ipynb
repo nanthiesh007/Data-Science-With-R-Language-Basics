{
 "cells": [
  {
   "cell_type": "code",
   "execution_count": null,
   "id": "bc153297",
   "metadata": {},
   "outputs": [],
   "source": [
    "firstname=\"Nanthiesh\"\n",
    "firstname.lastname=\"devil\""
   ]
  },
  {
   "cell_type": "code",
   "execution_count": 2,
   "id": "60dcd118",
   "metadata": {},
   "outputs": [
    {
     "data": {
      "text/html": [
       "'Nanthiesh'"
      ],
      "text/latex": [
       "'Nanthiesh'"
      ],
      "text/markdown": [
       "'Nanthiesh'"
      ],
      "text/plain": [
       "[1] \"Nanthiesh\""
      ]
     },
     "metadata": {},
     "output_type": "display_data"
    }
   ],
   "source": [
    "firstname"
   ]
  },
  {
   "cell_type": "code",
   "execution_count": 3,
   "id": "90c4a65a",
   "metadata": {},
   "outputs": [],
   "source": [
    "score=6969"
   ]
  },
  {
   "cell_type": "code",
   "execution_count": 4,
   "id": "c27a71f5",
   "metadata": {},
   "outputs": [
    {
     "data": {
      "text/html": [
       "'character'"
      ],
      "text/latex": [
       "'character'"
      ],
      "text/markdown": [
       "'character'"
      ],
      "text/plain": [
       "[1] \"character\""
      ]
     },
     "metadata": {},
     "output_type": "display_data"
    },
    {
     "data": {
      "text/html": [
       "'numeric'"
      ],
      "text/latex": [
       "'numeric'"
      ],
      "text/markdown": [
       "'numeric'"
      ],
      "text/plain": [
       "[1] \"numeric\""
      ]
     },
     "metadata": {},
     "output_type": "display_data"
    }
   ],
   "source": [
    "##class is used to check the type of variable\n",
    "class(firstname)\n",
    "class(score)"
   ]
  },
  {
   "cell_type": "code",
   "execution_count": 5,
   "id": "dc338185",
   "metadata": {},
   "outputs": [
    {
     "data": {
      "text/html": [
       "'Mathew AIML'"
      ],
      "text/latex": [
       "'Mathew AIML'"
      ],
      "text/markdown": [
       "'Mathew AIML'"
      ],
      "text/plain": [
       "[1] \"Mathew AIML\""
      ]
     },
     "metadata": {},
     "output_type": "display_data"
    }
   ],
   "source": [
    "name=\"Mathew\"\n",
    "Dept=\"AIML\"\n",
    "paste(name,Dept) ##paste is used for printing more than two values "
   ]
  },
  {
   "cell_type": "code",
   "execution_count": 6,
   "id": "7ad74ea1",
   "metadata": {},
   "outputs": [
    {
     "name": "stdout",
     "output_type": "stream",
     "text": [
      "[1] \"Mathew\"\n"
     ]
    }
   ],
   "source": [
    "##print is used to print only one value.\n",
    "print(name) "
   ]
  },
  {
   "cell_type": "code",
   "execution_count": 7,
   "id": "3de38c02",
   "metadata": {},
   "outputs": [
    {
     "name": "stdout",
     "output_type": "stream",
     "text": [
      "Enter the Value: 123\n"
     ]
    }
   ],
   "source": [
    "##readline is used to get input from the user:\n",
    "## Assignment Operator:   = (or) <-\n",
    "\n",
    "d<-readline(\"Enter the Value: \")"
   ]
  },
  {
   "cell_type": "code",
   "execution_count": 8,
   "id": "9ad1f597",
   "metadata": {},
   "outputs": [
    {
     "data": {
      "text/html": [
       "'character'"
      ],
      "text/latex": [
       "'character'"
      ],
      "text/markdown": [
       "'character'"
      ],
      "text/plain": [
       "[1] \"character\""
      ]
     },
     "metadata": {},
     "output_type": "display_data"
    }
   ],
   "source": [
    "class(d)"
   ]
  },
  {
   "cell_type": "code",
   "execution_count": 9,
   "id": "ef5fedc0",
   "metadata": {},
   "outputs": [],
   "source": [
    "## converting datatype into another datatype using \"as\"\n",
    "d=as.integer(d)"
   ]
  },
  {
   "cell_type": "code",
   "execution_count": 10,
   "id": "5002fa10",
   "metadata": {},
   "outputs": [
    {
     "data": {
      "text/html": [
       "'integer'"
      ],
      "text/latex": [
       "'integer'"
      ],
      "text/markdown": [
       "'integer'"
      ],
      "text/plain": [
       "[1] \"integer\""
      ]
     },
     "metadata": {},
     "output_type": "display_data"
    }
   ],
   "source": [
    "class(d)"
   ]
  },
  {
   "cell_type": "code",
   "execution_count": 11,
   "id": "ed7e31d1",
   "metadata": {},
   "outputs": [],
   "source": [
    "d=as.numeric(d)"
   ]
  },
  {
   "cell_type": "code",
   "execution_count": 12,
   "id": "cd710337",
   "metadata": {},
   "outputs": [
    {
     "data": {
      "text/html": [
       "'numeric'"
      ],
      "text/latex": [
       "'numeric'"
      ],
      "text/markdown": [
       "'numeric'"
      ],
      "text/plain": [
       "[1] \"numeric\""
      ]
     },
     "metadata": {},
     "output_type": "display_data"
    }
   ],
   "source": [
    "class(d)"
   ]
  },
  {
   "cell_type": "code",
   "execution_count": 13,
   "id": "a9bbddd3",
   "metadata": {},
   "outputs": [
    {
     "data": {
      "text/html": [
       "<span style=white-space:pre-wrap>'The value of d is:  123'</span>"
      ],
      "text/latex": [
       "'The value of d is:  123'"
      ],
      "text/markdown": [
       "<span style=white-space:pre-wrap>'The value of d is:  123'</span>"
      ],
      "text/plain": [
       "[1] \"The value of d is:  123\""
      ]
     },
     "metadata": {},
     "output_type": "display_data"
    }
   ],
   "source": [
    "paste(\"The value of d is: \",d)"
   ]
  },
  {
   "cell_type": "code",
   "execution_count": 14,
   "id": "390871de",
   "metadata": {},
   "outputs": [
    {
     "name": "stdout",
     "output_type": "stream",
     "text": [
      "Enter the value of r: 20\n"
     ]
    }
   ],
   "source": [
    "# to find the area of donut:\n",
    "# formula: πr2. 2πR\n",
    "\n",
    "pi<-3.14\n",
    "r<-readline(\"Enter the value of r: \")"
   ]
  },
  {
   "cell_type": "code",
   "execution_count": 15,
   "id": "9b67177b",
   "metadata": {},
   "outputs": [
    {
     "data": {
      "text/html": [
       "'character'"
      ],
      "text/latex": [
       "'character'"
      ],
      "text/markdown": [
       "'character'"
      ],
      "text/plain": [
       "[1] \"character\""
      ]
     },
     "metadata": {},
     "output_type": "display_data"
    }
   ],
   "source": [
    "class(r)"
   ]
  },
  {
   "cell_type": "code",
   "execution_count": 20,
   "id": "a40809f8",
   "metadata": {},
   "outputs": [],
   "source": [
    "r=as.numeric(r)\n",
    "pi=as.numeric(pi)"
   ]
  },
  {
   "cell_type": "code",
   "execution_count": 18,
   "id": "b20e324e",
   "metadata": {},
   "outputs": [
    {
     "data": {
      "text/html": [
       "'numeric'"
      ],
      "text/latex": [
       "'numeric'"
      ],
      "text/markdown": [
       "'numeric'"
      ],
      "text/plain": [
       "[1] \"numeric\""
      ]
     },
     "metadata": {},
     "output_type": "display_data"
    }
   ],
   "source": [
    "class(r)"
   ]
  },
  {
   "cell_type": "code",
   "execution_count": 19,
   "id": "ee3537ad",
   "metadata": {},
   "outputs": [
    {
     "data": {
      "text/html": [
       "400"
      ],
      "text/latex": [
       "400"
      ],
      "text/markdown": [
       "400"
      ],
      "text/plain": [
       "[1] 400"
      ]
     },
     "metadata": {},
     "output_type": "display_data"
    }
   ],
   "source": [
    "d=r*r\n",
    "d"
   ]
  },
  {
   "cell_type": "code",
   "execution_count": 21,
   "id": "e55c9360",
   "metadata": {},
   "outputs": [],
   "source": [
    "area=(pi*d)*(2*pi*r)"
   ]
  },
  {
   "cell_type": "code",
   "execution_count": 22,
   "id": "1ff5b22c",
   "metadata": {},
   "outputs": [
    {
     "data": {
      "text/html": [
       "157753.6"
      ],
      "text/latex": [
       "157753.6"
      ],
      "text/markdown": [
       "157753.6"
      ],
      "text/plain": [
       "[1] 157753.6"
      ]
     },
     "metadata": {},
     "output_type": "display_data"
    }
   ],
   "source": [
    "area"
   ]
  },
  {
   "cell_type": "code",
   "execution_count": 28,
   "id": "436e8b0b",
   "metadata": {},
   "outputs": [
    {
     "data": {
      "text/html": [
       "<span style=white-space:pre-wrap>'The Area of Donut:  157753.6 cm'</span>"
      ],
      "text/latex": [
       "'The Area of Donut:  157753.6 cm'"
      ],
      "text/markdown": [
       "<span style=white-space:pre-wrap>'The Area of Donut:  157753.6 cm'</span>"
      ],
      "text/plain": [
       "[1] \"The Area of Donut:  157753.6 cm\""
      ]
     },
     "metadata": {},
     "output_type": "display_data"
    }
   ],
   "source": [
    "paste(\"The Area of Donut: \",area,\"cm\")"
   ]
  },
  {
   "cell_type": "code",
   "execution_count": 4,
   "id": "0083ac69",
   "metadata": {},
   "outputs": [
    {
     "data": {
      "text/html": [
       "11"
      ],
      "text/latex": [
       "11"
      ],
      "text/markdown": [
       "11"
      ],
      "text/plain": [
       "[1] 11"
      ]
     },
     "metadata": {},
     "output_type": "display_data"
    },
    {
     "data": {
      "text/html": [
       "10"
      ],
      "text/latex": [
       "10"
      ],
      "text/markdown": [
       "10"
      ],
      "text/plain": [
       "[1] 10"
      ]
     },
     "metadata": {},
     "output_type": "display_data"
    }
   ],
   "source": [
    "# ceiling => for next number\n",
    "# floor => for the previous number\n",
    "\n",
    "ceiling(10.2)\n",
    "floor(10.5)"
   ]
  },
  {
   "cell_type": "code",
   "execution_count": 18,
   "id": "2e34ab1e",
   "metadata": {},
   "outputs": [],
   "source": [
    "# vectors:\n",
    "a=c(10,20,30,40,50,60,70,80,90)"
   ]
  },
  {
   "cell_type": "code",
   "execution_count": 6,
   "id": "f12e04f9",
   "metadata": {},
   "outputs": [
    {
     "data": {
      "text/html": [
       "'numeric'"
      ],
      "text/latex": [
       "'numeric'"
      ],
      "text/markdown": [
       "'numeric'"
      ],
      "text/plain": [
       "[1] \"numeric\""
      ]
     },
     "metadata": {},
     "output_type": "display_data"
    }
   ],
   "source": [
    "class(a)"
   ]
  },
  {
   "cell_type": "code",
   "execution_count": 7,
   "id": "e9fe1c30",
   "metadata": {},
   "outputs": [
    {
     "data": {
      "text/html": [
       "10"
      ],
      "text/latex": [
       "10"
      ],
      "text/markdown": [
       "10"
      ],
      "text/plain": [
       "[1] 10"
      ]
     },
     "metadata": {},
     "output_type": "display_data"
    }
   ],
   "source": [
    "# vector element index value starts from 1 not 0\n",
    "a[1]"
   ]
  },
  {
   "cell_type": "code",
   "execution_count": 9,
   "id": "c0a09d7b",
   "metadata": {},
   "outputs": [
    {
     "data": {
      "text/html": [
       "<ol class=list-inline>\n",
       "\t<li>20</li>\n",
       "\t<li>30</li>\n",
       "\t<li>40</li>\n",
       "</ol>\n"
      ],
      "text/latex": [
       "\\begin{enumerate*}\n",
       "\\item 20\n",
       "\\item 30\n",
       "\\item 40\n",
       "\\end{enumerate*}\n"
      ],
      "text/markdown": [
       "1. 20\n",
       "2. 30\n",
       "3. 40\n",
       "\n",
       "\n"
      ],
      "text/plain": [
       "[1] 20 30 40"
      ]
     },
     "metadata": {},
     "output_type": "display_data"
    }
   ],
   "source": [
    "# a[start:stop]\n",
    "a[2:4]"
   ]
  },
  {
   "cell_type": "code",
   "execution_count": 10,
   "id": "dae2986a",
   "metadata": {},
   "outputs": [],
   "source": [
    "a1=c(\"True\",\"False\")"
   ]
  },
  {
   "cell_type": "code",
   "execution_count": 11,
   "id": "c082ddfe",
   "metadata": {},
   "outputs": [],
   "source": [
    "a2=c(\"hello\", \"welcome\")"
   ]
  },
  {
   "cell_type": "code",
   "execution_count": 12,
   "id": "b2d711b6",
   "metadata": {},
   "outputs": [
    {
     "data": {
      "text/html": [
       "<ol>\n",
       "\t<li><ol class=list-inline>\n",
       "\t<li>10</li>\n",
       "\t<li>20</li>\n",
       "\t<li>30</li>\n",
       "\t<li>40</li>\n",
       "\t<li>50</li>\n",
       "</ol>\n",
       "</li>\n",
       "\t<li><ol class=list-inline>\n",
       "\t<li>'True'</li>\n",
       "\t<li>'False'</li>\n",
       "</ol>\n",
       "</li>\n",
       "\t<li><ol class=list-inline>\n",
       "\t<li>'hello'</li>\n",
       "\t<li>'welcome'</li>\n",
       "</ol>\n",
       "</li>\n",
       "</ol>\n"
      ],
      "text/latex": [
       "\\begin{enumerate}\n",
       "\\item \\begin{enumerate*}\n",
       "\\item 10\n",
       "\\item 20\n",
       "\\item 30\n",
       "\\item 40\n",
       "\\item 50\n",
       "\\end{enumerate*}\n",
       "\n",
       "\\item \\begin{enumerate*}\n",
       "\\item 'True'\n",
       "\\item 'False'\n",
       "\\end{enumerate*}\n",
       "\n",
       "\\item \\begin{enumerate*}\n",
       "\\item 'hello'\n",
       "\\item 'welcome'\n",
       "\\end{enumerate*}\n",
       "\n",
       "\\end{enumerate}\n"
      ],
      "text/markdown": [
       "1. 1. 10\n",
       "2. 20\n",
       "3. 30\n",
       "4. 40\n",
       "5. 50\n",
       "\n",
       "\n",
       "\n",
       "2. 1. 'True'\n",
       "2. 'False'\n",
       "\n",
       "\n",
       "\n",
       "3. 1. 'hello'\n",
       "2. 'welcome'\n",
       "\n",
       "\n",
       "\n",
       "\n",
       "\n"
      ],
      "text/plain": [
       "[[1]]\n",
       "[1] 10 20 30 40 50\n",
       "\n",
       "[[2]]\n",
       "[1] \"True\"  \"False\"\n",
       "\n",
       "[[3]]\n",
       "[1] \"hello\"   \"welcome\"\n"
      ]
     },
     "metadata": {},
     "output_type": "display_data"
    }
   ],
   "source": [
    "# using list operator \n",
    "l=list(a,a1,a2)\n",
    "l"
   ]
  },
  {
   "cell_type": "code",
   "execution_count": 13,
   "id": "adff14d7",
   "metadata": {},
   "outputs": [
    {
     "data": {
      "text/html": [
       "<ol class=list-inline>\n",
       "\t<li>10</li>\n",
       "\t<li>20</li>\n",
       "\t<li>30</li>\n",
       "\t<li>40</li>\n",
       "\t<li>50</li>\n",
       "</ol>\n"
      ],
      "text/latex": [
       "\\begin{enumerate*}\n",
       "\\item 10\n",
       "\\item 20\n",
       "\\item 30\n",
       "\\item 40\n",
       "\\item 50\n",
       "\\end{enumerate*}\n"
      ],
      "text/markdown": [
       "1. 10\n",
       "2. 20\n",
       "3. 30\n",
       "4. 40\n",
       "5. 50\n",
       "\n",
       "\n"
      ],
      "text/plain": [
       "[1] 10 20 30 40 50"
      ]
     },
     "metadata": {},
     "output_type": "display_data"
    }
   ],
   "source": [
    "a"
   ]
  },
  {
   "cell_type": "code",
   "execution_count": 14,
   "id": "d05ce54a",
   "metadata": {},
   "outputs": [],
   "source": [
    "a[2] = 150"
   ]
  },
  {
   "cell_type": "code",
   "execution_count": 15,
   "id": "3a2f37d3",
   "metadata": {},
   "outputs": [
    {
     "data": {
      "text/html": [
       "<ol class=list-inline>\n",
       "\t<li>10</li>\n",
       "\t<li>150</li>\n",
       "\t<li>30</li>\n",
       "\t<li>40</li>\n",
       "\t<li>50</li>\n",
       "</ol>\n"
      ],
      "text/latex": [
       "\\begin{enumerate*}\n",
       "\\item 10\n",
       "\\item 150\n",
       "\\item 30\n",
       "\\item 40\n",
       "\\item 50\n",
       "\\end{enumerate*}\n"
      ],
      "text/markdown": [
       "1. 10\n",
       "2. 150\n",
       "3. 30\n",
       "4. 40\n",
       "5. 50\n",
       "\n",
       "\n"
      ],
      "text/plain": [
       "[1]  10 150  30  40  50"
      ]
     },
     "metadata": {},
     "output_type": "display_data"
    }
   ],
   "source": [
    "a"
   ]
  },
  {
   "cell_type": "code",
   "execution_count": 22,
   "id": "7b4c1525",
   "metadata": {},
   "outputs": [],
   "source": [
    "a[c(1,3)]=200"
   ]
  },
  {
   "cell_type": "code",
   "execution_count": 23,
   "id": "236fe71e",
   "metadata": {},
   "outputs": [
    {
     "data": {
      "text/html": [
       "<ol class=list-inline>\n",
       "\t<li>200</li>\n",
       "\t<li>20</li>\n",
       "\t<li>200</li>\n",
       "\t<li>40</li>\n",
       "\t<li>50</li>\n",
       "\t<li>60</li>\n",
       "\t<li>70</li>\n",
       "\t<li>80</li>\n",
       "\t<li>90</li>\n",
       "</ol>\n"
      ],
      "text/latex": [
       "\\begin{enumerate*}\n",
       "\\item 200\n",
       "\\item 20\n",
       "\\item 200\n",
       "\\item 40\n",
       "\\item 50\n",
       "\\item 60\n",
       "\\item 70\n",
       "\\item 80\n",
       "\\item 90\n",
       "\\end{enumerate*}\n"
      ],
      "text/markdown": [
       "1. 200\n",
       "2. 20\n",
       "3. 200\n",
       "4. 40\n",
       "5. 50\n",
       "6. 60\n",
       "7. 70\n",
       "8. 80\n",
       "9. 90\n",
       "\n",
       "\n"
      ],
      "text/plain": [
       "[1] 200  20 200  40  50  60  70  80  90"
      ]
     },
     "metadata": {},
     "output_type": "display_data"
    }
   ],
   "source": [
    "a"
   ]
  },
  {
   "cell_type": "code",
   "execution_count": null,
   "id": "1238d858",
   "metadata": {},
   "outputs": [],
   "source": []
  },
  {
   "cell_type": "code",
   "execution_count": 24,
   "id": "e19147ea",
   "metadata": {},
   "outputs": [
    {
     "data": {
      "text/html": [
       "<ol class=list-inline>\n",
       "\t<li>20</li>\n",
       "\t<li>40</li>\n",
       "\t<li>50</li>\n",
       "\t<li>60</li>\n",
       "\t<li>70</li>\n",
       "\t<li>80</li>\n",
       "\t<li>90</li>\n",
       "\t<li>200</li>\n",
       "\t<li>200</li>\n",
       "</ol>\n"
      ],
      "text/latex": [
       "\\begin{enumerate*}\n",
       "\\item 20\n",
       "\\item 40\n",
       "\\item 50\n",
       "\\item 60\n",
       "\\item 70\n",
       "\\item 80\n",
       "\\item 90\n",
       "\\item 200\n",
       "\\item 200\n",
       "\\end{enumerate*}\n"
      ],
      "text/markdown": [
       "1. 20\n",
       "2. 40\n",
       "3. 50\n",
       "4. 60\n",
       "5. 70\n",
       "6. 80\n",
       "7. 90\n",
       "8. 200\n",
       "9. 200\n",
       "\n",
       "\n"
      ],
      "text/plain": [
       "[1]  20  40  50  60  70  80  90 200 200"
      ]
     },
     "metadata": {},
     "output_type": "display_data"
    }
   ],
   "source": [
    "sort(a)"
   ]
  },
  {
   "cell_type": "code",
   "execution_count": 25,
   "id": "40e5bfdf",
   "metadata": {},
   "outputs": [],
   "source": [
    "# replicating values:\n",
    "a=rep(c(1,2,3),each=3)"
   ]
  },
  {
   "cell_type": "code",
   "execution_count": 26,
   "id": "135e1919",
   "metadata": {},
   "outputs": [
    {
     "data": {
      "text/html": [
       "<ol class=list-inline>\n",
       "\t<li>1</li>\n",
       "\t<li>1</li>\n",
       "\t<li>1</li>\n",
       "\t<li>2</li>\n",
       "\t<li>2</li>\n",
       "\t<li>2</li>\n",
       "\t<li>3</li>\n",
       "\t<li>3</li>\n",
       "\t<li>3</li>\n",
       "</ol>\n"
      ],
      "text/latex": [
       "\\begin{enumerate*}\n",
       "\\item 1\n",
       "\\item 1\n",
       "\\item 1\n",
       "\\item 2\n",
       "\\item 2\n",
       "\\item 2\n",
       "\\item 3\n",
       "\\item 3\n",
       "\\item 3\n",
       "\\end{enumerate*}\n"
      ],
      "text/markdown": [
       "1. 1\n",
       "2. 1\n",
       "3. 1\n",
       "4. 2\n",
       "5. 2\n",
       "6. 2\n",
       "7. 3\n",
       "8. 3\n",
       "9. 3\n",
       "\n",
       "\n"
      ],
      "text/plain": [
       "[1] 1 1 1 2 2 2 3 3 3"
      ]
     },
     "metadata": {},
     "output_type": "display_data"
    }
   ],
   "source": [
    "a"
   ]
  },
  {
   "cell_type": "code",
   "execution_count": 27,
   "id": "2b604507",
   "metadata": {},
   "outputs": [
    {
     "data": {
      "text/html": [
       "<ol class=list-inline>\n",
       "\t<li>1</li>\n",
       "\t<li>1</li>\n",
       "\t<li>1</li>\n",
       "\t<li>2</li>\n",
       "\t<li>2</li>\n",
       "\t<li>2</li>\n",
       "\t<li>2</li>\n",
       "\t<li>2</li>\n",
       "\t<li>3</li>\n",
       "</ol>\n"
      ],
      "text/latex": [
       "\\begin{enumerate*}\n",
       "\\item 1\n",
       "\\item 1\n",
       "\\item 1\n",
       "\\item 2\n",
       "\\item 2\n",
       "\\item 2\n",
       "\\item 2\n",
       "\\item 2\n",
       "\\item 3\n",
       "\\end{enumerate*}\n"
      ],
      "text/markdown": [
       "1. 1\n",
       "2. 1\n",
       "3. 1\n",
       "4. 2\n",
       "5. 2\n",
       "6. 2\n",
       "7. 2\n",
       "8. 2\n",
       "9. 3\n",
       "\n",
       "\n"
      ],
      "text/plain": [
       "[1] 1 1 1 2 2 2 2 2 3"
      ]
     },
     "metadata": {},
     "output_type": "display_data"
    }
   ],
   "source": [
    "a=rep(c(1,2,3),times=c(3,5,1))\n",
    "a"
   ]
  },
  {
   "cell_type": "code",
   "execution_count": 28,
   "id": "6eb0ad73",
   "metadata": {},
   "outputs": [
    {
     "data": {
      "text/html": [
       "<ol class=list-inline>\n",
       "\t<li>1</li>\n",
       "\t<li>2</li>\n",
       "\t<li>3</li>\n",
       "\t<li>1</li>\n",
       "\t<li>2</li>\n",
       "\t<li>3</li>\n",
       "\t<li>1</li>\n",
       "\t<li>2</li>\n",
       "\t<li>3</li>\n",
       "</ol>\n"
      ],
      "text/latex": [
       "\\begin{enumerate*}\n",
       "\\item 1\n",
       "\\item 2\n",
       "\\item 3\n",
       "\\item 1\n",
       "\\item 2\n",
       "\\item 3\n",
       "\\item 1\n",
       "\\item 2\n",
       "\\item 3\n",
       "\\end{enumerate*}\n"
      ],
      "text/markdown": [
       "1. 1\n",
       "2. 2\n",
       "3. 3\n",
       "4. 1\n",
       "5. 2\n",
       "6. 3\n",
       "7. 1\n",
       "8. 2\n",
       "9. 3\n",
       "\n",
       "\n"
      ],
      "text/plain": [
       "[1] 1 2 3 1 2 3 1 2 3"
      ]
     },
     "metadata": {},
     "output_type": "display_data"
    }
   ],
   "source": [
    "a=rep(c(1,2,3),times=3)\n",
    "a"
   ]
  },
  {
   "cell_type": "raw",
   "id": "19b1ce7b",
   "metadata": {},
   "source": [
    "Summary:\n",
    "1.  Data Science\n",
    "2.  why to use DS\n",
    "3.  process in DS\n",
    "4.  diff b/w BI and DS\n",
    "5.  Domains of DS\n",
    "6.  R basics: Variables\n",
    "7.  Data Types - Vector and List\n",
    "8.  Input from the user\n",
    "9.  Area of the donut\n",
    "10. list\n",
    "11. vectors"
   ]
  }
 ],
 "metadata": {
  "kernelspec": {
   "display_name": "R",
   "language": "R",
   "name": "ir"
  },
  "language_info": {
   "codemirror_mode": "r",
   "file_extension": ".r",
   "mimetype": "text/x-r-source",
   "name": "R",
   "pygments_lexer": "r",
   "version": "3.6.1"
  }
 },
 "nbformat": 4,
 "nbformat_minor": 5
}
