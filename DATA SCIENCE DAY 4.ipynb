{
 "cells": [
  {
   "cell_type": "markdown",
   "id": "7f6f8516",
   "metadata": {},
   "source": [
    "# LOOPING:"
   ]
  },
  {
   "cell_type": "markdown",
   "id": "8756e2cf",
   "metadata": {},
   "source": [
    "## \"Repeat\" Looping Statement:"
   ]
  },
  {
   "cell_type": "code",
   "execution_count": 1,
   "id": "66e4bfb5",
   "metadata": {},
   "outputs": [
    {
     "name": "stdout",
     "output_type": "stream",
     "text": [
      "[1] 1\n",
      "[1] 2\n",
      "[1] 3\n",
      "[1] 4\n",
      "[1] 5\n"
     ]
    }
   ],
   "source": [
    "res =1\n",
    "i=1\n",
    "repeat\n",
    "    {\n",
    "    print(res)\n",
    "    i=i+1            #increment operator\n",
    "    res=res+1\n",
    "if(i>5)              #condition\n",
    "    {\n",
    "    break\n",
    "}\n",
    "}"
   ]
  },
  {
   "cell_type": "markdown",
   "id": "fbf8f9e0",
   "metadata": {},
   "source": [
    "# Switch Statement:"
   ]
  },
  {
   "cell_type": "code",
   "execution_count": 2,
   "id": "742f91a4",
   "metadata": {},
   "outputs": [
    {
     "data": {
      "text/html": [
       "'add'"
      ],
      "text/latex": [
       "'add'"
      ],
      "text/markdown": [
       "'add'"
      ],
      "text/plain": [
       "[1] \"add\""
      ]
     },
     "metadata": {},
     "output_type": "display_data"
    },
    {
     "data": {
      "text/html": [
       "'sub'"
      ],
      "text/latex": [
       "'sub'"
      ],
      "text/markdown": [
       "'sub'"
      ],
      "text/plain": [
       "[1] \"sub\""
      ]
     },
     "metadata": {},
     "output_type": "display_data"
    },
    {
     "data": {
      "text/html": [
       "'mul'"
      ],
      "text/latex": [
       "'mul'"
      ],
      "text/markdown": [
       "'mul'"
      ],
      "text/plain": [
       "[1] \"mul\""
      ]
     },
     "metadata": {},
     "output_type": "display_data"
    }
   ],
   "source": [
    "switch(1,\"add\",\"sub\",\"mul\")\n",
    "switch(2,\"add\",\"sub\",\"mul\")\n",
    "switch(3,\"add\",\"sub\",\"mul\")"
   ]
  },
  {
   "cell_type": "code",
   "execution_count": 3,
   "id": "70c0bb40",
   "metadata": {},
   "outputs": [
    {
     "name": "stdout",
     "output_type": "stream",
     "text": [
      "Enter your Case:1\n"
     ]
    },
    {
     "data": {
      "text/html": [
       "'add'"
      ],
      "text/latex": [
       "'add'"
      ],
      "text/markdown": [
       "'add'"
      ],
      "text/plain": [
       "[1] \"add\""
      ]
     },
     "metadata": {},
     "output_type": "display_data"
    }
   ],
   "source": [
    "case=as.integer(readline(\"Enter your Case:\"))\n",
    "switch(case,\"add\",\"sub\",\"mul\")"
   ]
  },
  {
   "cell_type": "code",
   "execution_count": 4,
   "id": "550be45d",
   "metadata": {},
   "outputs": [
    {
     "data": {
      "text/html": [
       "'white'"
      ],
      "text/latex": [
       "'white'"
      ],
      "text/markdown": [
       "'white'"
      ],
      "text/plain": [
       "[1] \"white\""
      ]
     },
     "metadata": {},
     "output_type": "display_data"
    },
    {
     "data": {
      "text/html": [
       "'AIML'"
      ],
      "text/latex": [
       "'AIML'"
      ],
      "text/markdown": [
       "'AIML'"
      ],
      "text/plain": [
       "[1] \"AIML\""
      ]
     },
     "metadata": {},
     "output_type": "display_data"
    }
   ],
   "source": [
    "switch(\"color\", name=\"xyz\", age=18, dept=\"AIML\", color=\"white\")\n",
    "switch(\"dept\", name=\"xyz\", age=18, dept=\"AIML\", color=\"white\")"
   ]
  },
  {
   "cell_type": "markdown",
   "id": "d2c7cdaa",
   "metadata": {},
   "source": [
    "# <U> Function:"
   ]
  },
  {
   "cell_type": "markdown",
   "id": "11e3ad9f",
   "metadata": {},
   "source": [
    "                  *  A function is a set of Statements organised together to perform a specfic task.\n",
    "                  *  The value that are declared within a function,when the function is called as an Arguments.\n",
    "                  *  Function Parameters are the names listed in the Function definition.\n",
    "                  *  Buildin Function (and) User Defined Function"
   ]
  },
  {
   "cell_type": "markdown",
   "id": "06643d36",
   "metadata": {},
   "source": [
    "## Function Syntax:"
   ]
  },
  {
   "cell_type": "raw",
   "id": "4c48ca44",
   "metadata": {},
   "source": [
    "fun_name=function(parameter1,....)\n",
    "    {\n",
    "    statement\n",
    "}\n",
    "fun_name(argument1,........) "
   ]
  },
  {
   "cell_type": "code",
   "execution_count": 5,
   "id": "424e5f8e",
   "metadata": {},
   "outputs": [
    {
     "name": "stdout",
     "output_type": "stream",
     "text": [
      "[1] \"xyz\"\n"
     ]
    }
   ],
   "source": [
    "a=function(name)\n",
    "    {\n",
    "    print(name)\n",
    "}\n",
    "a(\"xyz\")"
   ]
  },
  {
   "cell_type": "markdown",
   "id": "c7b6041d",
   "metadata": {},
   "source": [
    "## Types of Argument:"
   ]
  },
  {
   "cell_type": "markdown",
   "id": "f48308ea",
   "metadata": {},
   "source": [
    "                *Required argument\n",
    "                *Default Argument\n",
    "                *Keyword Argument"
   ]
  },
  {
   "cell_type": "markdown",
   "id": "f7ccdb0c",
   "metadata": {},
   "source": [
    "## Required Argument:"
   ]
  },
  {
   "cell_type": "code",
   "execution_count": 6,
   "id": "8feacce0",
   "metadata": {},
   "outputs": [
    {
     "name": "stdout",
     "output_type": "stream",
     "text": [
      "[1] \"name NANTHIESH\"\n",
      "[1] \"dept AIML\"\n"
     ]
    }
   ],
   "source": [
    "a=function(name,dept)\n",
    "    {\n",
    "    print(paste(\"name\",name))\n",
    "    print(paste(\"dept\", dept))\n",
    "}\n",
    "a(dept=\"AIML\",name=\"NANTHIESH\")"
   ]
  },
  {
   "cell_type": "markdown",
   "id": "3d388d9e",
   "metadata": {},
   "source": [
    "## Default Argument:"
   ]
  },
  {
   "cell_type": "code",
   "execution_count": 7,
   "id": "061f7313",
   "metadata": {},
   "outputs": [
    {
     "name": "stdout",
     "output_type": "stream",
     "text": [
      "[1] \"Name: Nantheish\"\n",
      "[1] \"Dept: AIML\"\n",
      "[1] \"Age: 18\"\n"
     ]
    }
   ],
   "source": [
    "a=function(name,dept=\"MBA\",age=18)\n",
    "    {\n",
    "    print(paste(\"Name:\",name))\n",
    "    print(paste(\"Dept:\", dept))\n",
    "    print(paste(\"Age:\", age))\n",
    "}\n",
    "a(\"Nantheish\",\"AIML\", \"18\")"
   ]
  },
  {
   "cell_type": "code",
   "execution_count": 8,
   "id": "3125d78b",
   "metadata": {},
   "outputs": [
    {
     "name": "stdout",
     "output_type": "stream",
     "text": [
      "[1] \"Name: Nantheish\"\n",
      "[1] \"Dept: MBA\"\n",
      "[1] \"Age: 18\"\n"
     ]
    }
   ],
   "source": [
    "a=function(name,dept=\"MBA\",age=18) # default values mentioned here will get printed if no value is given\n",
    "    {\n",
    "    print(paste(\"Name:\",name))\n",
    "    print(paste(\"Dept:\", dept))\n",
    "    print(paste(\"Age:\", age))\n",
    "}\n",
    "a(\"Nantheish\")"
   ]
  },
  {
   "cell_type": "markdown",
   "id": "e3379111",
   "metadata": {},
   "source": [
    "## Keyword Argument:"
   ]
  },
  {
   "cell_type": "code",
   "execution_count": 9,
   "id": "3b32432d",
   "metadata": {},
   "outputs": [
    {
     "name": "stdout",
     "output_type": "stream",
     "text": [
      "[1] \"Name: nanthiesh\"\n",
      "[1] \"Age: 18\"\n"
     ]
    }
   ],
   "source": [
    "a=function(name,age)\n",
    "    { \n",
    "     print(paste(\"Name:\",name))\n",
    "    print(paste(\"Age:\", age))\n",
    "}\n",
    "a(name=\"nanthiesh\",age=18)"
   ]
  },
  {
   "cell_type": "markdown",
   "id": "a9df6e80",
   "metadata": {},
   "source": [
    "# SIMPLE CALCULATOR USING SWITCH CASE:"
   ]
  },
  {
   "cell_type": "code",
   "execution_count": 10,
   "id": "2d390345",
   "metadata": {},
   "outputs": [
    {
     "name": "stdout",
     "output_type": "stream",
     "text": [
      "[1] \"Select your Operation:\"\n",
      "[1] \"1.Addition\"\n",
      "[1] \"2. Subtraciton\"\n",
      "[1] \"3. Multiplication\"\n",
      "[1] \"4. Division\"\n",
      "Enter your choice[1,2,3,4]1\n",
      "Enter your first number:12\n",
      "Enter your second number:3\n",
      "[1] \"12 + 3 = 15\"\n"
     ]
    }
   ],
   "source": [
    "add=function(x,y){\n",
    "    return(x+y)\n",
    "}\n",
    "substract=function(x,y){\n",
    "    return(x-y)\n",
    "}\n",
    "multiply=function(x,y){\n",
    "    return(x*y)\n",
    "}\n",
    "divide=function(x,y){\n",
    "    return(x/y)\n",
    "}\n",
    "#taking input from the user:\n",
    "print(\"Select your Operation:\")\n",
    "print(\"1.Addition\")\n",
    "print(\"2. Subtraciton\")\n",
    "print(\"3. Multiplication\")\n",
    "print(\"4. Division\")\n",
    "choice=as.integer(readline(\"Enter your choice[1,2,3,4]\"))\n",
    "num1=as.integer(readline(\"Enter your first number:\"))\n",
    "num2=as.integer(readline(\"Enter your second number:\"))\n",
    "operator=switch(choice,\"+\",\"-\",\"*\", \"/\")\n",
    "result=switch(choice, add(num1,num2), substract(num1,num2), multiply(num1,num2), division(num1,num2))\n",
    "print(paste(num1, operator, num2 ,\"=\", result ))"
   ]
  },
  {
   "cell_type": "markdown",
   "id": "d635c611",
   "metadata": {},
   "source": [
    "# Distribution:"
   ]
  },
  {
   "cell_type": "markdown",
   "id": "2da03380",
   "metadata": {},
   "source": [
    "## Normal Distribution:"
   ]
  },
  {
   "cell_type": "markdown",
   "id": "c584a676",
   "metadata": {},
   "source": [
    "       * To print random numbers we can use normal distribution and uniform distribution.\n",
    "       * It makes the given number's Mean as 0 and Standard Deviation as 1"
   ]
  },
  {
   "cell_type": "code",
   "execution_count": 11,
   "id": "a9ccfc33",
   "metadata": {},
   "outputs": [
    {
     "data": {
      "text/html": [
       "<ol class=list-inline>\n",
       "\t<li>-0.805753657068895</li>\n",
       "\t<li>1.34477646956052</li>\n",
       "\t<li>-0.35599665148199</li>\n",
       "</ol>\n"
      ],
      "text/latex": [
       "\\begin{enumerate*}\n",
       "\\item -0.805753657068895\n",
       "\\item 1.34477646956052\n",
       "\\item -0.35599665148199\n",
       "\\end{enumerate*}\n"
      ],
      "text/markdown": [
       "1. -0.805753657068895\n",
       "2. 1.34477646956052\n",
       "3. -0.35599665148199\n",
       "\n",
       "\n"
      ],
      "text/plain": [
       "[1] -0.8057537  1.3447765 -0.3559967"
      ]
     },
     "metadata": {},
     "output_type": "display_data"
    }
   ],
   "source": [
    "rnorm(3)"
   ]
  },
  {
   "cell_type": "code",
   "execution_count": 13,
   "id": "097a2ed1",
   "metadata": {},
   "outputs": [
    {
     "data": {
      "text/html": [
       "<ol class=list-inline>\n",
       "\t<li>4.45021843070102</li>\n",
       "\t<li>-2.29223283984963</li>\n",
       "</ol>\n"
      ],
      "text/latex": [
       "\\begin{enumerate*}\n",
       "\\item 4.45021843070102\n",
       "\\item -2.29223283984963\n",
       "\\end{enumerate*}\n"
      ],
      "text/markdown": [
       "1. 4.45021843070102\n",
       "2. -2.29223283984963\n",
       "\n",
       "\n"
      ],
      "text/plain": [
       "[1]  4.450218 -2.292233"
      ]
     },
     "metadata": {},
     "output_type": "display_data"
    }
   ],
   "source": [
    "rnorm(2, mean=5,sd=5)"
   ]
  },
  {
   "cell_type": "markdown",
   "id": "7a888f3b",
   "metadata": {},
   "source": [
    "## Uniform Distribution:"
   ]
  },
  {
   "cell_type": "markdown",
   "id": "3cbebc26",
   "metadata": {},
   "source": []
  },
  {
   "cell_type": "code",
   "execution_count": 14,
   "id": "939d9a8d",
   "metadata": {},
   "outputs": [
    {
     "data": {
      "text/html": [
       "<ol class=list-inline>\n",
       "\t<li>0.408610422397032</li>\n",
       "\t<li>0.876104540424421</li>\n",
       "\t<li>0.77699021762237</li>\n",
       "\t<li>0.934145430102944</li>\n",
       "\t<li>0.277572336839512</li>\n",
       "</ol>\n"
      ],
      "text/latex": [
       "\\begin{enumerate*}\n",
       "\\item 0.408610422397032\n",
       "\\item 0.876104540424421\n",
       "\\item 0.77699021762237\n",
       "\\item 0.934145430102944\n",
       "\\item 0.277572336839512\n",
       "\\end{enumerate*}\n"
      ],
      "text/markdown": [
       "1. 0.408610422397032\n",
       "2. 0.876104540424421\n",
       "3. 0.77699021762237\n",
       "4. 0.934145430102944\n",
       "5. 0.277572336839512\n",
       "\n",
       "\n"
      ],
      "text/plain": [
       "[1] 0.4086104 0.8761045 0.7769902 0.9341454 0.2775723"
      ]
     },
     "metadata": {},
     "output_type": "display_data"
    }
   ],
   "source": [
    "runif(5)"
   ]
  },
  {
   "cell_type": "code",
   "execution_count": 15,
   "id": "199b4cf9",
   "metadata": {},
   "outputs": [
    {
     "data": {
      "text/html": [
       "<ol class=list-inline>\n",
       "\t<li>59.7657469240949</li>\n",
       "\t<li>89.4578255712986</li>\n",
       "\t<li>30.2212617942132</li>\n",
       "\t<li>57.6453824737109</li>\n",
       "\t<li>18.8192942854948</li>\n",
       "</ol>\n"
      ],
      "text/latex": [
       "\\begin{enumerate*}\n",
       "\\item 59.7657469240949\n",
       "\\item 89.4578255712986\n",
       "\\item 30.2212617942132\n",
       "\\item 57.6453824737109\n",
       "\\item 18.8192942854948\n",
       "\\end{enumerate*}\n"
      ],
      "text/markdown": [
       "1. 59.7657469240949\n",
       "2. 89.4578255712986\n",
       "3. 30.2212617942132\n",
       "4. 57.6453824737109\n",
       "5. 18.8192942854948\n",
       "\n",
       "\n"
      ],
      "text/plain": [
       "[1] 59.76575 89.45783 30.22126 57.64538 18.81929"
      ]
     },
     "metadata": {},
     "output_type": "display_data"
    }
   ],
   "source": [
    "runif(5,min=10, max=100)"
   ]
  },
  {
   "cell_type": "code",
   "execution_count": 17,
   "id": "cfdf44d7",
   "metadata": {},
   "outputs": [
    {
     "data": {
      "text/html": [
       "<ol class=list-inline>\n",
       "\t<li>43.4978538705036</li>\n",
       "\t<li>13.9442333881743</li>\n",
       "\t<li>73.8715616450645</li>\n",
       "\t<li>69.1921356879175</li>\n",
       "\t<li>32.4870150908828</li>\n",
       "</ol>\n"
      ],
      "text/latex": [
       "\\begin{enumerate*}\n",
       "\\item 43.4978538705036\n",
       "\\item 13.9442333881743\n",
       "\\item 73.8715616450645\n",
       "\\item 69.1921356879175\n",
       "\\item 32.4870150908828\n",
       "\\end{enumerate*}\n"
      ],
      "text/markdown": [
       "1. 43.4978538705036\n",
       "2. 13.9442333881743\n",
       "3. 73.8715616450645\n",
       "4. 69.1921356879175\n",
       "5. 32.4870150908828\n",
       "\n",
       "\n"
      ],
      "text/plain": [
       "[1] 43.49785 13.94423 73.87156 69.19214 32.48702"
      ]
     },
     "metadata": {},
     "output_type": "display_data"
    }
   ],
   "source": [
    "set.seed(101) # seed is used for not changing the randomly generated values\n",
    "runif(5,min=10, max=100)"
   ]
  },
  {
   "cell_type": "code",
   "execution_count": null,
   "id": "387f649f",
   "metadata": {},
   "outputs": [],
   "source": []
  },
  {
   "cell_type": "code",
   "execution_count": null,
   "id": "cdf425d7",
   "metadata": {},
   "outputs": [],
   "source": []
  }
 ],
 "metadata": {
  "kernelspec": {
   "display_name": "R",
   "language": "R",
   "name": "ir"
  },
  "language_info": {
   "codemirror_mode": "r",
   "file_extension": ".r",
   "mimetype": "text/x-r-source",
   "name": "R",
   "pygments_lexer": "r",
   "version": "3.6.1"
  }
 },
 "nbformat": 4,
 "nbformat_minor": 5
}
