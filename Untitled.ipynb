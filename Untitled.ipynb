{
 "cells": [
  {
   "cell_type": "markdown",
   "id": "142b51d3",
   "metadata": {},
   "source": [
    "# Calculate the GPA:"
   ]
  },
  {
   "cell_type": "code",
   "execution_count": null,
   "id": "96453ff5",
   "metadata": {},
   "outputs": [],
   "source": []
  },
  {
   "cell_type": "markdown",
   "id": "cb13e56d",
   "metadata": {},
   "source": [
    "#  Display the value by getting it from the User:"
   ]
  },
  {
   "cell_type": "code",
   "execution_count": 1,
   "id": "68ecfabb",
   "metadata": {},
   "outputs": [
    {
     "name": "stdout",
     "output_type": "stream",
     "text": [
      "Enter your values: 15\n"
     ]
    },
    {
     "data": {
      "text/html": [
       "'15'"
      ],
      "text/latex": [
       "'15'"
      ],
      "text/markdown": [
       "'15'"
      ],
      "text/plain": [
       "[1] \"15\""
      ]
     },
     "metadata": {},
     "output_type": "display_data"
    }
   ],
   "source": [
    "value = c()\n",
    "value = readline(\"Enter your values: \")\n",
    "value"
   ]
  },
  {
   "cell_type": "code",
   "execution_count": null,
   "id": "5f14ad1c",
   "metadata": {},
   "outputs": [],
   "source": []
  }
 ],
 "metadata": {
  "kernelspec": {
   "display_name": "R",
   "language": "R",
   "name": "ir"
  },
  "language_info": {
   "codemirror_mode": "r",
   "file_extension": ".r",
   "mimetype": "text/x-r-source",
   "name": "R",
   "pygments_lexer": "r",
   "version": "3.6.1"
  }
 },
 "nbformat": 4,
 "nbformat_minor": 5
}
