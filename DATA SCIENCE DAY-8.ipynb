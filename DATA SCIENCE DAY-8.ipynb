{
 "cells": [
  {
   "cell_type": "markdown",
   "id": "5d309697",
   "metadata": {},
   "source": [
    "# Data:"
   ]
  },
  {
   "cell_type": "markdown",
   "id": "3717df86",
   "metadata": {},
   "source": [
    "            Data derived from ToothGrowth data sets are used. ToothGrowth describes the effect of Vitamin C on Tooth growth pigs"
   ]
  },
  {
   "cell_type": "code",
   "execution_count": 1,
   "id": "80e183eb",
   "metadata": {},
   "outputs": [
    {
     "data": {
      "text/html": [
       "<table>\n",
       "<thead><tr><th scope=col>dose</th><th scope=col>len</th></tr></thead>\n",
       "<tbody>\n",
       "\t<tr><td>D0.5</td><td> 4.2</td></tr>\n",
       "\t<tr><td>D1  </td><td>10.0</td></tr>\n",
       "\t<tr><td>D2  </td><td>29.5</td></tr>\n",
       "</tbody>\n",
       "</table>\n"
      ],
      "text/latex": [
       "\\begin{tabular}{r|ll}\n",
       " dose & len\\\\\n",
       "\\hline\n",
       "\t D0.5 &  4.2\\\\\n",
       "\t D1   & 10.0\\\\\n",
       "\t D2   & 29.5\\\\\n",
       "\\end{tabular}\n"
      ],
      "text/markdown": [
       "\n",
       "| dose | len |\n",
       "|---|---|\n",
       "| D0.5 |  4.2 |\n",
       "| D1   | 10.0 |\n",
       "| D2   | 29.5 |\n",
       "\n"
      ],
      "text/plain": [
       "  dose len \n",
       "1 D0.5  4.2\n",
       "2 D1   10.0\n",
       "3 D2   29.5"
      ]
     },
     "metadata": {},
     "output_type": "display_data"
    }
   ],
   "source": [
    "df <- data.frame(dose=c(\"D0.5\", \"D1\" , \"D2\"),\n",
    "                 len=c(4.2,10,29.5))\n",
    "head(df)"
   ]
  },
  {
   "cell_type": "code",
   "execution_count": 2,
   "id": "3edc9c4d",
   "metadata": {},
   "outputs": [
    {
     "name": "stderr",
     "output_type": "stream",
     "text": [
      "Warning message:\n",
      "\"unable to access index for repository https://cran.r-project.org/src/contrib:\n",
      "  cannot open URL 'https://cran.r-project.org/src/contrib/PACKAGES'\"Warning message:\n",
      "\"package 'ggplot2' is not available (for R version 3.6.1)\"Warning message:\n",
      "\"unable to access index for repository https://cran.r-project.org/bin/windows/contrib/3.6:\n",
      "  cannot open URL 'https://cran.r-project.org/bin/windows/contrib/3.6/PACKAGES'\""
     ]
    }
   ],
   "source": [
    "install.packages(\"ggplot2\")"
   ]
  },
  {
   "cell_type": "markdown",
   "id": "72696b54",
   "metadata": {},
   "source": [
    "   if you want the height of the bars to represent the values in the data then use stat=identity"
   ]
  },
  {
   "cell_type": "code",
   "execution_count": null,
   "id": "8df7d49d",
   "metadata": {},
   "outputs": [],
   "source": []
  }
 ],
 "metadata": {
  "kernelspec": {
   "display_name": "R",
   "language": "R",
   "name": "ir"
  },
  "language_info": {
   "codemirror_mode": "r",
   "file_extension": ".r",
   "mimetype": "text/x-r-source",
   "name": "R",
   "pygments_lexer": "r",
   "version": "3.6.1"
  }
 },
 "nbformat": 4,
 "nbformat_minor": 5
}
