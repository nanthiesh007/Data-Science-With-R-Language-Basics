{
 "cells": [
  {
   "cell_type": "code",
   "execution_count": 1,
   "id": "f8d9a967",
   "metadata": {},
   "outputs": [
    {
     "name": "stdout",
     "output_type": "stream",
     "text": [
      "Enter the number: 15\n"
     ]
    }
   ],
   "source": [
    "a=readline(\"Enter the number: \")"
   ]
  },
  {
   "cell_type": "code",
   "execution_count": 2,
   "id": "b8f11839",
   "metadata": {},
   "outputs": [
    {
     "data": {
      "text/html": [
       "'character'"
      ],
      "text/latex": [
       "'character'"
      ],
      "text/markdown": [
       "'character'"
      ],
      "text/plain": [
       "[1] \"character\""
      ]
     },
     "metadata": {},
     "output_type": "display_data"
    }
   ],
   "source": [
    "class(a)"
   ]
  },
  {
   "cell_type": "markdown",
   "id": "5e7c8cb0",
   "metadata": {},
   "source": [
    "# Converting the value while getting the value from the user:"
   ]
  },
  {
   "cell_type": "code",
   "execution_count": 3,
   "id": "d31aac6b",
   "metadata": {},
   "outputs": [
    {
     "name": "stdout",
     "output_type": "stream",
     "text": [
      "Enter the number:453\n"
     ]
    }
   ],
   "source": [
    "b=as.integer(readline(\"Enter the number:\"))"
   ]
  },
  {
   "cell_type": "code",
   "execution_count": 4,
   "id": "afe4a0a3",
   "metadata": {},
   "outputs": [
    {
     "data": {
      "text/html": [
       "'integer'"
      ],
      "text/latex": [
       "'integer'"
      ],
      "text/markdown": [
       "'integer'"
      ],
      "text/plain": [
       "[1] \"integer\""
      ]
     },
     "metadata": {},
     "output_type": "display_data"
    }
   ],
   "source": [
    "class(b)"
   ]
  },
  {
   "cell_type": "code",
   "execution_count": 5,
   "id": "f8bc5fb0",
   "metadata": {},
   "outputs": [],
   "source": [
    "d=c(1,2,3,4,5,6,7,8,9,0)"
   ]
  },
  {
   "cell_type": "code",
   "execution_count": 6,
   "id": "5379cd45",
   "metadata": {},
   "outputs": [
    {
     "data": {
      "text/html": [
       "<ol class=list-inline>\n",
       "\t<li>1</li>\n",
       "\t<li>2</li>\n",
       "\t<li>3</li>\n",
       "\t<li>4</li>\n",
       "\t<li>5</li>\n",
       "\t<li>6</li>\n",
       "\t<li>7</li>\n",
       "\t<li>8</li>\n",
       "\t<li>9</li>\n",
       "\t<li>0</li>\n",
       "</ol>\n"
      ],
      "text/latex": [
       "\\begin{enumerate*}\n",
       "\\item 1\n",
       "\\item 2\n",
       "\\item 3\n",
       "\\item 4\n",
       "\\item 5\n",
       "\\item 6\n",
       "\\item 7\n",
       "\\item 8\n",
       "\\item 9\n",
       "\\item 0\n",
       "\\end{enumerate*}\n"
      ],
      "text/markdown": [
       "1. 1\n",
       "2. 2\n",
       "3. 3\n",
       "4. 4\n",
       "5. 5\n",
       "6. 6\n",
       "7. 7\n",
       "8. 8\n",
       "9. 9\n",
       "10. 0\n",
       "\n",
       "\n"
      ],
      "text/plain": [
       " [1] 1 2 3 4 5 6 7 8 9 0"
      ]
     },
     "metadata": {},
     "output_type": "display_data"
    }
   ],
   "source": [
    "d"
   ]
  },
  {
   "cell_type": "code",
   "execution_count": 7,
   "id": "3f2ea2fe",
   "metadata": {},
   "outputs": [
    {
     "data": {
      "text/html": [
       "2"
      ],
      "text/latex": [
       "2"
      ],
      "text/markdown": [
       "2"
      ],
      "text/plain": [
       "[1] 2"
      ]
     },
     "metadata": {},
     "output_type": "display_data"
    }
   ],
   "source": [
    "d[2]"
   ]
  },
  {
   "cell_type": "code",
   "execution_count": 8,
   "id": "5fa80931",
   "metadata": {},
   "outputs": [
    {
     "data": {
      "text/html": [
       "<ol class=list-inline>\n",
       "\t<li>1</li>\n",
       "\t<li>3</li>\n",
       "</ol>\n"
      ],
      "text/latex": [
       "\\begin{enumerate*}\n",
       "\\item 1\n",
       "\\item 3\n",
       "\\end{enumerate*}\n"
      ],
      "text/markdown": [
       "1. 1\n",
       "2. 3\n",
       "\n",
       "\n"
      ],
      "text/plain": [
       "[1] 1 3"
      ]
     },
     "metadata": {},
     "output_type": "display_data"
    }
   ],
   "source": [
    "# accessing the values in the array \n",
    "d[c(1,3)]"
   ]
  },
  {
   "cell_type": "code",
   "execution_count": 9,
   "id": "98d00fb8",
   "metadata": {},
   "outputs": [
    {
     "data": {
      "text/html": [
       "<ol class=list-inline>\n",
       "\t<li>1</li>\n",
       "\t<li>2</li>\n",
       "\t<li>3</li>\n",
       "\t<li>4</li>\n",
       "\t<li>5</li>\n",
       "</ol>\n"
      ],
      "text/latex": [
       "\\begin{enumerate*}\n",
       "\\item 1\n",
       "\\item 2\n",
       "\\item 3\n",
       "\\item 4\n",
       "\\item 5\n",
       "\\end{enumerate*}\n"
      ],
      "text/markdown": [
       "1. 1\n",
       "2. 2\n",
       "3. 3\n",
       "4. 4\n",
       "5. 5\n",
       "\n",
       "\n"
      ],
      "text/plain": [
       "[1] 1 2 3 4 5"
      ]
     },
     "metadata": {},
     "output_type": "display_data"
    }
   ],
   "source": [
    "# start : stop\n",
    "d[1:5]"
   ]
  },
  {
   "cell_type": "code",
   "execution_count": 10,
   "id": "cc8c8b66",
   "metadata": {},
   "outputs": [],
   "source": [
    "#updating the values in the vectors:\n",
    "d[c(2,5)]=100"
   ]
  },
  {
   "cell_type": "code",
   "execution_count": 11,
   "id": "995e1a11",
   "metadata": {},
   "outputs": [
    {
     "data": {
      "text/html": [
       "<ol class=list-inline>\n",
       "\t<li>1</li>\n",
       "\t<li>100</li>\n",
       "\t<li>3</li>\n",
       "\t<li>4</li>\n",
       "\t<li>100</li>\n",
       "\t<li>6</li>\n",
       "\t<li>7</li>\n",
       "\t<li>8</li>\n",
       "\t<li>9</li>\n",
       "\t<li>0</li>\n",
       "</ol>\n"
      ],
      "text/latex": [
       "\\begin{enumerate*}\n",
       "\\item 1\n",
       "\\item 100\n",
       "\\item 3\n",
       "\\item 4\n",
       "\\item 100\n",
       "\\item 6\n",
       "\\item 7\n",
       "\\item 8\n",
       "\\item 9\n",
       "\\item 0\n",
       "\\end{enumerate*}\n"
      ],
      "text/markdown": [
       "1. 1\n",
       "2. 100\n",
       "3. 3\n",
       "4. 4\n",
       "5. 100\n",
       "6. 6\n",
       "7. 7\n",
       "8. 8\n",
       "9. 9\n",
       "10. 0\n",
       "\n",
       "\n"
      ],
      "text/plain": [
       " [1]   1 100   3   4 100   6   7   8   9   0"
      ]
     },
     "metadata": {},
     "output_type": "display_data"
    }
   ],
   "source": [
    "d"
   ]
  },
  {
   "cell_type": "code",
   "execution_count": 12,
   "id": "e3cb6d47",
   "metadata": {},
   "outputs": [
    {
     "data": {
      "text/html": [
       "<ol class=list-inline>\n",
       "\t<li>0</li>\n",
       "\t<li>1</li>\n",
       "\t<li>3</li>\n",
       "\t<li>4</li>\n",
       "\t<li>6</li>\n",
       "\t<li>7</li>\n",
       "\t<li>8</li>\n",
       "\t<li>9</li>\n",
       "\t<li>100</li>\n",
       "\t<li>100</li>\n",
       "</ol>\n"
      ],
      "text/latex": [
       "\\begin{enumerate*}\n",
       "\\item 0\n",
       "\\item 1\n",
       "\\item 3\n",
       "\\item 4\n",
       "\\item 6\n",
       "\\item 7\n",
       "\\item 8\n",
       "\\item 9\n",
       "\\item 100\n",
       "\\item 100\n",
       "\\end{enumerate*}\n"
      ],
      "text/markdown": [
       "1. 0\n",
       "2. 1\n",
       "3. 3\n",
       "4. 4\n",
       "5. 6\n",
       "6. 7\n",
       "7. 8\n",
       "8. 9\n",
       "9. 100\n",
       "10. 100\n",
       "\n",
       "\n"
      ],
      "text/plain": [
       " [1]   0   1   3   4   6   7   8   9 100 100"
      ]
     },
     "metadata": {},
     "output_type": "display_data"
    }
   ],
   "source": [
    "# sorting the values in ascending\n",
    "sort(d)"
   ]
  },
  {
   "cell_type": "code",
   "execution_count": 13,
   "id": "fc8f7a5d",
   "metadata": {},
   "outputs": [],
   "source": [
    "# sorting the values in descending\n",
    "d=sort(d,TRUE)"
   ]
  },
  {
   "cell_type": "code",
   "execution_count": 14,
   "id": "5d299bd8",
   "metadata": {},
   "outputs": [
    {
     "data": {
      "text/html": [
       "<ol class=list-inline>\n",
       "\t<li>100</li>\n",
       "\t<li>100</li>\n",
       "\t<li>9</li>\n",
       "\t<li>8</li>\n",
       "\t<li>7</li>\n",
       "\t<li>6</li>\n",
       "\t<li>4</li>\n",
       "\t<li>3</li>\n",
       "\t<li>1</li>\n",
       "\t<li>0</li>\n",
       "</ol>\n"
      ],
      "text/latex": [
       "\\begin{enumerate*}\n",
       "\\item 100\n",
       "\\item 100\n",
       "\\item 9\n",
       "\\item 8\n",
       "\\item 7\n",
       "\\item 6\n",
       "\\item 4\n",
       "\\item 3\n",
       "\\item 1\n",
       "\\item 0\n",
       "\\end{enumerate*}\n"
      ],
      "text/markdown": [
       "1. 100\n",
       "2. 100\n",
       "3. 9\n",
       "4. 8\n",
       "5. 7\n",
       "6. 6\n",
       "7. 4\n",
       "8. 3\n",
       "9. 1\n",
       "10. 0\n",
       "\n",
       "\n"
      ],
      "text/plain": [
       " [1] 100 100   9   8   7   6   4   3   1   0"
      ]
     },
     "metadata": {},
     "output_type": "display_data"
    }
   ],
   "source": [
    "d"
   ]
  },
  {
   "cell_type": "code",
   "execution_count": 15,
   "id": "69a026e8",
   "metadata": {},
   "outputs": [
    {
     "data": {
      "text/html": [
       "11"
      ],
      "text/latex": [
       "11"
      ],
      "text/markdown": [
       "11"
      ],
      "text/plain": [
       "[1] 11"
      ]
     },
     "metadata": {},
     "output_type": "display_data"
    },
    {
     "data": {
      "text/html": [
       "10"
      ],
      "text/latex": [
       "10"
      ],
      "text/markdown": [
       "10"
      ],
      "text/plain": [
       "[1] 10"
      ]
     },
     "metadata": {},
     "output_type": "display_data"
    }
   ],
   "source": [
    "# ceiling => for next number\n",
    "# floor => for the previous number\n",
    "\n",
    "ceiling(10.5)\n",
    "floor(10.5)"
   ]
  },
  {
   "cell_type": "code",
   "execution_count": 16,
   "id": "9cbacfe0",
   "metadata": {},
   "outputs": [
    {
     "data": {
      "text/html": [
       "<ol class=list-inline>\n",
       "\t<li>1</li>\n",
       "\t<li>2</li>\n",
       "\t<li>3</li>\n",
       "\t<li>1</li>\n",
       "\t<li>2</li>\n",
       "\t<li>3</li>\n",
       "\t<li>1</li>\n",
       "\t<li>2</li>\n",
       "\t<li>3</li>\n",
       "\t<li>1</li>\n",
       "\t<li>2</li>\n",
       "\t<li>3</li>\n",
       "</ol>\n"
      ],
      "text/latex": [
       "\\begin{enumerate*}\n",
       "\\item 1\n",
       "\\item 2\n",
       "\\item 3\n",
       "\\item 1\n",
       "\\item 2\n",
       "\\item 3\n",
       "\\item 1\n",
       "\\item 2\n",
       "\\item 3\n",
       "\\item 1\n",
       "\\item 2\n",
       "\\item 3\n",
       "\\end{enumerate*}\n"
      ],
      "text/markdown": [
       "1. 1\n",
       "2. 2\n",
       "3. 3\n",
       "4. 1\n",
       "5. 2\n",
       "6. 3\n",
       "7. 1\n",
       "8. 2\n",
       "9. 3\n",
       "10. 1\n",
       "11. 2\n",
       "12. 3\n",
       "\n",
       "\n"
      ],
      "text/plain": [
       " [1] 1 2 3 1 2 3 1 2 3 1 2 3"
      ]
     },
     "metadata": {},
     "output_type": "display_data"
    }
   ],
   "source": [
    "d=rep(c(1,2,3),times=4)\n",
    "d"
   ]
  },
  {
   "cell_type": "code",
   "execution_count": 17,
   "id": "341243b0",
   "metadata": {},
   "outputs": [
    {
     "data": {
      "text/html": [
       "<ol class=list-inline>\n",
       "\t<li>1</li>\n",
       "\t<li>2</li>\n",
       "\t<li>3</li>\n",
       "\t<li>4</li>\n",
       "\t<li>5</li>\n",
       "\t<li>6</li>\n",
       "\t<li>7</li>\n",
       "\t<li>8</li>\n",
       "\t<li>9</li>\n",
       "\t<li>10</li>\n",
       "\t<li>11</li>\n",
       "\t<li>12</li>\n",
       "\t<li>13</li>\n",
       "\t<li>14</li>\n",
       "\t<li>15</li>\n",
       "\t<li>16</li>\n",
       "\t<li>17</li>\n",
       "\t<li>18</li>\n",
       "\t<li>19</li>\n",
       "\t<li>20</li>\n",
       "\t<li>21</li>\n",
       "\t<li>22</li>\n",
       "\t<li>23</li>\n",
       "\t<li>24</li>\n",
       "\t<li>25</li>\n",
       "\t<li>26</li>\n",
       "\t<li>27</li>\n",
       "\t<li>28</li>\n",
       "\t<li>29</li>\n",
       "\t<li>30</li>\n",
       "\t<li>31</li>\n",
       "\t<li>32</li>\n",
       "\t<li>33</li>\n",
       "\t<li>34</li>\n",
       "\t<li>35</li>\n",
       "\t<li>36</li>\n",
       "\t<li>37</li>\n",
       "\t<li>38</li>\n",
       "\t<li>39</li>\n",
       "\t<li>40</li>\n",
       "\t<li>41</li>\n",
       "\t<li>42</li>\n",
       "\t<li>43</li>\n",
       "\t<li>44</li>\n",
       "\t<li>45</li>\n",
       "\t<li>46</li>\n",
       "\t<li>47</li>\n",
       "\t<li>48</li>\n",
       "\t<li>49</li>\n",
       "\t<li>50</li>\n",
       "\t<li>51</li>\n",
       "\t<li>52</li>\n",
       "\t<li>53</li>\n",
       "\t<li>54</li>\n",
       "\t<li>55</li>\n",
       "\t<li>56</li>\n",
       "\t<li>57</li>\n",
       "\t<li>58</li>\n",
       "\t<li>59</li>\n",
       "\t<li>60</li>\n",
       "\t<li>61</li>\n",
       "\t<li>62</li>\n",
       "\t<li>63</li>\n",
       "\t<li>64</li>\n",
       "\t<li>65</li>\n",
       "\t<li>66</li>\n",
       "\t<li>67</li>\n",
       "\t<li>68</li>\n",
       "\t<li>69</li>\n",
       "\t<li>70</li>\n",
       "\t<li>71</li>\n",
       "\t<li>72</li>\n",
       "\t<li>73</li>\n",
       "\t<li>74</li>\n",
       "\t<li>75</li>\n",
       "\t<li>76</li>\n",
       "\t<li>77</li>\n",
       "\t<li>78</li>\n",
       "\t<li>79</li>\n",
       "\t<li>80</li>\n",
       "\t<li>81</li>\n",
       "\t<li>82</li>\n",
       "\t<li>83</li>\n",
       "\t<li>84</li>\n",
       "\t<li>85</li>\n",
       "\t<li>86</li>\n",
       "\t<li>87</li>\n",
       "\t<li>88</li>\n",
       "\t<li>89</li>\n",
       "\t<li>90</li>\n",
       "\t<li>91</li>\n",
       "\t<li>92</li>\n",
       "\t<li>93</li>\n",
       "\t<li>94</li>\n",
       "\t<li>95</li>\n",
       "\t<li>96</li>\n",
       "\t<li>97</li>\n",
       "\t<li>98</li>\n",
       "\t<li>99</li>\n",
       "\t<li>100</li>\n",
       "</ol>\n"
      ],
      "text/latex": [
       "\\begin{enumerate*}\n",
       "\\item 1\n",
       "\\item 2\n",
       "\\item 3\n",
       "\\item 4\n",
       "\\item 5\n",
       "\\item 6\n",
       "\\item 7\n",
       "\\item 8\n",
       "\\item 9\n",
       "\\item 10\n",
       "\\item 11\n",
       "\\item 12\n",
       "\\item 13\n",
       "\\item 14\n",
       "\\item 15\n",
       "\\item 16\n",
       "\\item 17\n",
       "\\item 18\n",
       "\\item 19\n",
       "\\item 20\n",
       "\\item 21\n",
       "\\item 22\n",
       "\\item 23\n",
       "\\item 24\n",
       "\\item 25\n",
       "\\item 26\n",
       "\\item 27\n",
       "\\item 28\n",
       "\\item 29\n",
       "\\item 30\n",
       "\\item 31\n",
       "\\item 32\n",
       "\\item 33\n",
       "\\item 34\n",
       "\\item 35\n",
       "\\item 36\n",
       "\\item 37\n",
       "\\item 38\n",
       "\\item 39\n",
       "\\item 40\n",
       "\\item 41\n",
       "\\item 42\n",
       "\\item 43\n",
       "\\item 44\n",
       "\\item 45\n",
       "\\item 46\n",
       "\\item 47\n",
       "\\item 48\n",
       "\\item 49\n",
       "\\item 50\n",
       "\\item 51\n",
       "\\item 52\n",
       "\\item 53\n",
       "\\item 54\n",
       "\\item 55\n",
       "\\item 56\n",
       "\\item 57\n",
       "\\item 58\n",
       "\\item 59\n",
       "\\item 60\n",
       "\\item 61\n",
       "\\item 62\n",
       "\\item 63\n",
       "\\item 64\n",
       "\\item 65\n",
       "\\item 66\n",
       "\\item 67\n",
       "\\item 68\n",
       "\\item 69\n",
       "\\item 70\n",
       "\\item 71\n",
       "\\item 72\n",
       "\\item 73\n",
       "\\item 74\n",
       "\\item 75\n",
       "\\item 76\n",
       "\\item 77\n",
       "\\item 78\n",
       "\\item 79\n",
       "\\item 80\n",
       "\\item 81\n",
       "\\item 82\n",
       "\\item 83\n",
       "\\item 84\n",
       "\\item 85\n",
       "\\item 86\n",
       "\\item 87\n",
       "\\item 88\n",
       "\\item 89\n",
       "\\item 90\n",
       "\\item 91\n",
       "\\item 92\n",
       "\\item 93\n",
       "\\item 94\n",
       "\\item 95\n",
       "\\item 96\n",
       "\\item 97\n",
       "\\item 98\n",
       "\\item 99\n",
       "\\item 100\n",
       "\\end{enumerate*}\n"
      ],
      "text/markdown": [
       "1. 1\n",
       "2. 2\n",
       "3. 3\n",
       "4. 4\n",
       "5. 5\n",
       "6. 6\n",
       "7. 7\n",
       "8. 8\n",
       "9. 9\n",
       "10. 10\n",
       "11. 11\n",
       "12. 12\n",
       "13. 13\n",
       "14. 14\n",
       "15. 15\n",
       "16. 16\n",
       "17. 17\n",
       "18. 18\n",
       "19. 19\n",
       "20. 20\n",
       "21. 21\n",
       "22. 22\n",
       "23. 23\n",
       "24. 24\n",
       "25. 25\n",
       "26. 26\n",
       "27. 27\n",
       "28. 28\n",
       "29. 29\n",
       "30. 30\n",
       "31. 31\n",
       "32. 32\n",
       "33. 33\n",
       "34. 34\n",
       "35. 35\n",
       "36. 36\n",
       "37. 37\n",
       "38. 38\n",
       "39. 39\n",
       "40. 40\n",
       "41. 41\n",
       "42. 42\n",
       "43. 43\n",
       "44. 44\n",
       "45. 45\n",
       "46. 46\n",
       "47. 47\n",
       "48. 48\n",
       "49. 49\n",
       "50. 50\n",
       "51. 51\n",
       "52. 52\n",
       "53. 53\n",
       "54. 54\n",
       "55. 55\n",
       "56. 56\n",
       "57. 57\n",
       "58. 58\n",
       "59. 59\n",
       "60. 60\n",
       "61. 61\n",
       "62. 62\n",
       "63. 63\n",
       "64. 64\n",
       "65. 65\n",
       "66. 66\n",
       "67. 67\n",
       "68. 68\n",
       "69. 69\n",
       "70. 70\n",
       "71. 71\n",
       "72. 72\n",
       "73. 73\n",
       "74. 74\n",
       "75. 75\n",
       "76. 76\n",
       "77. 77\n",
       "78. 78\n",
       "79. 79\n",
       "80. 80\n",
       "81. 81\n",
       "82. 82\n",
       "83. 83\n",
       "84. 84\n",
       "85. 85\n",
       "86. 86\n",
       "87. 87\n",
       "88. 88\n",
       "89. 89\n",
       "90. 90\n",
       "91. 91\n",
       "92. 92\n",
       "93. 93\n",
       "94. 94\n",
       "95. 95\n",
       "96. 96\n",
       "97. 97\n",
       "98. 98\n",
       "99. 99\n",
       "100. 100\n",
       "\n",
       "\n"
      ],
      "text/plain": [
       "  [1]   1   2   3   4   5   6   7   8   9  10  11  12  13  14  15  16  17  18\n",
       " [19]  19  20  21  22  23  24  25  26  27  28  29  30  31  32  33  34  35  36\n",
       " [37]  37  38  39  40  41  42  43  44  45  46  47  48  49  50  51  52  53  54\n",
       " [55]  55  56  57  58  59  60  61  62  63  64  65  66  67  68  69  70  71  72\n",
       " [73]  73  74  75  76  77  78  79  80  81  82  83  84  85  86  87  88  89  90\n",
       " [91]  91  92  93  94  95  96  97  98  99 100"
      ]
     },
     "metadata": {},
     "output_type": "display_data"
    }
   ],
   "source": [
    "e=c(1:100)\n",
    "e"
   ]
  },
  {
   "cell_type": "markdown",
   "id": "91f24bfd",
   "metadata": {},
   "source": [
    "# SEQUENCE:"
   ]
  },
  {
   "cell_type": "markdown",
   "id": "b0c8b25f",
   "metadata": {},
   "source": [
    "## BY --> TO JUMP THE VALUE\n",
    "## LENGTH.OUT --> VALUE COUNT BETWEEN THE RANGE"
   ]
  },
  {
   "cell_type": "code",
   "execution_count": 18,
   "id": "509f8f69",
   "metadata": {},
   "outputs": [
    {
     "data": {
      "text/html": [
       "<ol class=list-inline>\n",
       "\t<li>10</li>\n",
       "\t<li>12</li>\n",
       "\t<li>14</li>\n",
       "\t<li>16</li>\n",
       "\t<li>18</li>\n",
       "\t<li>20</li>\n",
       "\t<li>22</li>\n",
       "\t<li>24</li>\n",
       "\t<li>26</li>\n",
       "\t<li>28</li>\n",
       "\t<li>30</li>\n",
       "\t<li>32</li>\n",
       "\t<li>34</li>\n",
       "\t<li>36</li>\n",
       "\t<li>38</li>\n",
       "\t<li>40</li>\n",
       "\t<li>42</li>\n",
       "\t<li>44</li>\n",
       "\t<li>46</li>\n",
       "\t<li>48</li>\n",
       "\t<li>50</li>\n",
       "\t<li>52</li>\n",
       "\t<li>54</li>\n",
       "\t<li>56</li>\n",
       "\t<li>58</li>\n",
       "\t<li>60</li>\n",
       "\t<li>62</li>\n",
       "\t<li>64</li>\n",
       "\t<li>66</li>\n",
       "\t<li>68</li>\n",
       "\t<li>70</li>\n",
       "\t<li>72</li>\n",
       "\t<li>74</li>\n",
       "\t<li>76</li>\n",
       "\t<li>78</li>\n",
       "\t<li>80</li>\n",
       "\t<li>82</li>\n",
       "\t<li>84</li>\n",
       "\t<li>86</li>\n",
       "\t<li>88</li>\n",
       "\t<li>90</li>\n",
       "\t<li>92</li>\n",
       "\t<li>94</li>\n",
       "\t<li>96</li>\n",
       "\t<li>98</li>\n",
       "\t<li>100</li>\n",
       "</ol>\n"
      ],
      "text/latex": [
       "\\begin{enumerate*}\n",
       "\\item 10\n",
       "\\item 12\n",
       "\\item 14\n",
       "\\item 16\n",
       "\\item 18\n",
       "\\item 20\n",
       "\\item 22\n",
       "\\item 24\n",
       "\\item 26\n",
       "\\item 28\n",
       "\\item 30\n",
       "\\item 32\n",
       "\\item 34\n",
       "\\item 36\n",
       "\\item 38\n",
       "\\item 40\n",
       "\\item 42\n",
       "\\item 44\n",
       "\\item 46\n",
       "\\item 48\n",
       "\\item 50\n",
       "\\item 52\n",
       "\\item 54\n",
       "\\item 56\n",
       "\\item 58\n",
       "\\item 60\n",
       "\\item 62\n",
       "\\item 64\n",
       "\\item 66\n",
       "\\item 68\n",
       "\\item 70\n",
       "\\item 72\n",
       "\\item 74\n",
       "\\item 76\n",
       "\\item 78\n",
       "\\item 80\n",
       "\\item 82\n",
       "\\item 84\n",
       "\\item 86\n",
       "\\item 88\n",
       "\\item 90\n",
       "\\item 92\n",
       "\\item 94\n",
       "\\item 96\n",
       "\\item 98\n",
       "\\item 100\n",
       "\\end{enumerate*}\n"
      ],
      "text/markdown": [
       "1. 10\n",
       "2. 12\n",
       "3. 14\n",
       "4. 16\n",
       "5. 18\n",
       "6. 20\n",
       "7. 22\n",
       "8. 24\n",
       "9. 26\n",
       "10. 28\n",
       "11. 30\n",
       "12. 32\n",
       "13. 34\n",
       "14. 36\n",
       "15. 38\n",
       "16. 40\n",
       "17. 42\n",
       "18. 44\n",
       "19. 46\n",
       "20. 48\n",
       "21. 50\n",
       "22. 52\n",
       "23. 54\n",
       "24. 56\n",
       "25. 58\n",
       "26. 60\n",
       "27. 62\n",
       "28. 64\n",
       "29. 66\n",
       "30. 68\n",
       "31. 70\n",
       "32. 72\n",
       "33. 74\n",
       "34. 76\n",
       "35. 78\n",
       "36. 80\n",
       "37. 82\n",
       "38. 84\n",
       "39. 86\n",
       "40. 88\n",
       "41. 90\n",
       "42. 92\n",
       "43. 94\n",
       "44. 96\n",
       "45. 98\n",
       "46. 100\n",
       "\n",
       "\n"
      ],
      "text/plain": [
       " [1]  10  12  14  16  18  20  22  24  26  28  30  32  34  36  38  40  42  44  46\n",
       "[20]  48  50  52  54  56  58  60  62  64  66  68  70  72  74  76  78  80  82  84\n",
       "[39]  86  88  90  92  94  96  98 100"
      ]
     },
     "metadata": {},
     "output_type": "display_data"
    }
   ],
   "source": [
    "# by sequence:\n",
    "seq(from=10, to=100, by=2)"
   ]
  },
  {
   "cell_type": "code",
   "execution_count": 19,
   "id": "10deb12e",
   "metadata": {},
   "outputs": [
    {
     "data": {
      "text/html": [
       "<ol class=list-inline>\n",
       "\t<li>1</li>\n",
       "\t<li>1.16666666666667</li>\n",
       "\t<li>1.33333333333333</li>\n",
       "\t<li>1.5</li>\n",
       "\t<li>1.66666666666667</li>\n",
       "\t<li>1.83333333333333</li>\n",
       "\t<li>2</li>\n",
       "\t<li>2.16666666666667</li>\n",
       "\t<li>2.33333333333333</li>\n",
       "\t<li>2.5</li>\n",
       "\t<li>2.66666666666667</li>\n",
       "\t<li>2.83333333333333</li>\n",
       "\t<li>3</li>\n",
       "\t<li>3.16666666666667</li>\n",
       "\t<li>3.33333333333333</li>\n",
       "\t<li>3.5</li>\n",
       "\t<li>3.66666666666667</li>\n",
       "\t<li>3.83333333333333</li>\n",
       "\t<li>4</li>\n",
       "\t<li>4.16666666666667</li>\n",
       "\t<li>4.33333333333333</li>\n",
       "\t<li>4.5</li>\n",
       "\t<li>4.66666666666667</li>\n",
       "\t<li>4.83333333333333</li>\n",
       "\t<li>5</li>\n",
       "</ol>\n"
      ],
      "text/latex": [
       "\\begin{enumerate*}\n",
       "\\item 1\n",
       "\\item 1.16666666666667\n",
       "\\item 1.33333333333333\n",
       "\\item 1.5\n",
       "\\item 1.66666666666667\n",
       "\\item 1.83333333333333\n",
       "\\item 2\n",
       "\\item 2.16666666666667\n",
       "\\item 2.33333333333333\n",
       "\\item 2.5\n",
       "\\item 2.66666666666667\n",
       "\\item 2.83333333333333\n",
       "\\item 3\n",
       "\\item 3.16666666666667\n",
       "\\item 3.33333333333333\n",
       "\\item 3.5\n",
       "\\item 3.66666666666667\n",
       "\\item 3.83333333333333\n",
       "\\item 4\n",
       "\\item 4.16666666666667\n",
       "\\item 4.33333333333333\n",
       "\\item 4.5\n",
       "\\item 4.66666666666667\n",
       "\\item 4.83333333333333\n",
       "\\item 5\n",
       "\\end{enumerate*}\n"
      ],
      "text/markdown": [
       "1. 1\n",
       "2. 1.16666666666667\n",
       "3. 1.33333333333333\n",
       "4. 1.5\n",
       "5. 1.66666666666667\n",
       "6. 1.83333333333333\n",
       "7. 2\n",
       "8. 2.16666666666667\n",
       "9. 2.33333333333333\n",
       "10. 2.5\n",
       "11. 2.66666666666667\n",
       "12. 2.83333333333333\n",
       "13. 3\n",
       "14. 3.16666666666667\n",
       "15. 3.33333333333333\n",
       "16. 3.5\n",
       "17. 3.66666666666667\n",
       "18. 3.83333333333333\n",
       "19. 4\n",
       "20. 4.16666666666667\n",
       "21. 4.33333333333333\n",
       "22. 4.5\n",
       "23. 4.66666666666667\n",
       "24. 4.83333333333333\n",
       "25. 5\n",
       "\n",
       "\n"
      ],
      "text/plain": [
       " [1] 1.000000 1.166667 1.333333 1.500000 1.666667 1.833333 2.000000 2.166667\n",
       " [9] 2.333333 2.500000 2.666667 2.833333 3.000000 3.166667 3.333333 3.500000\n",
       "[17] 3.666667 3.833333 4.000000 4.166667 4.333333 4.500000 4.666667 4.833333\n",
       "[25] 5.000000"
      ]
     },
     "metadata": {},
     "output_type": "display_data"
    }
   ],
   "source": [
    "# length.out sequence:\n",
    "seq(from=1,to=5, length.out=25)"
   ]
  },
  {
   "cell_type": "code",
   "execution_count": null,
   "id": "38ed131f",
   "metadata": {},
   "outputs": [],
   "source": []
  },
  {
   "cell_type": "code",
   "execution_count": null,
   "id": "2e5f13c0",
   "metadata": {},
   "outputs": [],
   "source": [
    "                                            ★━━━━━━━━━━━━━━━━━━━━★"
   ]
  },
  {
   "cell_type": "code",
   "execution_count": 20,
   "id": "c6898d99",
   "metadata": {},
   "outputs": [],
   "source": [
    "mark=c(1,2,3,4,5,6,7,8,9,5,4,6,7,2,4)"
   ]
  },
  {
   "cell_type": "code",
   "execution_count": 21,
   "id": "f78de6f2",
   "metadata": {},
   "outputs": [
    {
     "data": {
      "text/html": [
       "<ol class=list-inline>\n",
       "\t<li>1</li>\n",
       "\t<li>2</li>\n",
       "\t<li>3</li>\n",
       "\t<li>4</li>\n",
       "\t<li>5</li>\n",
       "\t<li>6</li>\n",
       "\t<li>7</li>\n",
       "\t<li>8</li>\n",
       "\t<li>9</li>\n",
       "\t<li>5</li>\n",
       "\t<li>4</li>\n",
       "\t<li>6</li>\n",
       "\t<li>7</li>\n",
       "\t<li>2</li>\n",
       "\t<li>4</li>\n",
       "</ol>\n"
      ],
      "text/latex": [
       "\\begin{enumerate*}\n",
       "\\item 1\n",
       "\\item 2\n",
       "\\item 3\n",
       "\\item 4\n",
       "\\item 5\n",
       "\\item 6\n",
       "\\item 7\n",
       "\\item 8\n",
       "\\item 9\n",
       "\\item 5\n",
       "\\item 4\n",
       "\\item 6\n",
       "\\item 7\n",
       "\\item 2\n",
       "\\item 4\n",
       "\\end{enumerate*}\n"
      ],
      "text/markdown": [
       "1. 1\n",
       "2. 2\n",
       "3. 3\n",
       "4. 4\n",
       "5. 5\n",
       "6. 6\n",
       "7. 7\n",
       "8. 8\n",
       "9. 9\n",
       "10. 5\n",
       "11. 4\n",
       "12. 6\n",
       "13. 7\n",
       "14. 2\n",
       "15. 4\n",
       "\n",
       "\n"
      ],
      "text/plain": [
       " [1] 1 2 3 4 5 6 7 8 9 5 4 6 7 2 4"
      ]
     },
     "metadata": {},
     "output_type": "display_data"
    }
   ],
   "source": [
    "mark"
   ]
  },
  {
   "cell_type": "code",
   "execution_count": 22,
   "id": "ab02c97c",
   "metadata": {},
   "outputs": [
    {
     "name": "stdout",
     "output_type": "stream",
     "text": [
      "[1] \"The Mark 2 count is:  2\"\n"
     ]
    }
   ],
   "source": [
    "print(paste(\"The Mark 2 count is: \", sum(mark==2)))"
   ]
  },
  {
   "cell_type": "code",
   "execution_count": 23,
   "id": "891dd68c",
   "metadata": {},
   "outputs": [
    {
     "data": {
      "text/html": [
       "<ol class=list-inline>\n",
       "\t<li>'java'</li>\n",
       "\t<li>'python'</li>\n",
       "\t<li>'r'</li>\n",
       "\t<li>'Data'</li>\n",
       "\t<li>'python'</li>\n",
       "</ol>\n"
      ],
      "text/latex": [
       "\\begin{enumerate*}\n",
       "\\item 'java'\n",
       "\\item 'python'\n",
       "\\item 'r'\n",
       "\\item 'Data'\n",
       "\\item 'python'\n",
       "\\end{enumerate*}\n"
      ],
      "text/markdown": [
       "1. 'java'\n",
       "2. 'python'\n",
       "3. 'r'\n",
       "4. 'Data'\n",
       "5. 'python'\n",
       "\n",
       "\n"
      ],
      "text/plain": [
       "[1] \"java\"   \"python\" \"r\"      \"Data\"   \"python\""
      ]
     },
     "metadata": {},
     "output_type": "display_data"
    }
   ],
   "source": [
    "sub=c(\"java\",\"python\", \"r\", \"Data\", \"python\")\n",
    "sub"
   ]
  },
  {
   "cell_type": "code",
   "execution_count": 24,
   "id": "539a3d22",
   "metadata": {},
   "outputs": [
    {
     "name": "stdout",
     "output_type": "stream",
     "text": [
      "Enter your favourite language:python\n"
     ]
    }
   ],
   "source": [
    "a=readline(\"Enter your favourite language:\")"
   ]
  },
  {
   "cell_type": "code",
   "execution_count": 25,
   "id": "6841e3ab",
   "metadata": {},
   "outputs": [
    {
     "name": "stdout",
     "output_type": "stream",
     "text": [
      "[1] \"Your favourite language repeated 2 times\"\n"
     ]
    }
   ],
   "source": [
    "print(paste(\"Your favourite language repeated\",sum(sub==a),\"times\"))"
   ]
  },
  {
   "cell_type": "code",
   "execution_count": null,
   "id": "39a1ca4c",
   "metadata": {},
   "outputs": [],
   "source": [
    "UNIQUE VALUES:"
   ]
  },
  {
   "cell_type": "code",
   "execution_count": 26,
   "id": "396a77be",
   "metadata": {},
   "outputs": [
    {
     "data": {
      "text/html": [
       "<ol class=list-inline>\n",
       "\t<li>1</li>\n",
       "\t<li>2</li>\n",
       "\t<li>3</li>\n",
       "\t<li>4</li>\n",
       "\t<li>5</li>\n",
       "\t<li>6</li>\n",
       "\t<li>7</li>\n",
       "\t<li>8</li>\n",
       "\t<li>9</li>\n",
       "\t<li>5</li>\n",
       "\t<li>4</li>\n",
       "\t<li>6</li>\n",
       "\t<li>7</li>\n",
       "\t<li>2</li>\n",
       "\t<li>4</li>\n",
       "</ol>\n"
      ],
      "text/latex": [
       "\\begin{enumerate*}\n",
       "\\item 1\n",
       "\\item 2\n",
       "\\item 3\n",
       "\\item 4\n",
       "\\item 5\n",
       "\\item 6\n",
       "\\item 7\n",
       "\\item 8\n",
       "\\item 9\n",
       "\\item 5\n",
       "\\item 4\n",
       "\\item 6\n",
       "\\item 7\n",
       "\\item 2\n",
       "\\item 4\n",
       "\\end{enumerate*}\n"
      ],
      "text/markdown": [
       "1. 1\n",
       "2. 2\n",
       "3. 3\n",
       "4. 4\n",
       "5. 5\n",
       "6. 6\n",
       "7. 7\n",
       "8. 8\n",
       "9. 9\n",
       "10. 5\n",
       "11. 4\n",
       "12. 6\n",
       "13. 7\n",
       "14. 2\n",
       "15. 4\n",
       "\n",
       "\n"
      ],
      "text/plain": [
       " [1] 1 2 3 4 5 6 7 8 9 5 4 6 7 2 4"
      ]
     },
     "metadata": {},
     "output_type": "display_data"
    }
   ],
   "source": [
    "mark"
   ]
  },
  {
   "cell_type": "code",
   "execution_count": 27,
   "id": "a66225e6",
   "metadata": {},
   "outputs": [
    {
     "data": {
      "text/html": [
       "<ol class=list-inline>\n",
       "\t<li>1</li>\n",
       "\t<li>2</li>\n",
       "\t<li>3</li>\n",
       "\t<li>4</li>\n",
       "\t<li>5</li>\n",
       "\t<li>6</li>\n",
       "\t<li>7</li>\n",
       "\t<li>8</li>\n",
       "\t<li>9</li>\n",
       "</ol>\n"
      ],
      "text/latex": [
       "\\begin{enumerate*}\n",
       "\\item 1\n",
       "\\item 2\n",
       "\\item 3\n",
       "\\item 4\n",
       "\\item 5\n",
       "\\item 6\n",
       "\\item 7\n",
       "\\item 8\n",
       "\\item 9\n",
       "\\end{enumerate*}\n"
      ],
      "text/markdown": [
       "1. 1\n",
       "2. 2\n",
       "3. 3\n",
       "4. 4\n",
       "5. 5\n",
       "6. 6\n",
       "7. 7\n",
       "8. 8\n",
       "9. 9\n",
       "\n",
       "\n"
      ],
      "text/plain": [
       "[1] 1 2 3 4 5 6 7 8 9"
      ]
     },
     "metadata": {},
     "output_type": "display_data"
    }
   ],
   "source": [
    "unique(mark)"
   ]
  },
  {
   "cell_type": "code",
   "execution_count": null,
   "id": "1e9bc97c",
   "metadata": {},
   "outputs": [],
   "source": [
    "                                             ★━━━━━━━━━━━━━━━━━━━━★"
   ]
  },
  {
   "cell_type": "code",
   "execution_count": 29,
   "id": "0779fa0a",
   "metadata": {},
   "outputs": [],
   "source": [
    "# SET DIFFERENCE VALUES A-B\n",
    "AIMLmark=c(10,22,34,45,6,34,53,89)\n",
    "CYBERmark=c(15,60,45,36,48,48,21,24)"
   ]
  },
  {
   "cell_type": "code",
   "execution_count": 30,
   "id": "2743d059",
   "metadata": {},
   "outputs": [
    {
     "data": {
      "text/html": [
       "<ol class=list-inline>\n",
       "\t<li>10</li>\n",
       "\t<li>22</li>\n",
       "\t<li>34</li>\n",
       "\t<li>6</li>\n",
       "\t<li>53</li>\n",
       "\t<li>89</li>\n",
       "</ol>\n"
      ],
      "text/latex": [
       "\\begin{enumerate*}\n",
       "\\item 10\n",
       "\\item 22\n",
       "\\item 34\n",
       "\\item 6\n",
       "\\item 53\n",
       "\\item 89\n",
       "\\end{enumerate*}\n"
      ],
      "text/markdown": [
       "1. 10\n",
       "2. 22\n",
       "3. 34\n",
       "4. 6\n",
       "5. 53\n",
       "6. 89\n",
       "\n",
       "\n"
      ],
      "text/plain": [
       "[1] 10 22 34  6 53 89"
      ]
     },
     "metadata": {},
     "output_type": "display_data"
    }
   ],
   "source": [
    "setdiff(AIMLmark,CYBERmark)"
   ]
  },
  {
   "cell_type": "code",
   "execution_count": 31,
   "id": "9367308f",
   "metadata": {},
   "outputs": [
    {
     "data": {
      "text/html": [
       "<ol class=list-inline>\n",
       "\t<li>15</li>\n",
       "\t<li>60</li>\n",
       "\t<li>36</li>\n",
       "\t<li>48</li>\n",
       "\t<li>21</li>\n",
       "\t<li>24</li>\n",
       "</ol>\n"
      ],
      "text/latex": [
       "\\begin{enumerate*}\n",
       "\\item 15\n",
       "\\item 60\n",
       "\\item 36\n",
       "\\item 48\n",
       "\\item 21\n",
       "\\item 24\n",
       "\\end{enumerate*}\n"
      ],
      "text/markdown": [
       "1. 15\n",
       "2. 60\n",
       "3. 36\n",
       "4. 48\n",
       "5. 21\n",
       "6. 24\n",
       "\n",
       "\n"
      ],
      "text/plain": [
       "[1] 15 60 36 48 21 24"
      ]
     },
     "metadata": {},
     "output_type": "display_data"
    }
   ],
   "source": [
    "setdiff(CYBERmark,AIMLmark)"
   ]
  },
  {
   "cell_type": "code",
   "execution_count": null,
   "id": "6381fdaa",
   "metadata": {},
   "outputs": [],
   "source": [
    "                                             ★━━━━━━━━━━━━━━━━━━━━★"
   ]
  },
  {
   "cell_type": "markdown",
   "id": "9e5ad6cf",
   "metadata": {},
   "source": [
    "# GETTING MULTIPLE VALUES FROM THE USER (OR) TO EXECUTE THE VALUES MANY NUMBER OF TIMES"
   ]
  },
  {
   "cell_type": "code",
   "execution_count": 33,
   "id": "700fc48f",
   "metadata": {},
   "outputs": [
    {
     "name": "stdout",
     "output_type": "stream",
     "text": [
      "Enter the number: 5\n",
      "Enter the element 1 :45\n",
      "Enter the element 2 :65\n",
      "Enter the element 3 :78\n",
      "Enter the element 4 :25\n",
      "Enter the element 5 :15\n"
     ]
    }
   ],
   "source": [
    "element=c()\n",
    "total=as.integer(readline(\"Enter the number: \"))\n",
    "for(i in seq(total))\n",
    "    {\n",
    "       element[i]=as.numeric(readline(paste(\"Enter the element\",i,\":\")))\n",
    "}"
   ]
  },
  {
   "cell_type": "code",
   "execution_count": 34,
   "id": "fa7010c4",
   "metadata": {},
   "outputs": [
    {
     "data": {
      "text/html": [
       "<ol class=list-inline>\n",
       "\t<li>45</li>\n",
       "\t<li>65</li>\n",
       "\t<li>78</li>\n",
       "\t<li>25</li>\n",
       "\t<li>15</li>\n",
       "</ol>\n"
      ],
      "text/latex": [
       "\\begin{enumerate*}\n",
       "\\item 45\n",
       "\\item 65\n",
       "\\item 78\n",
       "\\item 25\n",
       "\\item 15\n",
       "\\end{enumerate*}\n"
      ],
      "text/markdown": [
       "1. 45\n",
       "2. 65\n",
       "3. 78\n",
       "4. 25\n",
       "5. 15\n",
       "\n",
       "\n"
      ],
      "text/plain": [
       "[1] 45 65 78 25 15"
      ]
     },
     "metadata": {},
     "output_type": "display_data"
    }
   ],
   "source": [
    "element"
   ]
  },
  {
   "cell_type": "code",
   "execution_count": 35,
   "id": "6d07d71c",
   "metadata": {},
   "outputs": [
    {
     "data": {
      "text/html": [
       "<ol class=list-inline>\n",
       "\t<li>15</li>\n",
       "\t<li>25</li>\n",
       "\t<li>45</li>\n",
       "\t<li>65</li>\n",
       "\t<li>78</li>\n",
       "</ol>\n"
      ],
      "text/latex": [
       "\\begin{enumerate*}\n",
       "\\item 15\n",
       "\\item 25\n",
       "\\item 45\n",
       "\\item 65\n",
       "\\item 78\n",
       "\\end{enumerate*}\n"
      ],
      "text/markdown": [
       "1. 15\n",
       "2. 25\n",
       "3. 45\n",
       "4. 65\n",
       "5. 78\n",
       "\n",
       "\n"
      ],
      "text/plain": [
       "[1] 15 25 45 65 78"
      ]
     },
     "metadata": {},
     "output_type": "display_data"
    }
   ],
   "source": [
    "sort(element)"
   ]
  },
  {
   "cell_type": "code",
   "execution_count": 36,
   "id": "5b8dab4e",
   "metadata": {},
   "outputs": [
    {
     "data": {
      "text/html": [
       "<ol class=list-inline>\n",
       "\t<li>78</li>\n",
       "\t<li>65</li>\n",
       "\t<li>45</li>\n",
       "\t<li>25</li>\n",
       "\t<li>15</li>\n",
       "</ol>\n"
      ],
      "text/latex": [
       "\\begin{enumerate*}\n",
       "\\item 78\n",
       "\\item 65\n",
       "\\item 45\n",
       "\\item 25\n",
       "\\item 15\n",
       "\\end{enumerate*}\n"
      ],
      "text/markdown": [
       "1. 78\n",
       "2. 65\n",
       "3. 45\n",
       "4. 25\n",
       "5. 15\n",
       "\n",
       "\n"
      ],
      "text/plain": [
       "[1] 78 65 45 25 15"
      ]
     },
     "metadata": {},
     "output_type": "display_data"
    }
   ],
   "source": [
    "sort(element,TRUE)"
   ]
  },
  {
   "cell_type": "raw",
   "id": "9228d58f",
   "metadata": {},
   "source": [
    "                                             ★━━━━━━━━━━━━━━━━━━━━★"
   ]
  },
  {
   "cell_type": "markdown",
   "id": "c2b1eca9",
   "metadata": {},
   "source": [
    "ARRAY\n",
    "      --> n dimentional"
   ]
  },
  {
   "cell_type": "code",
   "execution_count": 37,
   "id": "d5cf1a87",
   "metadata": {},
   "outputs": [
    {
     "data": {
      "text/html": [
       "<table>\n",
       "<tbody>\n",
       "\t<tr><td>1</td><td>4</td><td>7</td></tr>\n",
       "\t<tr><td>2</td><td>5</td><td>8</td></tr>\n",
       "\t<tr><td>3</td><td>6</td><td>9</td></tr>\n",
       "</tbody>\n",
       "</table>\n"
      ],
      "text/latex": [
       "\\begin{tabular}{lll}\n",
       "\t 1 & 4 & 7\\\\\n",
       "\t 2 & 5 & 8\\\\\n",
       "\t 3 & 6 & 9\\\\\n",
       "\\end{tabular}\n"
      ],
      "text/markdown": [
       "\n",
       "| 1 | 4 | 7 |\n",
       "| 2 | 5 | 8 |\n",
       "| 3 | 6 | 9 |\n",
       "\n"
      ],
      "text/plain": [
       "     [,1] [,2] [,3]\n",
       "[1,] 1    4    7   \n",
       "[2,] 2    5    8   \n",
       "[3,] 3    6    9   "
      ]
     },
     "metadata": {},
     "output_type": "display_data"
    }
   ],
   "source": [
    "array(c(1,2,3,4,5,6,7,8,9), dim=c(3,3))"
   ]
  },
  {
   "cell_type": "markdown",
   "id": "2d9a23d4",
   "metadata": {},
   "source": [
    "# Create a array 2 (3x3) matrix each with 3 rows and 3 columns using two given vectors:"
   ]
  },
  {
   "cell_type": "code",
   "execution_count": 38,
   "id": "84977288",
   "metadata": {},
   "outputs": [],
   "source": [
    "v1=c(1,2,3,4)\n",
    "v2=c(45,56,87,29,34,459,5667,459)"
   ]
  },
  {
   "cell_type": "code",
   "execution_count": 39,
   "id": "0dad195b",
   "metadata": {},
   "outputs": [
    {
     "name": "stdout",
     "output_type": "stream",
     "text": [
      ", , 1\n",
      "\n",
      "     [,1] [,2] [,3]\n",
      "[1,]    1    4   87\n",
      "[2,]    2   45   29\n",
      "[3,]    3   56   34\n",
      "\n",
      ", , 2\n",
      "\n",
      "     [,1] [,2] [,3]\n",
      "[1,]  459    1    4\n",
      "[2,] 5667    2   45\n",
      "[3,]  459    3   56\n",
      "\n"
     ]
    }
   ],
   "source": [
    "mat=array(c(v1,v2), dim=c(3,3,2))\n",
    "print(mat)"
   ]
  },
  {
   "cell_type": "markdown",
   "id": "97e3819e",
   "metadata": {},
   "source": [
    "# For creating 3 matrix with the dimension 3x3:"
   ]
  },
  {
   "cell_type": "code",
   "execution_count": 41,
   "id": "e08c6b6e",
   "metadata": {},
   "outputs": [
    {
     "name": "stdout",
     "output_type": "stream",
     "text": [
      ", , 1\n",
      "\n",
      "     [,1] [,2] [,3]\n",
      "[1,]    1    4   87\n",
      "[2,]    2   45   29\n",
      "[3,]    3   56   34\n",
      "\n",
      ", , 2\n",
      "\n",
      "     [,1] [,2] [,3]\n",
      "[1,]  459    1    4\n",
      "[2,] 5667    2   45\n",
      "[3,]  459    3   56\n",
      "\n",
      ", , 3\n",
      "\n",
      "     [,1] [,2] [,3]\n",
      "[1,]   87  459    1\n",
      "[2,]   29 5667    2\n",
      "[3,]   34  459    3\n",
      "\n"
     ]
    }
   ],
   "source": [
    "mat=array(c(v1,v2), dim=c(3,3,3))\n",
    "print(mat)"
   ]
  },
  {
   "cell_type": "markdown",
   "id": "187d74cf",
   "metadata": {},
   "source": [
    "# Print the second row of the second matrix of an array"
   ]
  },
  {
   "cell_type": "code",
   "execution_count": 42,
   "id": "9fe111b3",
   "metadata": {},
   "outputs": [
    {
     "data": {
      "text/html": [
       "<ol class=list-inline>\n",
       "\t<li>5667</li>\n",
       "\t<li>2</li>\n",
       "\t<li>45</li>\n",
       "</ol>\n"
      ],
      "text/latex": [
       "\\begin{enumerate*}\n",
       "\\item 5667\n",
       "\\item 2\n",
       "\\item 45\n",
       "\\end{enumerate*}\n"
      ],
      "text/markdown": [
       "1. 5667\n",
       "2. 2\n",
       "3. 45\n",
       "\n",
       "\n"
      ],
      "text/plain": [
       "[1] 5667    2   45"
      ]
     },
     "metadata": {},
     "output_type": "display_data"
    }
   ],
   "source": [
    "mat[2,,2] # mat[row, column, matrix no.]"
   ]
  },
  {
   "cell_type": "markdown",
   "id": "5c62eb9b",
   "metadata": {},
   "source": [
    "# Print the third row of third column of first matrix"
   ]
  },
  {
   "cell_type": "code",
   "execution_count": 45,
   "id": "b224d5cc",
   "metadata": {},
   "outputs": [
    {
     "data": {
      "text/html": [
       "34"
      ],
      "text/latex": [
       "34"
      ],
      "text/markdown": [
       "34"
      ],
      "text/plain": [
       "[1] 34"
      ]
     },
     "metadata": {},
     "output_type": "display_data"
    }
   ],
   "source": [
    "mat[3,3,1]"
   ]
  },
  {
   "cell_type": "markdown",
   "id": "bbc875c4",
   "metadata": {},
   "source": [
    "# Write a R program to create a 2 dimensional 5x3 array of sequence of even integers greater than 50"
   ]
  },
  {
   "cell_type": "code",
   "execution_count": 46,
   "id": "8c084ee8",
   "metadata": {},
   "outputs": [
    {
     "data": {
      "text/html": [
       "<table>\n",
       "<tbody>\n",
       "\t<tr><td>50</td><td>60</td><td>70</td></tr>\n",
       "\t<tr><td>52</td><td>62</td><td>72</td></tr>\n",
       "\t<tr><td>54</td><td>64</td><td>74</td></tr>\n",
       "\t<tr><td>56</td><td>66</td><td>76</td></tr>\n",
       "\t<tr><td>58</td><td>68</td><td>78</td></tr>\n",
       "</tbody>\n",
       "</table>\n"
      ],
      "text/latex": [
       "\\begin{tabular}{lll}\n",
       "\t 50 & 60 & 70\\\\\n",
       "\t 52 & 62 & 72\\\\\n",
       "\t 54 & 64 & 74\\\\\n",
       "\t 56 & 66 & 76\\\\\n",
       "\t 58 & 68 & 78\\\\\n",
       "\\end{tabular}\n"
      ],
      "text/markdown": [
       "\n",
       "| 50 | 60 | 70 |\n",
       "| 52 | 62 | 72 |\n",
       "| 54 | 64 | 74 |\n",
       "| 56 | 66 | 76 |\n",
       "| 58 | 68 | 78 |\n",
       "\n"
      ],
      "text/plain": [
       "     [,1] [,2] [,3]\n",
       "[1,] 50   60   70  \n",
       "[2,] 52   62   72  \n",
       "[3,] 54   64   74  \n",
       "[4,] 56   66   76  \n",
       "[5,] 58   68   78  "
      ]
     },
     "metadata": {},
     "output_type": "display_data"
    }
   ],
   "source": [
    "array(seq(from=50,length.out=15,by=2),dim=c(5,3))"
   ]
  },
  {
   "cell_type": "code",
   "execution_count": 47,
   "id": "6b38de01",
   "metadata": {},
   "outputs": [
    {
     "data": {
      "text/html": [
       "<table>\n",
       "<tbody>\n",
       "\t<tr><td>50</td><td>56</td><td>62</td><td>68</td><td>74</td></tr>\n",
       "\t<tr><td>52</td><td>58</td><td>64</td><td>70</td><td>76</td></tr>\n",
       "\t<tr><td>54</td><td>60</td><td>66</td><td>72</td><td>78</td></tr>\n",
       "</tbody>\n",
       "</table>\n"
      ],
      "text/latex": [
       "\\begin{tabular}{lllll}\n",
       "\t 50 & 56 & 62 & 68 & 74\\\\\n",
       "\t 52 & 58 & 64 & 70 & 76\\\\\n",
       "\t 54 & 60 & 66 & 72 & 78\\\\\n",
       "\\end{tabular}\n"
      ],
      "text/markdown": [
       "\n",
       "| 50 | 56 | 62 | 68 | 74 |\n",
       "| 52 | 58 | 64 | 70 | 76 |\n",
       "| 54 | 60 | 66 | 72 | 78 |\n",
       "\n"
      ],
      "text/plain": [
       "     [,1] [,2] [,3] [,4] [,5]\n",
       "[1,] 50   56   62   68   74  \n",
       "[2,] 52   58   64   70   76  \n",
       "[3,] 54   60   66   72   78  "
      ]
     },
     "metadata": {},
     "output_type": "display_data"
    }
   ],
   "source": [
    "# ROUGH:\n",
    "array(seq(from=50,length.out=15,by=2),dim=c(3,5))"
   ]
  },
  {
   "cell_type": "code",
   "execution_count": null,
   "id": "846f4f3a",
   "metadata": {},
   "outputs": [],
   "source": [
    "                                             ★━━━━━━━━━━━━━━━━━━━━★"
   ]
  },
  {
   "cell_type": "markdown",
   "id": "4b572213",
   "metadata": {},
   "source": [
    "# MATRIX:"
   ]
  },
  {
   "cell_type": "code",
   "execution_count": null,
   "id": "85f37a6d",
   "metadata": {},
   "outputs": [],
   "source": [
    "# syntax\n",
    "# matrix(c(), nrow=, ncol=)"
   ]
  },
  {
   "cell_type": "code",
   "execution_count": 51,
   "id": "ebcd6bd0",
   "metadata": {},
   "outputs": [
    {
     "data": {
      "text/html": [
       "<table>\n",
       "<tbody>\n",
       "\t<tr><td>1 </td><td>5 </td><td> 9</td><td>13</td></tr>\n",
       "\t<tr><td>2 </td><td>6 </td><td>10</td><td>14</td></tr>\n",
       "\t<tr><td>3 </td><td>7 </td><td>11</td><td>15</td></tr>\n",
       "\t<tr><td>4 </td><td>8 </td><td>12</td><td>16</td></tr>\n",
       "</tbody>\n",
       "</table>\n"
      ],
      "text/latex": [
       "\\begin{tabular}{llll}\n",
       "\t 1  & 5  &  9 & 13\\\\\n",
       "\t 2  & 6  & 10 & 14\\\\\n",
       "\t 3  & 7  & 11 & 15\\\\\n",
       "\t 4  & 8  & 12 & 16\\\\\n",
       "\\end{tabular}\n"
      ],
      "text/markdown": [
       "\n",
       "| 1  | 5  |  9 | 13 |\n",
       "| 2  | 6  | 10 | 14 |\n",
       "| 3  | 7  | 11 | 15 |\n",
       "| 4  | 8  | 12 | 16 |\n",
       "\n"
      ],
      "text/plain": [
       "     [,1] [,2] [,3] [,4]\n",
       "[1,] 1    5     9   13  \n",
       "[2,] 2    6    10   14  \n",
       "[3,] 3    7    11   15  \n",
       "[4,] 4    8    12   16  "
      ]
     },
     "metadata": {},
     "output_type": "display_data"
    }
   ],
   "source": [
    "matrix(c(1:16), nrow=4, ncol=4)"
   ]
  },
  {
   "cell_type": "code",
   "execution_count": 52,
   "id": "1f3615c8",
   "metadata": {},
   "outputs": [
    {
     "data": {
      "text/html": [
       "<table>\n",
       "<tbody>\n",
       "\t<tr><td> 1</td><td> 2</td><td> 3</td><td> 4</td></tr>\n",
       "\t<tr><td> 5</td><td> 6</td><td> 7</td><td> 8</td></tr>\n",
       "\t<tr><td> 9</td><td>10</td><td>11</td><td>12</td></tr>\n",
       "\t<tr><td>13</td><td>14</td><td>15</td><td>16</td></tr>\n",
       "</tbody>\n",
       "</table>\n"
      ],
      "text/latex": [
       "\\begin{tabular}{llll}\n",
       "\t  1 &  2 &  3 &  4\\\\\n",
       "\t  5 &  6 &  7 &  8\\\\\n",
       "\t  9 & 10 & 11 & 12\\\\\n",
       "\t 13 & 14 & 15 & 16\\\\\n",
       "\\end{tabular}\n"
      ],
      "text/markdown": [
       "\n",
       "|  1 |  2 |  3 |  4 |\n",
       "|  5 |  6 |  7 |  8 |\n",
       "|  9 | 10 | 11 | 12 |\n",
       "| 13 | 14 | 15 | 16 |\n",
       "\n"
      ],
      "text/plain": [
       "     [,1] [,2] [,3] [,4]\n",
       "[1,]  1    2    3    4  \n",
       "[2,]  5    6    7    8  \n",
       "[3,]  9   10   11   12  \n",
       "[4,] 13   14   15   16  "
      ]
     },
     "metadata": {},
     "output_type": "display_data"
    }
   ],
   "source": [
    "# byrow function is used for passing the values by rows instead of column wise:\n",
    "matrix(c(1:16), nrow=4, ncol=4, byrow=TRUE)"
   ]
  },
  {
   "cell_type": "markdown",
   "id": "2598f7f4",
   "metadata": {},
   "source": [
    "# Matrix with the given values"
   ]
  },
  {
   "cell_type": "code",
   "execution_count": 59,
   "id": "cf690131",
   "metadata": {},
   "outputs": [
    {
     "data": {
      "text/html": [
       "<table>\n",
       "<thead><tr><th></th><th scope=col>c1</th><th scope=col>c2</th><th scope=col>c3</th><th scope=col>c4</th></tr></thead>\n",
       "<tbody>\n",
       "\t<tr><th scope=row>r1</th><td> 1</td><td> 2</td><td> 3</td><td> 4</td></tr>\n",
       "\t<tr><th scope=row>r2</th><td> 5</td><td> 6</td><td> 7</td><td> 8</td></tr>\n",
       "\t<tr><th scope=row>r3</th><td> 9</td><td>10</td><td>11</td><td>12</td></tr>\n",
       "\t<tr><th scope=row>r4</th><td>13</td><td>14</td><td>15</td><td>16</td></tr>\n",
       "</tbody>\n",
       "</table>\n"
      ],
      "text/latex": [
       "\\begin{tabular}{r|llll}\n",
       "  & c1 & c2 & c3 & c4\\\\\n",
       "\\hline\n",
       "\tr1 &  1 &  2 &  3 &  4\\\\\n",
       "\tr2 &  5 &  6 &  7 &  8\\\\\n",
       "\tr3 &  9 & 10 & 11 & 12\\\\\n",
       "\tr4 & 13 & 14 & 15 & 16\\\\\n",
       "\\end{tabular}\n"
      ],
      "text/markdown": [
       "\n",
       "| <!--/--> | c1 | c2 | c3 | c4 |\n",
       "|---|---|---|---|---|\n",
       "| r1 |  1 |  2 |  3 |  4 |\n",
       "| r2 |  5 |  6 |  7 |  8 |\n",
       "| r3 |  9 | 10 | 11 | 12 |\n",
       "| r4 | 13 | 14 | 15 | 16 |\n",
       "\n"
      ],
      "text/plain": [
       "   c1 c2 c3 c4\n",
       "r1  1  2  3  4\n",
       "r2  5  6  7  8\n",
       "r3  9 10 11 12\n",
       "r4 13 14 15 16"
      ]
     },
     "metadata": {},
     "output_type": "display_data"
    }
   ],
   "source": [
    "rname=c(\"r1\",\"r2\",\"r3\",\"r4\")\n",
    "cname=c(\"c1\",\"c2\",\"c3\",\"c4\")\n",
    "a=matrix(c(1:16), nrow=4, ncol=4, byrow=TRUE, dimnames=list(rname,cname))\n",
    "a"
   ]
  },
  {
   "cell_type": "code",
   "execution_count": 60,
   "id": "eac6588a",
   "metadata": {},
   "outputs": [
    {
     "data": {
      "text/html": [
       "5"
      ],
      "text/latex": [
       "5"
      ],
      "text/markdown": [
       "5"
      ],
      "text/plain": [
       "[1] 5"
      ]
     },
     "metadata": {},
     "output_type": "display_data"
    }
   ],
   "source": [
    "# accessing the element in the matrix:\n",
    "a[2]"
   ]
  },
  {
   "cell_type": "code",
   "execution_count": 61,
   "id": "0788adbd",
   "metadata": {},
   "outputs": [
    {
     "data": {
      "text/html": [
       "6"
      ],
      "text/latex": [
       "6"
      ],
      "text/markdown": [
       "6"
      ],
      "text/plain": [
       "[1] 6"
      ]
     },
     "metadata": {},
     "output_type": "display_data"
    }
   ],
   "source": [
    "a[2,2]"
   ]
  },
  {
   "cell_type": "code",
   "execution_count": 62,
   "id": "6df24ee4",
   "metadata": {},
   "outputs": [
    {
     "data": {
      "text/html": [
       "<dl class=dl-horizontal>\n",
       "\t<dt>r1</dt>\n",
       "\t\t<dd>2</dd>\n",
       "\t<dt>r2</dt>\n",
       "\t\t<dd>6</dd>\n",
       "\t<dt>r3</dt>\n",
       "\t\t<dd>10</dd>\n",
       "\t<dt>r4</dt>\n",
       "\t\t<dd>14</dd>\n",
       "</dl>\n"
      ],
      "text/latex": [
       "\\begin{description*}\n",
       "\\item[r1] 2\n",
       "\\item[r2] 6\n",
       "\\item[r3] 10\n",
       "\\item[r4] 14\n",
       "\\end{description*}\n"
      ],
      "text/markdown": [
       "r1\n",
       ":   2r2\n",
       ":   6r3\n",
       ":   10r4\n",
       ":   14\n",
       "\n"
      ],
      "text/plain": [
       "r1 r2 r3 r4 \n",
       " 2  6 10 14 "
      ]
     },
     "metadata": {},
     "output_type": "display_data"
    }
   ],
   "source": [
    "#displaying second column\n",
    "a[,2] "
   ]
  },
  {
   "cell_type": "code",
   "execution_count": 63,
   "id": "8058ce68",
   "metadata": {},
   "outputs": [
    {
     "data": {
      "text/html": [
       "<dl class=dl-horizontal>\n",
       "\t<dt>c1</dt>\n",
       "\t\t<dd>5</dd>\n",
       "\t<dt>c2</dt>\n",
       "\t\t<dd>6</dd>\n",
       "\t<dt>c3</dt>\n",
       "\t\t<dd>7</dd>\n",
       "\t<dt>c4</dt>\n",
       "\t\t<dd>8</dd>\n",
       "</dl>\n"
      ],
      "text/latex": [
       "\\begin{description*}\n",
       "\\item[c1] 5\n",
       "\\item[c2] 6\n",
       "\\item[c3] 7\n",
       "\\item[c4] 8\n",
       "\\end{description*}\n"
      ],
      "text/markdown": [
       "c1\n",
       ":   5c2\n",
       ":   6c3\n",
       ":   7c4\n",
       ":   8\n",
       "\n"
      ],
      "text/plain": [
       "c1 c2 c3 c4 \n",
       " 5  6  7  8 "
      ]
     },
     "metadata": {},
     "output_type": "display_data"
    }
   ],
   "source": [
    "# displaying second row\n",
    "a[2,] "
   ]
  },
  {
   "cell_type": "code",
   "execution_count": null,
   "id": "2b32d593",
   "metadata": {},
   "outputs": [],
   "source": [
    "                                             ★━━━━━━━━━━━━━━━━━━━━★"
   ]
  },
  {
   "cell_type": "markdown",
   "id": "a9a1bfcd",
   "metadata": {},
   "source": [
    "# FACTOR:"
   ]
  },
  {
   "cell_type": "markdown",
   "id": "6bdde5e6",
   "metadata": {},
   "source": [
    "### It stores the categorical data"
   ]
  },
  {
   "cell_type": "code",
   "execution_count": 64,
   "id": "df336587",
   "metadata": {},
   "outputs": [],
   "source": [
    "a=factor(c(\"Java\",\"Python\",\"Java\", \"Python\", \"R\", \"C\"))"
   ]
  },
  {
   "cell_type": "code",
   "execution_count": 65,
   "id": "3028ab60",
   "metadata": {},
   "outputs": [
    {
     "data": {
      "text/html": [
       "<ol class=list-inline>\n",
       "\t<li>Java</li>\n",
       "\t<li>Python</li>\n",
       "\t<li>Java</li>\n",
       "\t<li>Python</li>\n",
       "\t<li>R</li>\n",
       "\t<li>C</li>\n",
       "</ol>\n",
       "\n",
       "<details>\n",
       "\t<summary style=display:list-item;cursor:pointer>\n",
       "\t\t<strong>Levels</strong>:\n",
       "\t</summary>\n",
       "\t<ol class=list-inline>\n",
       "\t\t<li>'C'</li>\n",
       "\t\t<li>'Java'</li>\n",
       "\t\t<li>'Python'</li>\n",
       "\t\t<li>'R'</li>\n",
       "\t</ol>\n",
       "</details>"
      ],
      "text/latex": [
       "\\begin{enumerate*}\n",
       "\\item Java\n",
       "\\item Python\n",
       "\\item Java\n",
       "\\item Python\n",
       "\\item R\n",
       "\\item C\n",
       "\\end{enumerate*}\n",
       "\n",
       "\\emph{Levels}: \\begin{enumerate*}\n",
       "\\item 'C'\n",
       "\\item 'Java'\n",
       "\\item 'Python'\n",
       "\\item 'R'\n",
       "\\end{enumerate*}\n"
      ],
      "text/markdown": [
       "1. Java\n",
       "2. Python\n",
       "3. Java\n",
       "4. Python\n",
       "5. R\n",
       "6. C\n",
       "\n",
       "\n",
       "\n",
       "**Levels**: 1. 'C'\n",
       "2. 'Java'\n",
       "3. 'Python'\n",
       "4. 'R'\n",
       "\n",
       "\n"
      ],
      "text/plain": [
       "[1] Java   Python Java   Python R      C     \n",
       "Levels: C Java Python R"
      ]
     },
     "metadata": {},
     "output_type": "display_data"
    }
   ],
   "source": [
    "a"
   ]
  },
  {
   "cell_type": "code",
   "execution_count": 66,
   "id": "5e7485c9",
   "metadata": {},
   "outputs": [
    {
     "data": {
      "text/plain": [
       "a\n",
       "     C   Java Python      R \n",
       "     1      2      2      1 "
      ]
     },
     "metadata": {},
     "output_type": "display_data"
    }
   ],
   "source": [
    "table(a) #gives the count of each value in a tabular form"
   ]
  },
  {
   "cell_type": "code",
   "execution_count": 67,
   "id": "6dedde47",
   "metadata": {},
   "outputs": [
    {
     "data": {
      "text/html": [
       "<ol class=list-inline>\n",
       "\t<li>'C'</li>\n",
       "\t<li>'Java'</li>\n",
       "\t<li>'Python'</li>\n",
       "\t<li>'R'</li>\n",
       "</ol>\n"
      ],
      "text/latex": [
       "\\begin{enumerate*}\n",
       "\\item 'C'\n",
       "\\item 'Java'\n",
       "\\item 'Python'\n",
       "\\item 'R'\n",
       "\\end{enumerate*}\n"
      ],
      "text/markdown": [
       "1. 'C'\n",
       "2. 'Java'\n",
       "3. 'Python'\n",
       "4. 'R'\n",
       "\n",
       "\n"
      ],
      "text/plain": [
       "[1] \"C\"      \"Java\"   \"Python\" \"R\"     "
      ]
     },
     "metadata": {},
     "output_type": "display_data"
    }
   ],
   "source": [
    "levels(a) "
   ]
  },
  {
   "cell_type": "markdown",
   "id": "5e524fda",
   "metadata": {},
   "source": [
    "### Get input from user for list:"
   ]
  },
  {
   "cell_type": "code",
   "execution_count": 70,
   "id": "a8ef862b",
   "metadata": {},
   "outputs": [
    {
     "name": "stdout",
     "output_type": "stream",
     "text": [
      "Enter the number: 5\n",
      "Enter the element 1 :12\n",
      "Enter the element 2 :45\n",
      "Enter the element 3 :78\n",
      "Enter the element 4 :6\n",
      "Enter the element 5 :54\n"
     ]
    }
   ],
   "source": [
    "element=list()\n",
    "total=as.integer(readline(\"Enter the number: \"))\n",
    "for(i in seq(total))\n",
    "    {\n",
    "       element[i]=as.numeric(readline(paste(\"Enter the element\",i,\":\")))\n",
    "}"
   ]
  },
  {
   "cell_type": "code",
   "execution_count": 71,
   "id": "75c135df",
   "metadata": {},
   "outputs": [
    {
     "data": {
      "text/html": [
       "<ol>\n",
       "\t<li>12</li>\n",
       "\t<li>45</li>\n",
       "\t<li>78</li>\n",
       "\t<li>6</li>\n",
       "\t<li>54</li>\n",
       "</ol>\n"
      ],
      "text/latex": [
       "\\begin{enumerate}\n",
       "\\item 12\n",
       "\\item 45\n",
       "\\item 78\n",
       "\\item 6\n",
       "\\item 54\n",
       "\\end{enumerate}\n"
      ],
      "text/markdown": [
       "1. 12\n",
       "2. 45\n",
       "3. 78\n",
       "4. 6\n",
       "5. 54\n",
       "\n",
       "\n"
      ],
      "text/plain": [
       "[[1]]\n",
       "[1] 12\n",
       "\n",
       "[[2]]\n",
       "[1] 45\n",
       "\n",
       "[[3]]\n",
       "[1] 78\n",
       "\n",
       "[[4]]\n",
       "[1] 6\n",
       "\n",
       "[[5]]\n",
       "[1] 54\n"
      ]
     },
     "metadata": {},
     "output_type": "display_data"
    }
   ],
   "source": [
    "element"
   ]
  },
  {
   "cell_type": "markdown",
   "id": "0c215afd",
   "metadata": {},
   "source": [
    "# DATAFRAME:"
   ]
  },
  {
   "cell_type": "markdown",
   "id": "955caf65",
   "metadata": {},
   "source": [
    "## --> Table Structure\n",
    "## --> Each Column should contain same no. of data table items"
   ]
  },
  {
   "cell_type": "code",
   "execution_count": 83,
   "id": "c6bf503b",
   "metadata": {},
   "outputs": [],
   "source": [
    "df=data.frame(emp_id=c(1,2,3), \n",
    "              emp_name=c(\"Nanthiesh\",\"Demon\",\"NarutoUzumaki\"), \n",
    "              emp_date=c(\"2004-07-27\", \"1001-01-01\", \"1001-03-01\"), \n",
    "              gender=factor(c(\"M\",\"M\",\"F\")))"
   ]
  },
  {
   "cell_type": "code",
   "execution_count": 84,
   "id": "9e5079a1",
   "metadata": {},
   "outputs": [
    {
     "data": {
      "text/html": [
       "<table>\n",
       "<thead><tr><th scope=col>emp_id</th><th scope=col>emp_name</th><th scope=col>emp_date</th><th scope=col>gender</th></tr></thead>\n",
       "<tbody>\n",
       "\t<tr><td>1            </td><td>Nanthiesh    </td><td>2004-07-27   </td><td>M            </td></tr>\n",
       "\t<tr><td>2            </td><td>Demon        </td><td>1001-01-01   </td><td>M            </td></tr>\n",
       "\t<tr><td>3            </td><td>NarutoUzumaki</td><td>1001-03-01   </td><td>F            </td></tr>\n",
       "</tbody>\n",
       "</table>\n"
      ],
      "text/latex": [
       "\\begin{tabular}{r|llll}\n",
       " emp\\_id & emp\\_name & emp\\_date & gender\\\\\n",
       "\\hline\n",
       "\t 1             & Nanthiesh     & 2004-07-27    & M            \\\\\n",
       "\t 2             & Demon         & 1001-01-01    & M            \\\\\n",
       "\t 3             & NarutoUzumaki & 1001-03-01    & F            \\\\\n",
       "\\end{tabular}\n"
      ],
      "text/markdown": [
       "\n",
       "| emp_id | emp_name | emp_date | gender |\n",
       "|---|---|---|---|\n",
       "| 1             | Nanthiesh     | 2004-07-27    | M             |\n",
       "| 2             | Demon         | 1001-01-01    | M             |\n",
       "| 3             | NarutoUzumaki | 1001-03-01    | F             |\n",
       "\n"
      ],
      "text/plain": [
       "  emp_id emp_name      emp_date   gender\n",
       "1 1      Nanthiesh     2004-07-27 M     \n",
       "2 2      Demon         1001-01-01 M     \n",
       "3 3      NarutoUzumaki 1001-03-01 F     "
      ]
     },
     "metadata": {},
     "output_type": "display_data"
    }
   ],
   "source": [
    "df"
   ]
  },
  {
   "cell_type": "code",
   "execution_count": 85,
   "id": "6cc8146a",
   "metadata": {},
   "outputs": [
    {
     "data": {
      "text/plain": [
       "     emp_id             emp_name       emp_date gender\n",
       " Min.   :1.0   Demon        :1   1001-01-01:1   F:1   \n",
       " 1st Qu.:1.5   Nanthiesh    :1   1001-03-01:1   M:2   \n",
       " Median :2.0   NarutoUzumaki:1   2004-07-27:1         \n",
       " Mean   :2.0                                          \n",
       " 3rd Qu.:2.5                                          \n",
       " Max.   :3.0                                          "
      ]
     },
     "metadata": {},
     "output_type": "display_data"
    }
   ],
   "source": [
    "summary(df)"
   ]
  },
  {
   "cell_type": "code",
   "execution_count": 86,
   "id": "7f7b0b37",
   "metadata": {},
   "outputs": [
    {
     "name": "stdout",
     "output_type": "stream",
     "text": [
      "'data.frame':\t3 obs. of  4 variables:\n",
      " $ emp_id  : num  1 2 3\n",
      " $ emp_name: Factor w/ 3 levels \"Demon\",\"Nanthiesh\",..: 2 1 3\n",
      " $ emp_date: Factor w/ 3 levels \"1001-01-01\",\"1001-03-01\",..: 3 1 2\n",
      " $ gender  : Factor w/ 2 levels \"F\",\"M\": 2 2 1\n"
     ]
    }
   ],
   "source": [
    "str(df)"
   ]
  },
  {
   "cell_type": "code",
   "execution_count": 87,
   "id": "b19e9946",
   "metadata": {},
   "outputs": [
    {
     "data": {
      "text/html": [
       "<ol class=list-inline>\n",
       "\t<li>Nanthiesh</li>\n",
       "\t<li>Demon</li>\n",
       "\t<li>NarutoUzumaki</li>\n",
       "</ol>\n",
       "\n",
       "<details>\n",
       "\t<summary style=display:list-item;cursor:pointer>\n",
       "\t\t<strong>Levels</strong>:\n",
       "\t</summary>\n",
       "\t<ol class=list-inline>\n",
       "\t\t<li>'Demon'</li>\n",
       "\t\t<li>'Nanthiesh'</li>\n",
       "\t\t<li>'NarutoUzumaki'</li>\n",
       "\t</ol>\n",
       "</details>"
      ],
      "text/latex": [
       "\\begin{enumerate*}\n",
       "\\item Nanthiesh\n",
       "\\item Demon\n",
       "\\item NarutoUzumaki\n",
       "\\end{enumerate*}\n",
       "\n",
       "\\emph{Levels}: \\begin{enumerate*}\n",
       "\\item 'Demon'\n",
       "\\item 'Nanthiesh'\n",
       "\\item 'NarutoUzumaki'\n",
       "\\end{enumerate*}\n"
      ],
      "text/markdown": [
       "1. Nanthiesh\n",
       "2. Demon\n",
       "3. NarutoUzumaki\n",
       "\n",
       "\n",
       "\n",
       "**Levels**: 1. 'Demon'\n",
       "2. 'Nanthiesh'\n",
       "3. 'NarutoUzumaki'\n",
       "\n",
       "\n"
      ],
      "text/plain": [
       "[1] Nanthiesh     Demon         NarutoUzumaki\n",
       "Levels: Demon Nanthiesh NarutoUzumaki"
      ]
     },
     "metadata": {},
     "output_type": "display_data"
    }
   ],
   "source": [
    "df[,2]"
   ]
  },
  {
   "cell_type": "code",
   "execution_count": 89,
   "id": "fc3f1bfb",
   "metadata": {},
   "outputs": [
    {
     "data": {
      "text/html": [
       "<table>\n",
       "<thead><tr><th></th><th scope=col>emp_id</th><th scope=col>emp_name</th><th scope=col>emp_date</th><th scope=col>gender</th></tr></thead>\n",
       "<tbody>\n",
       "\t<tr><th scope=row>3</th><td>3            </td><td>NarutoUzumaki</td><td>1001-03-01   </td><td>F            </td></tr>\n",
       "</tbody>\n",
       "</table>\n"
      ],
      "text/latex": [
       "\\begin{tabular}{r|llll}\n",
       "  & emp\\_id & emp\\_name & emp\\_date & gender\\\\\n",
       "\\hline\n",
       "\t3 & 3             & NarutoUzumaki & 1001-03-01    & F            \\\\\n",
       "\\end{tabular}\n"
      ],
      "text/markdown": [
       "\n",
       "| <!--/--> | emp_id | emp_name | emp_date | gender |\n",
       "|---|---|---|---|---|\n",
       "| 3 | 3             | NarutoUzumaki | 1001-03-01    | F             |\n",
       "\n"
      ],
      "text/plain": [
       "  emp_id emp_name      emp_date   gender\n",
       "3 3      NarutoUzumaki 1001-03-01 F     "
      ]
     },
     "metadata": {},
     "output_type": "display_data"
    }
   ],
   "source": [
    "df[3,]"
   ]
  },
  {
   "cell_type": "code",
   "execution_count": 92,
   "id": "90140171",
   "metadata": {},
   "outputs": [
    {
     "data": {
      "text/plain": [
       "\n",
       "F M \n",
       "1 2 "
      ]
     },
     "metadata": {},
     "output_type": "display_data"
    }
   ],
   "source": [
    "table(df$gen)"
   ]
  },
  {
   "cell_type": "code",
   "execution_count": 93,
   "id": "e637825b",
   "metadata": {},
   "outputs": [
    {
     "data": {
      "text/html": [
       "<table>\n",
       "<thead><tr><th scope=col>emp_name</th></tr></thead>\n",
       "<tbody>\n",
       "\t<tr><td>Nanthiesh    </td></tr>\n",
       "\t<tr><td>Demon        </td></tr>\n",
       "\t<tr><td>NarutoUzumaki</td></tr>\n",
       "</tbody>\n",
       "</table>\n"
      ],
      "text/latex": [
       "\\begin{tabular}{r|l}\n",
       " emp\\_name\\\\\n",
       "\\hline\n",
       "\t Nanthiesh    \\\\\n",
       "\t Demon        \\\\\n",
       "\t NarutoUzumaki\\\\\n",
       "\\end{tabular}\n"
      ],
      "text/markdown": [
       "\n",
       "| emp_name |\n",
       "|---|\n",
       "| Nanthiesh     |\n",
       "| Demon         |\n",
       "| NarutoUzumaki |\n",
       "\n"
      ],
      "text/plain": [
       "  emp_name     \n",
       "1 Nanthiesh    \n",
       "2 Demon        \n",
       "3 NarutoUzumaki"
      ]
     },
     "metadata": {},
     "output_type": "display_data"
    }
   ],
   "source": [
    "df[\"emp_name\"]"
   ]
  },
  {
   "cell_type": "code",
   "execution_count": 94,
   "id": "ff391b25",
   "metadata": {},
   "outputs": [
    {
     "data": {
      "text/html": [
       "<ol class=list-inline>\n",
       "\t<li>Nanthiesh</li>\n",
       "\t<li>Demon</li>\n",
       "\t<li>NarutoUzumaki</li>\n",
       "</ol>\n",
       "\n",
       "<details>\n",
       "\t<summary style=display:list-item;cursor:pointer>\n",
       "\t\t<strong>Levels</strong>:\n",
       "\t</summary>\n",
       "\t<ol class=list-inline>\n",
       "\t\t<li>'Demon'</li>\n",
       "\t\t<li>'Nanthiesh'</li>\n",
       "\t\t<li>'NarutoUzumaki'</li>\n",
       "\t</ol>\n",
       "</details>"
      ],
      "text/latex": [
       "\\begin{enumerate*}\n",
       "\\item Nanthiesh\n",
       "\\item Demon\n",
       "\\item NarutoUzumaki\n",
       "\\end{enumerate*}\n",
       "\n",
       "\\emph{Levels}: \\begin{enumerate*}\n",
       "\\item 'Demon'\n",
       "\\item 'Nanthiesh'\n",
       "\\item 'NarutoUzumaki'\n",
       "\\end{enumerate*}\n"
      ],
      "text/markdown": [
       "1. Nanthiesh\n",
       "2. Demon\n",
       "3. NarutoUzumaki\n",
       "\n",
       "\n",
       "\n",
       "**Levels**: 1. 'Demon'\n",
       "2. 'Nanthiesh'\n",
       "3. 'NarutoUzumaki'\n",
       "\n",
       "\n"
      ],
      "text/plain": [
       "[1] Nanthiesh     Demon         NarutoUzumaki\n",
       "Levels: Demon Nanthiesh NarutoUzumaki"
      ]
     },
     "metadata": {},
     "output_type": "display_data"
    }
   ],
   "source": [
    "df$emp_name"
   ]
  },
  {
   "cell_type": "code",
   "execution_count": 95,
   "id": "7096c648",
   "metadata": {},
   "outputs": [
    {
     "data": {
      "text/html": [
       "<table>\n",
       "<thead><tr><th scope=col>df.emp_name</th><th scope=col>df.emp_date</th></tr></thead>\n",
       "<tbody>\n",
       "\t<tr><td>Nanthiesh    </td><td>2004-07-27   </td></tr>\n",
       "\t<tr><td>Demon        </td><td>1001-01-01   </td></tr>\n",
       "\t<tr><td>NarutoUzumaki</td><td>1001-03-01   </td></tr>\n",
       "</tbody>\n",
       "</table>\n"
      ],
      "text/latex": [
       "\\begin{tabular}{r|ll}\n",
       " df.emp\\_name & df.emp\\_date\\\\\n",
       "\\hline\n",
       "\t Nanthiesh     & 2004-07-27   \\\\\n",
       "\t Demon         & 1001-01-01   \\\\\n",
       "\t NarutoUzumaki & 1001-03-01   \\\\\n",
       "\\end{tabular}\n"
      ],
      "text/markdown": [
       "\n",
       "| df.emp_name | df.emp_date |\n",
       "|---|---|\n",
       "| Nanthiesh     | 2004-07-27    |\n",
       "| Demon         | 1001-01-01    |\n",
       "| NarutoUzumaki | 1001-03-01    |\n",
       "\n"
      ],
      "text/plain": [
       "  df.emp_name   df.emp_date\n",
       "1 Nanthiesh     2004-07-27 \n",
       "2 Demon         1001-01-01 \n",
       "3 NarutoUzumaki 1001-03-01 "
      ]
     },
     "metadata": {},
     "output_type": "display_data"
    }
   ],
   "source": [
    "# to find only the employee name and employee date\n",
    "\n",
    "data.frame(df$emp_name, df$emp_date)"
   ]
  },
  {
   "cell_type": "code",
   "execution_count": 99,
   "id": "52ea6c45",
   "metadata": {},
   "outputs": [
    {
     "data": {
      "text/html": [
       "<table>\n",
       "<thead><tr><th scope=col>emp_name</th><th scope=col>emp_date</th><th scope=col>emp_id</th></tr></thead>\n",
       "<tbody>\n",
       "\t<tr><td>Nanthiesh    </td><td>2004-07-27   </td><td>1            </td></tr>\n",
       "\t<tr><td>Demon        </td><td>1001-01-01   </td><td>2            </td></tr>\n",
       "\t<tr><td>NarutoUzumaki</td><td>1001-03-01   </td><td>3            </td></tr>\n",
       "</tbody>\n",
       "</table>\n"
      ],
      "text/latex": [
       "\\begin{tabular}{r|lll}\n",
       " emp\\_name & emp\\_date & emp\\_id\\\\\n",
       "\\hline\n",
       "\t Nanthiesh     & 2004-07-27    & 1            \\\\\n",
       "\t Demon         & 1001-01-01    & 2            \\\\\n",
       "\t NarutoUzumaki & 1001-03-01    & 3            \\\\\n",
       "\\end{tabular}\n"
      ],
      "text/markdown": [
       "\n",
       "| emp_name | emp_date | emp_id |\n",
       "|---|---|---|\n",
       "| Nanthiesh     | 2004-07-27    | 1             |\n",
       "| Demon         | 1001-01-01    | 2             |\n",
       "| NarutoUzumaki | 1001-03-01    | 3             |\n",
       "\n"
      ],
      "text/plain": [
       "  emp_name      emp_date   emp_id\n",
       "1 Nanthiesh     2004-07-27 1     \n",
       "2 Demon         1001-01-01 2     \n",
       "3 NarutoUzumaki 1001-03-01 3     "
      ]
     },
     "metadata": {},
     "output_type": "display_data"
    }
   ],
   "source": [
    "# sorting the data with joining date\n",
    "\n",
    "df[with(df,order(c(emp_date)))]"
   ]
  },
  {
   "cell_type": "code",
   "execution_count": 97,
   "id": "103c1239",
   "metadata": {},
   "outputs": [
    {
     "data": {
      "text/html": [
       "<table>\n",
       "<thead><tr><th scope=col>emp_name</th><th scope=col>emp_id</th><th scope=col>emp_date</th></tr></thead>\n",
       "<tbody>\n",
       "\t<tr><td>Nanthiesh    </td><td>1            </td><td>2004-07-27   </td></tr>\n",
       "\t<tr><td>Demon        </td><td>2            </td><td>1001-01-01   </td></tr>\n",
       "\t<tr><td>NarutoUzumaki</td><td>3            </td><td>1001-03-01   </td></tr>\n",
       "</tbody>\n",
       "</table>\n"
      ],
      "text/latex": [
       "\\begin{tabular}{r|lll}\n",
       " emp\\_name & emp\\_id & emp\\_date\\\\\n",
       "\\hline\n",
       "\t Nanthiesh     & 1             & 2004-07-27   \\\\\n",
       "\t Demon         & 2             & 1001-01-01   \\\\\n",
       "\t NarutoUzumaki & 3             & 1001-03-01   \\\\\n",
       "\\end{tabular}\n"
      ],
      "text/markdown": [
       "\n",
       "| emp_name | emp_id | emp_date |\n",
       "|---|---|---|\n",
       "| Nanthiesh     | 1             | 2004-07-27    |\n",
       "| Demon         | 2             | 1001-01-01    |\n",
       "| NarutoUzumaki | 3             | 1001-03-01    |\n",
       "\n"
      ],
      "text/plain": [
       "  emp_name      emp_id emp_date  \n",
       "1 Nanthiesh     1      2004-07-27\n",
       "2 Demon         2      1001-01-01\n",
       "3 NarutoUzumaki 3      1001-03-01"
      ]
     },
     "metadata": {},
     "output_type": "display_data"
    }
   ],
   "source": [
    "# sorting the data with employee name\n",
    "\n",
    "df[with(df,order(c(emp_name)))]"
   ]
  },
  {
   "cell_type": "code",
   "execution_count": null,
   "id": "a0befb33",
   "metadata": {},
   "outputs": [],
   "source": []
  }
 ],
 "metadata": {
  "kernelspec": {
   "display_name": "R",
   "language": "R",
   "name": "ir"
  },
  "language_info": {
   "codemirror_mode": "r",
   "file_extension": ".r",
   "mimetype": "text/x-r-source",
   "name": "R",
   "pygments_lexer": "r",
   "version": "3.6.1"
  }
 },
 "nbformat": 4,
 "nbformat_minor": 5
}
